{
 "metadata": {
  "language_info": {
   "codemirror_mode": {
    "name": "ipython",
    "version": 3
   },
   "file_extension": ".py",
   "mimetype": "text/x-python",
   "name": "python",
   "nbconvert_exporter": "python",
   "pygments_lexer": "ipython3",
   "version": "3.7.4-final"
  },
  "orig_nbformat": 2,
  "kernelspec": {
   "name": "python3",
   "display_name": "Python 3",
   "language": "python"
  }
 },
 "nbformat": 4,
 "nbformat_minor": 2,
 "cells": [
  {
   "cell_type": "code",
   "execution_count": 36,
   "metadata": {},
   "outputs": [],
   "source": [
    "import pandas as pd \n",
    "import numpy as np \n",
    "import matplotlib.pyplot as plt \n",
    "import seaborn as sns\n",
    "%matplotlib inline"
   ]
  },
  {
   "cell_type": "code",
   "execution_count": 37,
   "metadata": {},
   "outputs": [
    {
     "output_type": "execute_result",
     "data": {
      "text/plain": [
       "              area_type   availability                  location       size  \\\n",
       "0  Super built-up  Area         19-Dec  Electronic City Phase II      2 BHK   \n",
       "1            Plot  Area  Ready To Move          Chikka Tirupathi  4 Bedroom   \n",
       "2        Built-up  Area  Ready To Move               Uttarahalli      3 BHK   \n",
       "3  Super built-up  Area  Ready To Move        Lingadheeranahalli      3 BHK   \n",
       "4  Super built-up  Area  Ready To Move                  Kothanur      2 BHK   \n",
       "\n",
       "   society total_sqft  bath  balcony   price  \n",
       "0  Coomee        1056   2.0      1.0   39.07  \n",
       "1  Theanmp       2600   5.0      3.0  120.00  \n",
       "2      NaN       1440   2.0      3.0   62.00  \n",
       "3  Soiewre       1521   3.0      1.0   95.00  \n",
       "4      NaN       1200   2.0      1.0   51.00  "
      ],
      "text/html": "<div>\n<style scoped>\n    .dataframe tbody tr th:only-of-type {\n        vertical-align: middle;\n    }\n\n    .dataframe tbody tr th {\n        vertical-align: top;\n    }\n\n    .dataframe thead th {\n        text-align: right;\n    }\n</style>\n<table border=\"1\" class=\"dataframe\">\n  <thead>\n    <tr style=\"text-align: right;\">\n      <th></th>\n      <th>area_type</th>\n      <th>availability</th>\n      <th>location</th>\n      <th>size</th>\n      <th>society</th>\n      <th>total_sqft</th>\n      <th>bath</th>\n      <th>balcony</th>\n      <th>price</th>\n    </tr>\n  </thead>\n  <tbody>\n    <tr>\n      <td>0</td>\n      <td>Super built-up  Area</td>\n      <td>19-Dec</td>\n      <td>Electronic City Phase II</td>\n      <td>2 BHK</td>\n      <td>Coomee</td>\n      <td>1056</td>\n      <td>2.0</td>\n      <td>1.0</td>\n      <td>39.07</td>\n    </tr>\n    <tr>\n      <td>1</td>\n      <td>Plot  Area</td>\n      <td>Ready To Move</td>\n      <td>Chikka Tirupathi</td>\n      <td>4 Bedroom</td>\n      <td>Theanmp</td>\n      <td>2600</td>\n      <td>5.0</td>\n      <td>3.0</td>\n      <td>120.00</td>\n    </tr>\n    <tr>\n      <td>2</td>\n      <td>Built-up  Area</td>\n      <td>Ready To Move</td>\n      <td>Uttarahalli</td>\n      <td>3 BHK</td>\n      <td>NaN</td>\n      <td>1440</td>\n      <td>2.0</td>\n      <td>3.0</td>\n      <td>62.00</td>\n    </tr>\n    <tr>\n      <td>3</td>\n      <td>Super built-up  Area</td>\n      <td>Ready To Move</td>\n      <td>Lingadheeranahalli</td>\n      <td>3 BHK</td>\n      <td>Soiewre</td>\n      <td>1521</td>\n      <td>3.0</td>\n      <td>1.0</td>\n      <td>95.00</td>\n    </tr>\n    <tr>\n      <td>4</td>\n      <td>Super built-up  Area</td>\n      <td>Ready To Move</td>\n      <td>Kothanur</td>\n      <td>2 BHK</td>\n      <td>NaN</td>\n      <td>1200</td>\n      <td>2.0</td>\n      <td>1.0</td>\n      <td>51.00</td>\n    </tr>\n  </tbody>\n</table>\n</div>"
     },
     "metadata": {},
     "execution_count": 37
    }
   ],
   "source": [
    "df = pd.read_csv('banglore.csv')\n",
    "df.head()"
   ]
  },
  {
   "cell_type": "code",
   "execution_count": 38,
   "metadata": {},
   "outputs": [
    {
     "output_type": "execute_result",
     "data": {
      "text/plain": [
       "(13320, 9)"
      ]
     },
     "metadata": {},
     "execution_count": 38
    }
   ],
   "source": [
    "df.shape"
   ]
  },
  {
   "cell_type": "code",
   "execution_count": 39,
   "metadata": {},
   "outputs": [
    {
     "output_type": "stream",
     "name": "stdout",
     "text": [
      "<class 'pandas.core.frame.DataFrame'>\nRangeIndex: 13320 entries, 0 to 13319\nData columns (total 9 columns):\narea_type       13320 non-null object\navailability    13320 non-null object\nlocation        13319 non-null object\nsize            13304 non-null object\nsociety         7818 non-null object\ntotal_sqft      13320 non-null object\nbath            13247 non-null float64\nbalcony         12711 non-null float64\nprice           13320 non-null float64\ndtypes: float64(3), object(6)\nmemory usage: 936.7+ KB\n"
     ]
    }
   ],
   "source": [
    "df.info()"
   ]
  },
  {
   "cell_type": "code",
   "execution_count": 40,
   "metadata": {},
   "outputs": [
    {
     "output_type": "execute_result",
     "data": {
      "text/plain": [
       "area_type          0\n",
       "availability       0\n",
       "location           1\n",
       "size              16\n",
       "society         5502\n",
       "total_sqft         0\n",
       "bath              73\n",
       "balcony          609\n",
       "price              0\n",
       "dtype: int64"
      ]
     },
     "metadata": {},
     "execution_count": 40
    }
   ],
   "source": [
    "df.isnull().sum()"
   ]
  },
  {
   "cell_type": "code",
   "execution_count": 41,
   "metadata": {},
   "outputs": [
    {
     "output_type": "execute_result",
     "data": {
      "text/plain": [
       "              area_type   availability                  location       size  \\\n",
       "0  Super built-up  Area         19-Dec  Electronic City Phase II      2 BHK   \n",
       "1            Plot  Area  Ready To Move          Chikka Tirupathi  4 Bedroom   \n",
       "2        Built-up  Area  Ready To Move               Uttarahalli      3 BHK   \n",
       "3  Super built-up  Area  Ready To Move        Lingadheeranahalli      3 BHK   \n",
       "4  Super built-up  Area  Ready To Move                  Kothanur      2 BHK   \n",
       "\n",
       "   society total_sqft  bath  balcony   price  \n",
       "0  Coomee        1056   2.0      1.0   39.07  \n",
       "1  Theanmp       2600   5.0      3.0  120.00  \n",
       "2      NaN       1440   2.0      3.0   62.00  \n",
       "3  Soiewre       1521   3.0      1.0   95.00  \n",
       "4      NaN       1200   2.0      1.0   51.00  "
      ],
      "text/html": "<div>\n<style scoped>\n    .dataframe tbody tr th:only-of-type {\n        vertical-align: middle;\n    }\n\n    .dataframe tbody tr th {\n        vertical-align: top;\n    }\n\n    .dataframe thead th {\n        text-align: right;\n    }\n</style>\n<table border=\"1\" class=\"dataframe\">\n  <thead>\n    <tr style=\"text-align: right;\">\n      <th></th>\n      <th>area_type</th>\n      <th>availability</th>\n      <th>location</th>\n      <th>size</th>\n      <th>society</th>\n      <th>total_sqft</th>\n      <th>bath</th>\n      <th>balcony</th>\n      <th>price</th>\n    </tr>\n  </thead>\n  <tbody>\n    <tr>\n      <td>0</td>\n      <td>Super built-up  Area</td>\n      <td>19-Dec</td>\n      <td>Electronic City Phase II</td>\n      <td>2 BHK</td>\n      <td>Coomee</td>\n      <td>1056</td>\n      <td>2.0</td>\n      <td>1.0</td>\n      <td>39.07</td>\n    </tr>\n    <tr>\n      <td>1</td>\n      <td>Plot  Area</td>\n      <td>Ready To Move</td>\n      <td>Chikka Tirupathi</td>\n      <td>4 Bedroom</td>\n      <td>Theanmp</td>\n      <td>2600</td>\n      <td>5.0</td>\n      <td>3.0</td>\n      <td>120.00</td>\n    </tr>\n    <tr>\n      <td>2</td>\n      <td>Built-up  Area</td>\n      <td>Ready To Move</td>\n      <td>Uttarahalli</td>\n      <td>3 BHK</td>\n      <td>NaN</td>\n      <td>1440</td>\n      <td>2.0</td>\n      <td>3.0</td>\n      <td>62.00</td>\n    </tr>\n    <tr>\n      <td>3</td>\n      <td>Super built-up  Area</td>\n      <td>Ready To Move</td>\n      <td>Lingadheeranahalli</td>\n      <td>3 BHK</td>\n      <td>Soiewre</td>\n      <td>1521</td>\n      <td>3.0</td>\n      <td>1.0</td>\n      <td>95.00</td>\n    </tr>\n    <tr>\n      <td>4</td>\n      <td>Super built-up  Area</td>\n      <td>Ready To Move</td>\n      <td>Kothanur</td>\n      <td>2 BHK</td>\n      <td>NaN</td>\n      <td>1200</td>\n      <td>2.0</td>\n      <td>1.0</td>\n      <td>51.00</td>\n    </tr>\n  </tbody>\n</table>\n</div>"
     },
     "metadata": {},
     "execution_count": 41
    }
   ],
   "source": [
    "df.head()"
   ]
  },
  {
   "cell_type": "code",
   "execution_count": 42,
   "metadata": {},
   "outputs": [
    {
     "output_type": "execute_result",
     "data": {
      "text/plain": [
       "(13320, 5)"
      ]
     },
     "metadata": {},
     "execution_count": 42
    }
   ],
   "source": [
    "#dropping variables that does not contribute in building a generalized\n",
    "df = df.drop(['area_type','society','balcony','availability'],axis='columns')\n",
    "df.shape"
   ]
  },
  {
   "cell_type": "code",
   "execution_count": 43,
   "metadata": {},
   "outputs": [
    {
     "output_type": "execute_result",
     "data": {
      "text/plain": [
       "location       1\n",
       "size          16\n",
       "total_sqft     0\n",
       "bath          73\n",
       "price          0\n",
       "dtype: int64"
      ]
     },
     "metadata": {},
     "execution_count": 43
    }
   ],
   "source": [
    "df.isnull().sum()"
   ]
  },
  {
   "cell_type": "code",
   "execution_count": 44,
   "metadata": {},
   "outputs": [],
   "source": [
    "df = df.dropna()  "
   ]
  },
  {
   "cell_type": "code",
   "execution_count": 45,
   "metadata": {},
   "outputs": [
    {
     "output_type": "execute_result",
     "data": {
      "text/plain": [
       "location      0\n",
       "size          0\n",
       "total_sqft    0\n",
       "bath          0\n",
       "price         0\n",
       "dtype: int64"
      ]
     },
     "metadata": {},
     "execution_count": 45
    }
   ],
   "source": [
    "df.isnull().sum()"
   ]
  },
  {
   "cell_type": "code",
   "execution_count": 46,
   "metadata": {},
   "outputs": [
    {
     "output_type": "execute_result",
     "data": {
      "text/plain": [
       "dtype('O')"
      ]
     },
     "metadata": {},
     "execution_count": 46
    }
   ],
   "source": [
    "df['total_sqft'].dtype"
   ]
  },
  {
   "cell_type": "code",
   "execution_count": 47,
   "metadata": {},
   "outputs": [],
   "source": [
    "j=0\n",
    "obs=[]\n",
    "for i in df[\"total_sqft\"]:\n",
    "    if '-' in i:\n",
    "      obs.append(j)\n",
    "    j=j+1"
   ]
  },
  {
   "cell_type": "code",
   "execution_count": 48,
   "metadata": {},
   "outputs": [],
   "source": [
    "#function to change the data type of the variable \"total_sqft\"\n",
    "def convert_sqft_to_num(x):\n",
    "    tokens = x.split('-')\n",
    "    if len(tokens) == 2:\n",
    "        return (float(tokens[0])+float(tokens[1]))/2\n",
    "    try:\n",
    "        return float(x)\n",
    "    except:\n",
    "        return None"
   ]
  },
  {
   "cell_type": "code",
   "execution_count": 49,
   "metadata": {},
   "outputs": [
    {
     "output_type": "execute_result",
     "data": {
      "text/plain": [
       "                   location       size  total_sqft  bath   price\n",
       "0  Electronic City Phase II      2 BHK      1056.0   2.0   39.07\n",
       "1          Chikka Tirupathi  4 Bedroom      2600.0   5.0  120.00\n",
       "2               Uttarahalli      3 BHK      1440.0   2.0   62.00\n",
       "3        Lingadheeranahalli      3 BHK      1521.0   3.0   95.00\n",
       "4                  Kothanur      2 BHK      1200.0   2.0   51.00"
      ],
      "text/html": "<div>\n<style scoped>\n    .dataframe tbody tr th:only-of-type {\n        vertical-align: middle;\n    }\n\n    .dataframe tbody tr th {\n        vertical-align: top;\n    }\n\n    .dataframe thead th {\n        text-align: right;\n    }\n</style>\n<table border=\"1\" class=\"dataframe\">\n  <thead>\n    <tr style=\"text-align: right;\">\n      <th></th>\n      <th>location</th>\n      <th>size</th>\n      <th>total_sqft</th>\n      <th>bath</th>\n      <th>price</th>\n    </tr>\n  </thead>\n  <tbody>\n    <tr>\n      <td>0</td>\n      <td>Electronic City Phase II</td>\n      <td>2 BHK</td>\n      <td>1056.0</td>\n      <td>2.0</td>\n      <td>39.07</td>\n    </tr>\n    <tr>\n      <td>1</td>\n      <td>Chikka Tirupathi</td>\n      <td>4 Bedroom</td>\n      <td>2600.0</td>\n      <td>5.0</td>\n      <td>120.00</td>\n    </tr>\n    <tr>\n      <td>2</td>\n      <td>Uttarahalli</td>\n      <td>3 BHK</td>\n      <td>1440.0</td>\n      <td>2.0</td>\n      <td>62.00</td>\n    </tr>\n    <tr>\n      <td>3</td>\n      <td>Lingadheeranahalli</td>\n      <td>3 BHK</td>\n      <td>1521.0</td>\n      <td>3.0</td>\n      <td>95.00</td>\n    </tr>\n    <tr>\n      <td>4</td>\n      <td>Kothanur</td>\n      <td>2 BHK</td>\n      <td>1200.0</td>\n      <td>2.0</td>\n      <td>51.00</td>\n    </tr>\n  </tbody>\n</table>\n</div>"
     },
     "metadata": {},
     "execution_count": 49
    }
   ],
   "source": [
    "df['total_sqft'] = df['total_sqft'].apply(convert_sqft_to_num)\n",
    "df = df[df.total_sqft.notnull()]\n",
    "df.head(5)"
   ]
  },
  {
   "cell_type": "code",
   "execution_count": 50,
   "metadata": {},
   "outputs": [
    {
     "output_type": "execute_result",
     "data": {
      "text/plain": [
       "dtype('float64')"
      ]
     },
     "metadata": {},
     "execution_count": 50
    }
   ],
   "source": [
    "df['total_sqft'].dtype"
   ]
  },
  {
   "cell_type": "code",
   "execution_count": 51,
   "metadata": {},
   "outputs": [
    {
     "output_type": "execute_result",
     "data": {
      "text/plain": [
       "array([ 2,  4,  3,  6,  1,  8,  7,  5, 11,  9, 27, 10, 19, 16, 43, 14, 12,\n",
       "       13, 18], dtype=int64)"
      ]
     },
     "metadata": {},
     "execution_count": 51
    }
   ],
   "source": [
    "df['bhk'] = df['size'].apply(lambda x: int(x.split(' ')[0]))\n",
    "df.bhk.unique()"
   ]
  },
  {
   "cell_type": "code",
   "execution_count": 52,
   "metadata": {},
   "outputs": [
    {
     "output_type": "execute_result",
     "data": {
      "text/plain": [
       "                   location       size  total_sqft  bath   price  bhk\n",
       "0  Electronic City Phase II      2 BHK      1056.0   2.0   39.07    2\n",
       "1          Chikka Tirupathi  4 Bedroom      2600.0   5.0  120.00    4\n",
       "2               Uttarahalli      3 BHK      1440.0   2.0   62.00    3\n",
       "3        Lingadheeranahalli      3 BHK      1521.0   3.0   95.00    3\n",
       "4                  Kothanur      2 BHK      1200.0   2.0   51.00    2"
      ],
      "text/html": "<div>\n<style scoped>\n    .dataframe tbody tr th:only-of-type {\n        vertical-align: middle;\n    }\n\n    .dataframe tbody tr th {\n        vertical-align: top;\n    }\n\n    .dataframe thead th {\n        text-align: right;\n    }\n</style>\n<table border=\"1\" class=\"dataframe\">\n  <thead>\n    <tr style=\"text-align: right;\">\n      <th></th>\n      <th>location</th>\n      <th>size</th>\n      <th>total_sqft</th>\n      <th>bath</th>\n      <th>price</th>\n      <th>bhk</th>\n    </tr>\n  </thead>\n  <tbody>\n    <tr>\n      <td>0</td>\n      <td>Electronic City Phase II</td>\n      <td>2 BHK</td>\n      <td>1056.0</td>\n      <td>2.0</td>\n      <td>39.07</td>\n      <td>2</td>\n    </tr>\n    <tr>\n      <td>1</td>\n      <td>Chikka Tirupathi</td>\n      <td>4 Bedroom</td>\n      <td>2600.0</td>\n      <td>5.0</td>\n      <td>120.00</td>\n      <td>4</td>\n    </tr>\n    <tr>\n      <td>2</td>\n      <td>Uttarahalli</td>\n      <td>3 BHK</td>\n      <td>1440.0</td>\n      <td>2.0</td>\n      <td>62.00</td>\n      <td>3</td>\n    </tr>\n    <tr>\n      <td>3</td>\n      <td>Lingadheeranahalli</td>\n      <td>3 BHK</td>\n      <td>1521.0</td>\n      <td>3.0</td>\n      <td>95.00</td>\n      <td>3</td>\n    </tr>\n    <tr>\n      <td>4</td>\n      <td>Kothanur</td>\n      <td>2 BHK</td>\n      <td>1200.0</td>\n      <td>2.0</td>\n      <td>51.00</td>\n      <td>2</td>\n    </tr>\n  </tbody>\n</table>\n</div>"
     },
     "metadata": {},
     "execution_count": 52
    }
   ],
   "source": [
    "df.head()"
   ]
  },
  {
   "cell_type": "code",
   "execution_count": 53,
   "metadata": {},
   "outputs": [
    {
     "output_type": "execute_result",
     "data": {
      "text/plain": [
       "                   location       size  total_sqft  bath   price  bhk  \\\n",
       "0  Electronic City Phase II      2 BHK      1056.0   2.0   39.07    2   \n",
       "1          Chikka Tirupathi  4 Bedroom      2600.0   5.0  120.00    4   \n",
       "2               Uttarahalli      3 BHK      1440.0   2.0   62.00    3   \n",
       "3        Lingadheeranahalli      3 BHK      1521.0   3.0   95.00    3   \n",
       "4                  Kothanur      2 BHK      1200.0   2.0   51.00    2   \n",
       "\n",
       "   price_per_sqft  \n",
       "0     3699.810606  \n",
       "1     4615.384615  \n",
       "2     4305.555556  \n",
       "3     6245.890861  \n",
       "4     4250.000000  "
      ],
      "text/html": "<div>\n<style scoped>\n    .dataframe tbody tr th:only-of-type {\n        vertical-align: middle;\n    }\n\n    .dataframe tbody tr th {\n        vertical-align: top;\n    }\n\n    .dataframe thead th {\n        text-align: right;\n    }\n</style>\n<table border=\"1\" class=\"dataframe\">\n  <thead>\n    <tr style=\"text-align: right;\">\n      <th></th>\n      <th>location</th>\n      <th>size</th>\n      <th>total_sqft</th>\n      <th>bath</th>\n      <th>price</th>\n      <th>bhk</th>\n      <th>price_per_sqft</th>\n    </tr>\n  </thead>\n  <tbody>\n    <tr>\n      <td>0</td>\n      <td>Electronic City Phase II</td>\n      <td>2 BHK</td>\n      <td>1056.0</td>\n      <td>2.0</td>\n      <td>39.07</td>\n      <td>2</td>\n      <td>3699.810606</td>\n    </tr>\n    <tr>\n      <td>1</td>\n      <td>Chikka Tirupathi</td>\n      <td>4 Bedroom</td>\n      <td>2600.0</td>\n      <td>5.0</td>\n      <td>120.00</td>\n      <td>4</td>\n      <td>4615.384615</td>\n    </tr>\n    <tr>\n      <td>2</td>\n      <td>Uttarahalli</td>\n      <td>3 BHK</td>\n      <td>1440.0</td>\n      <td>2.0</td>\n      <td>62.00</td>\n      <td>3</td>\n      <td>4305.555556</td>\n    </tr>\n    <tr>\n      <td>3</td>\n      <td>Lingadheeranahalli</td>\n      <td>3 BHK</td>\n      <td>1521.0</td>\n      <td>3.0</td>\n      <td>95.00</td>\n      <td>3</td>\n      <td>6245.890861</td>\n    </tr>\n    <tr>\n      <td>4</td>\n      <td>Kothanur</td>\n      <td>2 BHK</td>\n      <td>1200.0</td>\n      <td>2.0</td>\n      <td>51.00</td>\n      <td>2</td>\n      <td>4250.000000</td>\n    </tr>\n  </tbody>\n</table>\n</div>"
     },
     "metadata": {},
     "execution_count": 53
    }
   ],
   "source": [
    "#Now we find the price per square feet by deviding price by tatal square feet\n",
    "#Price is given in lakhs form,so, we have to convert it in rupees by multiply 100000 to price\n",
    "df['price_per_sqft'] = df['price']*100000/df['total_sqft']\n",
    "df.head()"
   ]
  },
  {
   "cell_type": "code",
   "execution_count": 54,
   "metadata": {},
   "outputs": [
    {
     "output_type": "execute_result",
     "data": {
      "text/plain": [
       "Whitefield                  533\n",
       "Sarjapur  Road              392\n",
       "Electronic City             304\n",
       "Kanakpura Road              264\n",
       "Thanisandra                 235\n",
       "                           ... \n",
       "Deepanjali Nagar              1\n",
       "Howthinarayanappa Garden      1\n",
       "Billapura                     1\n",
       "Anathanagar                   1\n",
       "ITI Employees Layout          1\n",
       "Name: location, Length: 1287, dtype: int64"
      ]
     },
     "metadata": {},
     "execution_count": 54
    }
   ],
   "source": [
    "df.location = df.location.apply(lambda x: x.strip())\n",
    "location_stats = df['location'].value_counts(ascending=False)\n",
    "location_stats"
   ]
  },
  {
   "cell_type": "code",
   "execution_count": 55,
   "metadata": {},
   "outputs": [
    {
     "output_type": "execute_result",
     "data": {
      "text/plain": [
       "240"
      ]
     },
     "metadata": {},
     "execution_count": 55
    }
   ],
   "source": [
    "len(location_stats[location_stats>10])"
   ]
  },
  {
   "cell_type": "code",
   "execution_count": 56,
   "metadata": {},
   "outputs": [
    {
     "output_type": "execute_result",
     "data": {
      "text/plain": [
       "1047"
      ]
     },
     "metadata": {},
     "execution_count": 56
    }
   ],
   "source": [
    "len(location_stats[location_stats<=10])"
   ]
  },
  {
   "cell_type": "code",
   "execution_count": 57,
   "metadata": {},
   "outputs": [
    {
     "output_type": "execute_result",
     "data": {
      "text/plain": [
       "Basapura                    10\n",
       "Sector 1 HSR Layout         10\n",
       "Naganathapura               10\n",
       "Nagappa Reddy Layout        10\n",
       "Sadashiva Nagar             10\n",
       "                            ..\n",
       "Deepanjali Nagar             1\n",
       "Howthinarayanappa Garden     1\n",
       "Billapura                    1\n",
       "Anathanagar                  1\n",
       "ITI Employees Layout         1\n",
       "Name: location, Length: 1047, dtype: int64"
      ]
     },
     "metadata": {},
     "execution_count": 57
    }
   ],
   "source": [
    "location_stats_less_than_10 = location_stats[location_stats<=10]\n",
    "location_stats_less_than_10"
   ]
  },
  {
   "cell_type": "code",
   "execution_count": 58,
   "metadata": {},
   "outputs": [
    {
     "output_type": "execute_result",
     "data": {
      "text/plain": [
       "1287"
      ]
     },
     "metadata": {},
     "execution_count": 58
    }
   ],
   "source": [
    "len(df.location.unique())"
   ]
  },
  {
   "cell_type": "code",
   "execution_count": 59,
   "metadata": {},
   "outputs": [
    {
     "output_type": "execute_result",
     "data": {
      "text/plain": [
       "241"
      ]
     },
     "metadata": {},
     "execution_count": 59
    }
   ],
   "source": [
    "#dropping the observations where the occurence of a city is less than 10\n",
    "df.location = df.location.apply(lambda x: 'other' if x in location_stats_less_than_10 else x)\n",
    "len(df.location.unique())"
   ]
  },
  {
   "cell_type": "code",
   "execution_count": 60,
   "metadata": {},
   "outputs": [
    {
     "output_type": "execute_result",
     "data": {
      "text/plain": [
       "               location       size  total_sqft  bath  price  bhk  \\\n",
       "9                 other  6 Bedroom      1020.0   6.0  370.0    6   \n",
       "45           HSR Layout  8 Bedroom       600.0   9.0  200.0    8   \n",
       "58        Murugeshpalya  6 Bedroom      1407.0   4.0  150.0    6   \n",
       "68  Devarachikkanahalli  8 Bedroom      1350.0   7.0   85.0    8   \n",
       "70                other  3 Bedroom       500.0   3.0  100.0    3   \n",
       "\n",
       "    price_per_sqft  \n",
       "9     36274.509804  \n",
       "45    33333.333333  \n",
       "58    10660.980810  \n",
       "68     6296.296296  \n",
       "70    20000.000000  "
      ],
      "text/html": "<div>\n<style scoped>\n    .dataframe tbody tr th:only-of-type {\n        vertical-align: middle;\n    }\n\n    .dataframe tbody tr th {\n        vertical-align: top;\n    }\n\n    .dataframe thead th {\n        text-align: right;\n    }\n</style>\n<table border=\"1\" class=\"dataframe\">\n  <thead>\n    <tr style=\"text-align: right;\">\n      <th></th>\n      <th>location</th>\n      <th>size</th>\n      <th>total_sqft</th>\n      <th>bath</th>\n      <th>price</th>\n      <th>bhk</th>\n      <th>price_per_sqft</th>\n    </tr>\n  </thead>\n  <tbody>\n    <tr>\n      <td>9</td>\n      <td>other</td>\n      <td>6 Bedroom</td>\n      <td>1020.0</td>\n      <td>6.0</td>\n      <td>370.0</td>\n      <td>6</td>\n      <td>36274.509804</td>\n    </tr>\n    <tr>\n      <td>45</td>\n      <td>HSR Layout</td>\n      <td>8 Bedroom</td>\n      <td>600.0</td>\n      <td>9.0</td>\n      <td>200.0</td>\n      <td>8</td>\n      <td>33333.333333</td>\n    </tr>\n    <tr>\n      <td>58</td>\n      <td>Murugeshpalya</td>\n      <td>6 Bedroom</td>\n      <td>1407.0</td>\n      <td>4.0</td>\n      <td>150.0</td>\n      <td>6</td>\n      <td>10660.980810</td>\n    </tr>\n    <tr>\n      <td>68</td>\n      <td>Devarachikkanahalli</td>\n      <td>8 Bedroom</td>\n      <td>1350.0</td>\n      <td>7.0</td>\n      <td>85.0</td>\n      <td>8</td>\n      <td>6296.296296</td>\n    </tr>\n    <tr>\n      <td>70</td>\n      <td>other</td>\n      <td>3 Bedroom</td>\n      <td>500.0</td>\n      <td>3.0</td>\n      <td>100.0</td>\n      <td>3</td>\n      <td>20000.000000</td>\n    </tr>\n  </tbody>\n</table>\n</div>"
     },
     "metadata": {},
     "execution_count": 60
    }
   ],
   "source": [
    "df[df.total_sqft/df.bhk<300].head()"
   ]
  },
  {
   "cell_type": "code",
   "execution_count": 61,
   "metadata": {},
   "outputs": [
    {
     "output_type": "execute_result",
     "data": {
      "text/plain": [
       "(12456, 7)"
      ]
     },
     "metadata": {},
     "execution_count": 61
    }
   ],
   "source": [
    "#Assumung that the total square feet for 1BHK should be greater than 300\n",
    "#we drop the observations which have less than 300 square feet for 1BHK\n",
    "df = df[~(df.total_sqft/df.bhk<300)]\n",
    "df.shape"
   ]
  },
  {
   "cell_type": "code",
   "execution_count": 62,
   "metadata": {},
   "outputs": [
    {
     "output_type": "execute_result",
     "data": {
      "text/plain": [
       "                   location       size  total_sqft  bath   price  bhk  \\\n",
       "0  Electronic City Phase II      2 BHK      1056.0   2.0   39.07    2   \n",
       "1          Chikka Tirupathi  4 Bedroom      2600.0   5.0  120.00    4   \n",
       "2               Uttarahalli      3 BHK      1440.0   2.0   62.00    3   \n",
       "3        Lingadheeranahalli      3 BHK      1521.0   3.0   95.00    3   \n",
       "4                  Kothanur      2 BHK      1200.0   2.0   51.00    2   \n",
       "\n",
       "   price_per_sqft  \n",
       "0     3699.810606  \n",
       "1     4615.384615  \n",
       "2     4305.555556  \n",
       "3     6245.890861  \n",
       "4     4250.000000  "
      ],
      "text/html": "<div>\n<style scoped>\n    .dataframe tbody tr th:only-of-type {\n        vertical-align: middle;\n    }\n\n    .dataframe tbody tr th {\n        vertical-align: top;\n    }\n\n    .dataframe thead th {\n        text-align: right;\n    }\n</style>\n<table border=\"1\" class=\"dataframe\">\n  <thead>\n    <tr style=\"text-align: right;\">\n      <th></th>\n      <th>location</th>\n      <th>size</th>\n      <th>total_sqft</th>\n      <th>bath</th>\n      <th>price</th>\n      <th>bhk</th>\n      <th>price_per_sqft</th>\n    </tr>\n  </thead>\n  <tbody>\n    <tr>\n      <td>0</td>\n      <td>Electronic City Phase II</td>\n      <td>2 BHK</td>\n      <td>1056.0</td>\n      <td>2.0</td>\n      <td>39.07</td>\n      <td>2</td>\n      <td>3699.810606</td>\n    </tr>\n    <tr>\n      <td>1</td>\n      <td>Chikka Tirupathi</td>\n      <td>4 Bedroom</td>\n      <td>2600.0</td>\n      <td>5.0</td>\n      <td>120.00</td>\n      <td>4</td>\n      <td>4615.384615</td>\n    </tr>\n    <tr>\n      <td>2</td>\n      <td>Uttarahalli</td>\n      <td>3 BHK</td>\n      <td>1440.0</td>\n      <td>2.0</td>\n      <td>62.00</td>\n      <td>3</td>\n      <td>4305.555556</td>\n    </tr>\n    <tr>\n      <td>3</td>\n      <td>Lingadheeranahalli</td>\n      <td>3 BHK</td>\n      <td>1521.0</td>\n      <td>3.0</td>\n      <td>95.00</td>\n      <td>3</td>\n      <td>6245.890861</td>\n    </tr>\n    <tr>\n      <td>4</td>\n      <td>Kothanur</td>\n      <td>2 BHK</td>\n      <td>1200.0</td>\n      <td>2.0</td>\n      <td>51.00</td>\n      <td>2</td>\n      <td>4250.000000</td>\n    </tr>\n  </tbody>\n</table>\n</div>"
     },
     "metadata": {},
     "execution_count": 62
    }
   ],
   "source": [
    "df.head()"
   ]
  },
  {
   "cell_type": "code",
   "execution_count": 63,
   "metadata": {},
   "outputs": [
    {
     "output_type": "execute_result",
     "data": {
      "text/plain": [
       "count     12456.000000\n",
       "mean       6308.502826\n",
       "std        4168.127339\n",
       "min         267.829813\n",
       "25%        4210.526316\n",
       "50%        5294.117647\n",
       "75%        6916.666667\n",
       "max      176470.588235\n",
       "Name: price_per_sqft, dtype: float64"
      ]
     },
     "metadata": {},
     "execution_count": 63
    }
   ],
   "source": [
    "df['price_per_sqft'].describe()"
   ]
  },
  {
   "cell_type": "code",
   "execution_count": 64,
   "metadata": {},
   "outputs": [],
   "source": [
    "def remove_pps_outliers(df):\n",
    "  df_out = pd.DataFrame()\n",
    "  for key, subdf in df.groupby('location'):\n",
    "    m=np.mean(subdf.price_per_sqft)\n",
    "    st=np.std(subdf.price_per_sqft)\n",
    "    reduced_df = subdf[(subdf.price_per_sqft>(m-st))&(subdf.price_per_sqft<=(m+st))]\n",
    "    df_out = pd.concat([df_out, reduced_df], ignore_index = True)\n",
    "  return df_out"
   ]
  },
  {
   "cell_type": "code",
   "execution_count": 65,
   "metadata": {},
   "outputs": [
    {
     "output_type": "execute_result",
     "data": {
      "text/plain": [
       "(10242, 7)"
      ]
     },
     "metadata": {},
     "execution_count": 65
    }
   ],
   "source": [
    "df = remove_pps_outliers(df)\n",
    "df.shape"
   ]
  },
  {
   "cell_type": "code",
   "execution_count": 66,
   "metadata": {},
   "outputs": [],
   "source": [
    "import matplotlib"
   ]
  },
  {
   "cell_type": "code",
   "execution_count": 67,
   "metadata": {},
   "outputs": [
    {
     "output_type": "display_data",
     "data": {
      "text/plain": "<Figure size 1080x720 with 1 Axes>",
      "image/svg+xml": "<?xml version=\"1.0\" encoding=\"utf-8\" standalone=\"no\"?>\r\n<!DOCTYPE svg PUBLIC \"-//W3C//DTD SVG 1.1//EN\"\r\n  \"http://www.w3.org/Graphics/SVG/1.1/DTD/svg11.dtd\">\r\n<!-- Created with matplotlib (https://matplotlib.org/) -->\r\n<svg height=\"603.474375pt\" version=\"1.1\" viewBox=\"0 0 891.165625 603.474375\" width=\"891.165625pt\" xmlns=\"http://www.w3.org/2000/svg\" xmlns:xlink=\"http://www.w3.org/1999/xlink\">\r\n <defs>\r\n  <style type=\"text/css\">\r\n*{stroke-linecap:butt;stroke-linejoin:round;}\r\n  </style>\r\n </defs>\r\n <g id=\"figure_1\">\r\n  <g id=\"patch_1\">\r\n   <path d=\"M 0 603.474375 \r\nL 891.165625 603.474375 \r\nL 891.165625 0 \r\nL 0 0 \r\nz\r\n\" style=\"fill:none;\"/>\r\n  </g>\r\n  <g id=\"axes_1\">\r\n   <g id=\"patch_2\">\r\n    <path d=\"M 46.965625 565.918125 \r\nL 883.965625 565.918125 \r\nL 883.965625 22.318125 \r\nL 46.965625 22.318125 \r\nz\r\n\" style=\"fill:#ffffff;\"/>\r\n   </g>\r\n   <g id=\"PathCollection_1\">\r\n    <defs>\r\n     <path d=\"M 0 3.535534 \r\nC 0.937635 3.535534 1.836992 3.163008 2.5 2.5 \r\nC 3.163008 1.836992 3.535534 0.937635 3.535534 0 \r\nC 3.535534 -0.937635 3.163008 -1.836992 2.5 -2.5 \r\nC 1.836992 -3.163008 0.937635 -3.535534 0 -3.535534 \r\nC -0.937635 -3.535534 -1.836992 -3.163008 -2.5 -2.5 \r\nC -3.163008 -1.836992 -3.535534 -0.937635 -3.535534 0 \r\nC -3.535534 0.937635 -3.163008 1.836992 -2.5 2.5 \r\nC -1.836992 3.163008 -0.937635 3.535534 0 3.535534 \r\nz\r\n\" id=\"mbf8e1d7451\" style=\"stroke:#0000ff;\"/>\r\n    </defs>\r\n    <g clip-path=\"url(#pd3616501b9)\">\r\n     <use style=\"fill:#0000ff;stroke:#0000ff;\" x=\"199.002683\" xlink:href=\"#mbf8e1d7451\" y=\"470.166305\"/>\r\n     <use style=\"fill:#0000ff;stroke:#0000ff;\" x=\"387.899256\" xlink:href=\"#mbf8e1d7451\" y=\"275.241321\"/>\r\n     <use style=\"fill:#0000ff;stroke:#0000ff;\" x=\"106.725622\" xlink:href=\"#mbf8e1d7451\" y=\"503.204437\"/>\r\n     <use style=\"fill:#0000ff;stroke:#0000ff;\" x=\"85.013372\" xlink:href=\"#mbf8e1d7451\" y=\"481.729651\"/>\r\n     <use style=\"fill:#0000ff;stroke:#0000ff;\" x=\"236.99912\" xlink:href=\"#mbf8e1d7451\" y=\"470.166305\"/>\r\n     <use style=\"fill:#0000ff;stroke:#0000ff;\" x=\"236.99912\" xlink:href=\"#mbf8e1d7451\" y=\"445.387705\"/>\r\n     <use style=\"fill:#0000ff;stroke:#0000ff;\" x=\"191.946202\" xlink:href=\"#mbf8e1d7451\" y=\"536.24257\"/>\r\n     <use style=\"fill:#0000ff;stroke:#0000ff;\" x=\"412.325537\" xlink:href=\"#mbf8e1d7451\" y=\"318.190893\"/>\r\n     <use style=\"fill:#0000ff;stroke:#0000ff;\" x=\"143.636447\" xlink:href=\"#mbf8e1d7451\" y=\"541.19829\"/>\r\n     <use style=\"fill:#0000ff;stroke:#0000ff;\" x=\"106.725622\" xlink:href=\"#mbf8e1d7451\" y=\"420.609105\"/>\r\n     <use style=\"fill:#0000ff;stroke:#0000ff;\" x=\"387.899256\" xlink:href=\"#mbf8e1d7451\" y=\"296.716107\"/>\r\n     <use style=\"fill:#0000ff;stroke:#0000ff;\" x=\"412.325537\" xlink:href=\"#mbf8e1d7451\" y=\"354.532839\"/>\r\n     <use style=\"fill:#0000ff;stroke:#0000ff;\" x=\"168.605534\" xlink:href=\"#mbf8e1d7451\" y=\"379.311439\"/>\r\n     <use style=\"fill:#0000ff;stroke:#0000ff;\" x=\"236.99912\" xlink:href=\"#mbf8e1d7451\" y=\"478.425838\"/>\r\n    </g>\r\n   </g>\r\n   <g id=\"PathCollection_2\">\r\n    <defs>\r\n     <path d=\"M -3.535534 0 \r\nL 3.535534 0 \r\nM 0 3.535534 \r\nL 0 -3.535534 \r\n\" id=\"m68b77cace3\" style=\"stroke:#008000;stroke-width:1.5;\"/>\r\n    </defs>\r\n    <g clip-path=\"url(#pd3616501b9)\">\r\n     <use style=\"fill:#008000;stroke:#008000;stroke-width:1.5;\" x=\"345.560369\" xlink:href=\"#m68b77cace3\" y=\"372.703813\"/>\r\n     <use style=\"fill:#008000;stroke:#008000;stroke-width:1.5;\" x=\"752.665051\" xlink:href=\"#m68b77cace3\" y=\"65.449177\"/>\r\n     <use style=\"fill:#008000;stroke:#008000;stroke-width:1.5;\" x=\"752.665051\" xlink:href=\"#m68b77cace3\" y=\"73.70871\"/>\r\n     <use style=\"fill:#008000;stroke:#008000;stroke-width:1.5;\" x=\"391.6989\" xlink:href=\"#m68b77cace3\" y=\"420.609105\"/>\r\n     <use style=\"fill:#008000;stroke:#008000;stroke-width:1.5;\" x=\"345.560369\" xlink:href=\"#m68b77cace3\" y=\"382.615252\"/>\r\n     <use style=\"fill:#008000;stroke:#008000;stroke-width:1.5;\" x=\"432.409368\" xlink:href=\"#m68b77cace3\" y=\"321.494707\"/>\r\n     <use style=\"fill:#008000;stroke:#008000;stroke-width:1.5;\" x=\"345.560369\" xlink:href=\"#m68b77cace3\" y=\"352.880933\"/>\r\n     <use style=\"fill:#008000;stroke:#008000;stroke-width:1.5;\" x=\"762.97837\" xlink:href=\"#m68b77cace3\" y=\"156.304042\"/>\r\n     <use style=\"fill:#008000;stroke:#008000;stroke-width:1.5;\" x=\"750.493826\" xlink:href=\"#m68b77cace3\" y=\"199.253615\"/>\r\n     <use style=\"fill:#008000;stroke:#008000;stroke-width:1.5;\" x=\"784.147813\" xlink:href=\"#m68b77cace3\" y=\"90.227776\"/>\r\n     <use style=\"fill:#008000;stroke:#008000;stroke-width:1.5;\" x=\"345.560369\" xlink:href=\"#m68b77cace3\" y=\"371.051906\"/>\r\n     <use style=\"fill:#008000;stroke:#008000;stroke-width:1.5;\" x=\"432.409368\" xlink:href=\"#m68b77cace3\" y=\"338.013773\"/>\r\n     <use style=\"fill:#008000;stroke:#008000;stroke-width:1.5;\" x=\"703.812489\" xlink:href=\"#m68b77cace3\" y=\"141.436882\"/>\r\n     <use style=\"fill:#008000;stroke:#008000;stroke-width:1.5;\" x=\"345.560369\" xlink:href=\"#m68b77cace3\" y=\"387.570972\"/>\r\n     <use style=\"fill:#008000;stroke:#008000;stroke-width:1.5;\" x=\"812.373738\" xlink:href=\"#m68b77cace3\" y=\"172.823109\"/>\r\n     <use style=\"fill:#008000;stroke:#008000;stroke-width:1.5;\" x=\"331.990213\" xlink:href=\"#m68b77cace3\" y=\"461.906771\"/>\r\n     <use style=\"fill:#008000;stroke:#008000;stroke-width:1.5;\" x=\"419.382018\" xlink:href=\"#m68b77cace3\" y=\"437.128172\"/>\r\n     <use style=\"fill:#008000;stroke:#008000;stroke-width:1.5;\" x=\"844.399306\" xlink:href=\"#m68b77cace3\" y=\"85.272057\"/>\r\n     <use style=\"fill:#008000;stroke:#008000;stroke-width:1.5;\" x=\"345.560369\" xlink:href=\"#m68b77cace3\" y=\"387.570972\"/>\r\n     <use style=\"fill:#008000;stroke:#008000;stroke-width:1.5;\" x=\"330.9046\" xlink:href=\"#m68b77cace3\" y=\"503.204437\"/>\r\n     <use style=\"fill:#008000;stroke:#008000;stroke-width:1.5;\" x=\"204.430746\" xlink:href=\"#m68b77cace3\" y=\"536.24257\"/>\r\n     <use style=\"fill:#008000;stroke:#008000;stroke-width:1.5;\" x=\"432.409368\" xlink:href=\"#m68b77cace3\" y=\"354.532839\"/>\r\n     <use style=\"fill:#008000;stroke:#008000;stroke-width:1.5;\" x=\"830.286344\" xlink:href=\"#m68b77cace3\" y=\"48.93011\"/>\r\n     <use style=\"fill:#008000;stroke:#008000;stroke-width:1.5;\" x=\"785.233426\" xlink:href=\"#m68b77cace3\" y=\"205.861242\"/>\r\n     <use style=\"fill:#008000;stroke:#008000;stroke-width:1.5;\" x=\"345.560369\" xlink:href=\"#m68b77cace3\" y=\"318.190893\"/>\r\n     <use style=\"fill:#008000;stroke:#008000;stroke-width:1.5;\" x=\"740.180508\" xlink:href=\"#m68b77cace3\" y=\"131.525443\"/>\r\n     <use style=\"fill:#008000;stroke:#008000;stroke-width:1.5;\" x=\"345.560369\" xlink:href=\"#m68b77cace3\" y=\"336.361866\"/>\r\n     <use style=\"fill:#008000;stroke:#008000;stroke-width:1.5;\" x=\"345.560369\" xlink:href=\"#m68b77cace3\" y=\"308.279453\"/>\r\n     <use style=\"fill:#008000;stroke:#008000;stroke-width:1.5;\" x=\"740.180508\" xlink:href=\"#m68b77cace3\" y=\"189.342175\"/>\r\n     <use style=\"fill:#008000;stroke:#008000;stroke-width:1.5;\" x=\"388.984868\" xlink:href=\"#m68b77cace3\" y=\"380.963346\"/>\r\n     <use style=\"fill:#008000;stroke:#008000;stroke-width:1.5;\" x=\"378.128744\" xlink:href=\"#m68b77cace3\" y=\"420.609105\"/>\r\n     <use style=\"fill:#008000;stroke:#008000;stroke-width:1.5;\" x=\"703.812489\" xlink:href=\"#m68b77cace3\" y=\"354.532839\"/>\r\n     <use style=\"fill:#008000;stroke:#008000;stroke-width:1.5;\" x=\"812.373738\" xlink:href=\"#m68b77cace3\" y=\"189.342175\"/>\r\n     <use style=\"fill:#008000;stroke:#008000;stroke-width:1.5;\" x=\"752.665051\" xlink:href=\"#m68b77cace3\" y=\"136.481163\"/>\r\n     <use style=\"fill:#008000;stroke:#008000;stroke-width:1.5;\" x=\"766.235207\" xlink:href=\"#m68b77cace3\" y=\"91.879683\"/>\r\n     <use style=\"fill:#008000;stroke:#008000;stroke-width:1.5;\" x=\"740.180508\" xlink:href=\"#m68b77cace3\" y=\"222.380308\"/>\r\n     <use style=\"fill:#008000;stroke:#008000;stroke-width:1.5;\" x=\"762.97837\" xlink:href=\"#m68b77cace3\" y=\"98.48731\"/>\r\n     <use style=\"fill:#008000;stroke:#008000;stroke-width:1.5;\" x=\"345.560369\" xlink:href=\"#m68b77cace3\" y=\"346.273306\"/>\r\n    </g>\r\n   </g>\r\n   <g id=\"matplotlib.axis_1\">\r\n    <g id=\"xtick_1\">\r\n     <g id=\"line2d_1\">\r\n      <defs>\r\n       <path d=\"M 0 0 \r\nL 0 3.5 \r\n\" id=\"m94e3438f33\" style=\"stroke:#000000;stroke-width:0.8;\"/>\r\n      </defs>\r\n      <g>\r\n       <use style=\"stroke:#000000;stroke-width:0.8;\" x=\"106.725622\" xlink:href=\"#m94e3438f33\" y=\"565.918125\"/>\r\n      </g>\r\n     </g>\r\n     <g id=\"text_1\">\r\n      <!-- 1200 -->\r\n      <defs>\r\n       <path d=\"M 12.40625 8.296875 \r\nL 28.515625 8.296875 \r\nL 28.515625 63.921875 \r\nL 10.984375 60.40625 \r\nL 10.984375 69.390625 \r\nL 28.421875 72.90625 \r\nL 38.28125 72.90625 \r\nL 38.28125 8.296875 \r\nL 54.390625 8.296875 \r\nL 54.390625 0 \r\nL 12.40625 0 \r\nz\r\n\" id=\"DejaVuSans-49\"/>\r\n       <path d=\"M 19.1875 8.296875 \r\nL 53.609375 8.296875 \r\nL 53.609375 0 \r\nL 7.328125 0 \r\nL 7.328125 8.296875 \r\nQ 12.9375 14.109375 22.625 23.890625 \r\nQ 32.328125 33.6875 34.8125 36.53125 \r\nQ 39.546875 41.84375 41.421875 45.53125 \r\nQ 43.3125 49.21875 43.3125 52.78125 \r\nQ 43.3125 58.59375 39.234375 62.25 \r\nQ 35.15625 65.921875 28.609375 65.921875 \r\nQ 23.96875 65.921875 18.8125 64.3125 \r\nQ 13.671875 62.703125 7.8125 59.421875 \r\nL 7.8125 69.390625 \r\nQ 13.765625 71.78125 18.9375 73 \r\nQ 24.125 74.21875 28.421875 74.21875 \r\nQ 39.75 74.21875 46.484375 68.546875 \r\nQ 53.21875 62.890625 53.21875 53.421875 \r\nQ 53.21875 48.921875 51.53125 44.890625 \r\nQ 49.859375 40.875 45.40625 35.40625 \r\nQ 44.1875 33.984375 37.640625 27.21875 \r\nQ 31.109375 20.453125 19.1875 8.296875 \r\nz\r\n\" id=\"DejaVuSans-50\"/>\r\n       <path d=\"M 31.78125 66.40625 \r\nQ 24.171875 66.40625 20.328125 58.90625 \r\nQ 16.5 51.421875 16.5 36.375 \r\nQ 16.5 21.390625 20.328125 13.890625 \r\nQ 24.171875 6.390625 31.78125 6.390625 \r\nQ 39.453125 6.390625 43.28125 13.890625 \r\nQ 47.125 21.390625 47.125 36.375 \r\nQ 47.125 51.421875 43.28125 58.90625 \r\nQ 39.453125 66.40625 31.78125 66.40625 \r\nz\r\nM 31.78125 74.21875 \r\nQ 44.046875 74.21875 50.515625 64.515625 \r\nQ 56.984375 54.828125 56.984375 36.375 \r\nQ 56.984375 17.96875 50.515625 8.265625 \r\nQ 44.046875 -1.421875 31.78125 -1.421875 \r\nQ 19.53125 -1.421875 13.0625 8.265625 \r\nQ 6.59375 17.96875 6.59375 36.375 \r\nQ 6.59375 54.828125 13.0625 64.515625 \r\nQ 19.53125 74.21875 31.78125 74.21875 \r\nz\r\n\" id=\"DejaVuSans-48\"/>\r\n      </defs>\r\n      <g transform=\"translate(94.000622 580.516562)scale(0.1 -0.1)\">\r\n       <use xlink:href=\"#DejaVuSans-49\"/>\r\n       <use x=\"63.623047\" xlink:href=\"#DejaVuSans-50\"/>\r\n       <use x=\"127.246094\" xlink:href=\"#DejaVuSans-48\"/>\r\n       <use x=\"190.869141\" xlink:href=\"#DejaVuSans-48\"/>\r\n      </g>\r\n     </g>\r\n    </g>\r\n    <g id=\"xtick_2\">\r\n     <g id=\"line2d_2\">\r\n      <g>\r\n       <use style=\"stroke:#000000;stroke-width:0.8;\" x=\"215.286871\" xlink:href=\"#m94e3438f33\" y=\"565.918125\"/>\r\n      </g>\r\n     </g>\r\n     <g id=\"text_2\">\r\n      <!-- 1400 -->\r\n      <defs>\r\n       <path d=\"M 37.796875 64.3125 \r\nL 12.890625 25.390625 \r\nL 37.796875 25.390625 \r\nz\r\nM 35.203125 72.90625 \r\nL 47.609375 72.90625 \r\nL 47.609375 25.390625 \r\nL 58.015625 25.390625 \r\nL 58.015625 17.1875 \r\nL 47.609375 17.1875 \r\nL 47.609375 0 \r\nL 37.796875 0 \r\nL 37.796875 17.1875 \r\nL 4.890625 17.1875 \r\nL 4.890625 26.703125 \r\nz\r\n\" id=\"DejaVuSans-52\"/>\r\n      </defs>\r\n      <g transform=\"translate(202.561871 580.516562)scale(0.1 -0.1)\">\r\n       <use xlink:href=\"#DejaVuSans-49\"/>\r\n       <use x=\"63.623047\" xlink:href=\"#DejaVuSans-52\"/>\r\n       <use x=\"127.246094\" xlink:href=\"#DejaVuSans-48\"/>\r\n       <use x=\"190.869141\" xlink:href=\"#DejaVuSans-48\"/>\r\n      </g>\r\n     </g>\r\n    </g>\r\n    <g id=\"xtick_3\">\r\n     <g id=\"line2d_3\">\r\n      <g>\r\n       <use style=\"stroke:#000000;stroke-width:0.8;\" x=\"323.848119\" xlink:href=\"#m94e3438f33\" y=\"565.918125\"/>\r\n      </g>\r\n     </g>\r\n     <g id=\"text_3\">\r\n      <!-- 1600 -->\r\n      <defs>\r\n       <path d=\"M 33.015625 40.375 \r\nQ 26.375 40.375 22.484375 35.828125 \r\nQ 18.609375 31.296875 18.609375 23.390625 \r\nQ 18.609375 15.53125 22.484375 10.953125 \r\nQ 26.375 6.390625 33.015625 6.390625 \r\nQ 39.65625 6.390625 43.53125 10.953125 \r\nQ 47.40625 15.53125 47.40625 23.390625 \r\nQ 47.40625 31.296875 43.53125 35.828125 \r\nQ 39.65625 40.375 33.015625 40.375 \r\nz\r\nM 52.59375 71.296875 \r\nL 52.59375 62.3125 \r\nQ 48.875 64.0625 45.09375 64.984375 \r\nQ 41.3125 65.921875 37.59375 65.921875 \r\nQ 27.828125 65.921875 22.671875 59.328125 \r\nQ 17.53125 52.734375 16.796875 39.40625 \r\nQ 19.671875 43.65625 24.015625 45.921875 \r\nQ 28.375 48.1875 33.59375 48.1875 \r\nQ 44.578125 48.1875 50.953125 41.515625 \r\nQ 57.328125 34.859375 57.328125 23.390625 \r\nQ 57.328125 12.15625 50.6875 5.359375 \r\nQ 44.046875 -1.421875 33.015625 -1.421875 \r\nQ 20.359375 -1.421875 13.671875 8.265625 \r\nQ 6.984375 17.96875 6.984375 36.375 \r\nQ 6.984375 53.65625 15.1875 63.9375 \r\nQ 23.390625 74.21875 37.203125 74.21875 \r\nQ 40.921875 74.21875 44.703125 73.484375 \r\nQ 48.484375 72.75 52.59375 71.296875 \r\nz\r\n\" id=\"DejaVuSans-54\"/>\r\n      </defs>\r\n      <g transform=\"translate(311.123119 580.516562)scale(0.1 -0.1)\">\r\n       <use xlink:href=\"#DejaVuSans-49\"/>\r\n       <use x=\"63.623047\" xlink:href=\"#DejaVuSans-54\"/>\r\n       <use x=\"127.246094\" xlink:href=\"#DejaVuSans-48\"/>\r\n       <use x=\"190.869141\" xlink:href=\"#DejaVuSans-48\"/>\r\n      </g>\r\n     </g>\r\n    </g>\r\n    <g id=\"xtick_4\">\r\n     <g id=\"line2d_4\">\r\n      <g>\r\n       <use style=\"stroke:#000000;stroke-width:0.8;\" x=\"432.409368\" xlink:href=\"#m94e3438f33\" y=\"565.918125\"/>\r\n      </g>\r\n     </g>\r\n     <g id=\"text_4\">\r\n      <!-- 1800 -->\r\n      <defs>\r\n       <path d=\"M 31.78125 34.625 \r\nQ 24.75 34.625 20.71875 30.859375 \r\nQ 16.703125 27.09375 16.703125 20.515625 \r\nQ 16.703125 13.921875 20.71875 10.15625 \r\nQ 24.75 6.390625 31.78125 6.390625 \r\nQ 38.8125 6.390625 42.859375 10.171875 \r\nQ 46.921875 13.96875 46.921875 20.515625 \r\nQ 46.921875 27.09375 42.890625 30.859375 \r\nQ 38.875 34.625 31.78125 34.625 \r\nz\r\nM 21.921875 38.8125 \r\nQ 15.578125 40.375 12.03125 44.71875 \r\nQ 8.5 49.078125 8.5 55.328125 \r\nQ 8.5 64.0625 14.71875 69.140625 \r\nQ 20.953125 74.21875 31.78125 74.21875 \r\nQ 42.671875 74.21875 48.875 69.140625 \r\nQ 55.078125 64.0625 55.078125 55.328125 \r\nQ 55.078125 49.078125 51.53125 44.71875 \r\nQ 48 40.375 41.703125 38.8125 \r\nQ 48.828125 37.15625 52.796875 32.3125 \r\nQ 56.78125 27.484375 56.78125 20.515625 \r\nQ 56.78125 9.90625 50.3125 4.234375 \r\nQ 43.84375 -1.421875 31.78125 -1.421875 \r\nQ 19.734375 -1.421875 13.25 4.234375 \r\nQ 6.78125 9.90625 6.78125 20.515625 \r\nQ 6.78125 27.484375 10.78125 32.3125 \r\nQ 14.796875 37.15625 21.921875 38.8125 \r\nz\r\nM 18.3125 54.390625 \r\nQ 18.3125 48.734375 21.84375 45.5625 \r\nQ 25.390625 42.390625 31.78125 42.390625 \r\nQ 38.140625 42.390625 41.71875 45.5625 \r\nQ 45.3125 48.734375 45.3125 54.390625 \r\nQ 45.3125 60.0625 41.71875 63.234375 \r\nQ 38.140625 66.40625 31.78125 66.40625 \r\nQ 25.390625 66.40625 21.84375 63.234375 \r\nQ 18.3125 60.0625 18.3125 54.390625 \r\nz\r\n\" id=\"DejaVuSans-56\"/>\r\n      </defs>\r\n      <g transform=\"translate(419.684368 580.516562)scale(0.1 -0.1)\">\r\n       <use xlink:href=\"#DejaVuSans-49\"/>\r\n       <use x=\"63.623047\" xlink:href=\"#DejaVuSans-56\"/>\r\n       <use x=\"127.246094\" xlink:href=\"#DejaVuSans-48\"/>\r\n       <use x=\"190.869141\" xlink:href=\"#DejaVuSans-48\"/>\r\n      </g>\r\n     </g>\r\n    </g>\r\n    <g id=\"xtick_5\">\r\n     <g id=\"line2d_5\">\r\n      <g>\r\n       <use style=\"stroke:#000000;stroke-width:0.8;\" x=\"540.970616\" xlink:href=\"#m94e3438f33\" y=\"565.918125\"/>\r\n      </g>\r\n     </g>\r\n     <g id=\"text_5\">\r\n      <!-- 2000 -->\r\n      <g transform=\"translate(528.245616 580.516562)scale(0.1 -0.1)\">\r\n       <use xlink:href=\"#DejaVuSans-50\"/>\r\n       <use x=\"63.623047\" xlink:href=\"#DejaVuSans-48\"/>\r\n       <use x=\"127.246094\" xlink:href=\"#DejaVuSans-48\"/>\r\n       <use x=\"190.869141\" xlink:href=\"#DejaVuSans-48\"/>\r\n      </g>\r\n     </g>\r\n    </g>\r\n    <g id=\"xtick_6\">\r\n     <g id=\"line2d_6\">\r\n      <g>\r\n       <use style=\"stroke:#000000;stroke-width:0.8;\" x=\"649.531865\" xlink:href=\"#m94e3438f33\" y=\"565.918125\"/>\r\n      </g>\r\n     </g>\r\n     <g id=\"text_6\">\r\n      <!-- 2200 -->\r\n      <g transform=\"translate(636.806865 580.516562)scale(0.1 -0.1)\">\r\n       <use xlink:href=\"#DejaVuSans-50\"/>\r\n       <use x=\"63.623047\" xlink:href=\"#DejaVuSans-50\"/>\r\n       <use x=\"127.246094\" xlink:href=\"#DejaVuSans-48\"/>\r\n       <use x=\"190.869141\" xlink:href=\"#DejaVuSans-48\"/>\r\n      </g>\r\n     </g>\r\n    </g>\r\n    <g id=\"xtick_7\">\r\n     <g id=\"line2d_7\">\r\n      <g>\r\n       <use style=\"stroke:#000000;stroke-width:0.8;\" x=\"758.093114\" xlink:href=\"#m94e3438f33\" y=\"565.918125\"/>\r\n      </g>\r\n     </g>\r\n     <g id=\"text_7\">\r\n      <!-- 2400 -->\r\n      <g transform=\"translate(745.368114 580.516562)scale(0.1 -0.1)\">\r\n       <use xlink:href=\"#DejaVuSans-50\"/>\r\n       <use x=\"63.623047\" xlink:href=\"#DejaVuSans-52\"/>\r\n       <use x=\"127.246094\" xlink:href=\"#DejaVuSans-48\"/>\r\n       <use x=\"190.869141\" xlink:href=\"#DejaVuSans-48\"/>\r\n      </g>\r\n     </g>\r\n    </g>\r\n    <g id=\"xtick_8\">\r\n     <g id=\"line2d_8\">\r\n      <g>\r\n       <use style=\"stroke:#000000;stroke-width:0.8;\" x=\"866.654362\" xlink:href=\"#m94e3438f33\" y=\"565.918125\"/>\r\n      </g>\r\n     </g>\r\n     <g id=\"text_8\">\r\n      <!-- 2600 -->\r\n      <g transform=\"translate(853.929362 580.516562)scale(0.1 -0.1)\">\r\n       <use xlink:href=\"#DejaVuSans-50\"/>\r\n       <use x=\"63.623047\" xlink:href=\"#DejaVuSans-54\"/>\r\n       <use x=\"127.246094\" xlink:href=\"#DejaVuSans-48\"/>\r\n       <use x=\"190.869141\" xlink:href=\"#DejaVuSans-48\"/>\r\n      </g>\r\n     </g>\r\n    </g>\r\n    <g id=\"text_9\">\r\n     <!-- Total Square Feet Area -->\r\n     <defs>\r\n      <path d=\"M -0.296875 72.90625 \r\nL 61.375 72.90625 \r\nL 61.375 64.59375 \r\nL 35.5 64.59375 \r\nL 35.5 0 \r\nL 25.59375 0 \r\nL 25.59375 64.59375 \r\nL -0.296875 64.59375 \r\nz\r\n\" id=\"DejaVuSans-84\"/>\r\n      <path d=\"M 30.609375 48.390625 \r\nQ 23.390625 48.390625 19.1875 42.75 \r\nQ 14.984375 37.109375 14.984375 27.296875 \r\nQ 14.984375 17.484375 19.15625 11.84375 \r\nQ 23.34375 6.203125 30.609375 6.203125 \r\nQ 37.796875 6.203125 41.984375 11.859375 \r\nQ 46.1875 17.53125 46.1875 27.296875 \r\nQ 46.1875 37.015625 41.984375 42.703125 \r\nQ 37.796875 48.390625 30.609375 48.390625 \r\nz\r\nM 30.609375 56 \r\nQ 42.328125 56 49.015625 48.375 \r\nQ 55.71875 40.765625 55.71875 27.296875 \r\nQ 55.71875 13.875 49.015625 6.21875 \r\nQ 42.328125 -1.421875 30.609375 -1.421875 \r\nQ 18.84375 -1.421875 12.171875 6.21875 \r\nQ 5.515625 13.875 5.515625 27.296875 \r\nQ 5.515625 40.765625 12.171875 48.375 \r\nQ 18.84375 56 30.609375 56 \r\nz\r\n\" id=\"DejaVuSans-111\"/>\r\n      <path d=\"M 18.3125 70.21875 \r\nL 18.3125 54.6875 \r\nL 36.8125 54.6875 \r\nL 36.8125 47.703125 \r\nL 18.3125 47.703125 \r\nL 18.3125 18.015625 \r\nQ 18.3125 11.328125 20.140625 9.421875 \r\nQ 21.96875 7.515625 27.59375 7.515625 \r\nL 36.8125 7.515625 \r\nL 36.8125 0 \r\nL 27.59375 0 \r\nQ 17.1875 0 13.234375 3.875 \r\nQ 9.28125 7.765625 9.28125 18.015625 \r\nL 9.28125 47.703125 \r\nL 2.6875 47.703125 \r\nL 2.6875 54.6875 \r\nL 9.28125 54.6875 \r\nL 9.28125 70.21875 \r\nz\r\n\" id=\"DejaVuSans-116\"/>\r\n      <path d=\"M 34.28125 27.484375 \r\nQ 23.390625 27.484375 19.1875 25 \r\nQ 14.984375 22.515625 14.984375 16.5 \r\nQ 14.984375 11.71875 18.140625 8.90625 \r\nQ 21.296875 6.109375 26.703125 6.109375 \r\nQ 34.1875 6.109375 38.703125 11.40625 \r\nQ 43.21875 16.703125 43.21875 25.484375 \r\nL 43.21875 27.484375 \r\nz\r\nM 52.203125 31.203125 \r\nL 52.203125 0 \r\nL 43.21875 0 \r\nL 43.21875 8.296875 \r\nQ 40.140625 3.328125 35.546875 0.953125 \r\nQ 30.953125 -1.421875 24.3125 -1.421875 \r\nQ 15.921875 -1.421875 10.953125 3.296875 \r\nQ 6 8.015625 6 15.921875 \r\nQ 6 25.140625 12.171875 29.828125 \r\nQ 18.359375 34.515625 30.609375 34.515625 \r\nL 43.21875 34.515625 \r\nL 43.21875 35.40625 \r\nQ 43.21875 41.609375 39.140625 45 \r\nQ 35.0625 48.390625 27.6875 48.390625 \r\nQ 23 48.390625 18.546875 47.265625 \r\nQ 14.109375 46.140625 10.015625 43.890625 \r\nL 10.015625 52.203125 \r\nQ 14.9375 54.109375 19.578125 55.046875 \r\nQ 24.21875 56 28.609375 56 \r\nQ 40.484375 56 46.34375 49.84375 \r\nQ 52.203125 43.703125 52.203125 31.203125 \r\nz\r\n\" id=\"DejaVuSans-97\"/>\r\n      <path d=\"M 9.421875 75.984375 \r\nL 18.40625 75.984375 \r\nL 18.40625 0 \r\nL 9.421875 0 \r\nz\r\n\" id=\"DejaVuSans-108\"/>\r\n      <path id=\"DejaVuSans-32\"/>\r\n      <path d=\"M 53.515625 70.515625 \r\nL 53.515625 60.890625 \r\nQ 47.90625 63.578125 42.921875 64.890625 \r\nQ 37.9375 66.21875 33.296875 66.21875 \r\nQ 25.25 66.21875 20.875 63.09375 \r\nQ 16.5 59.96875 16.5 54.203125 \r\nQ 16.5 49.359375 19.40625 46.890625 \r\nQ 22.3125 44.4375 30.421875 42.921875 \r\nL 36.375 41.703125 \r\nQ 47.40625 39.59375 52.65625 34.296875 \r\nQ 57.90625 29 57.90625 20.125 \r\nQ 57.90625 9.515625 50.796875 4.046875 \r\nQ 43.703125 -1.421875 29.984375 -1.421875 \r\nQ 24.8125 -1.421875 18.96875 -0.25 \r\nQ 13.140625 0.921875 6.890625 3.21875 \r\nL 6.890625 13.375 \r\nQ 12.890625 10.015625 18.65625 8.296875 \r\nQ 24.421875 6.59375 29.984375 6.59375 \r\nQ 38.421875 6.59375 43.015625 9.90625 \r\nQ 47.609375 13.234375 47.609375 19.390625 \r\nQ 47.609375 24.75 44.3125 27.78125 \r\nQ 41.015625 30.8125 33.5 32.328125 \r\nL 27.484375 33.5 \r\nQ 16.453125 35.6875 11.515625 40.375 \r\nQ 6.59375 45.0625 6.59375 53.421875 \r\nQ 6.59375 63.09375 13.40625 68.65625 \r\nQ 20.21875 74.21875 32.171875 74.21875 \r\nQ 37.3125 74.21875 42.625 73.28125 \r\nQ 47.953125 72.359375 53.515625 70.515625 \r\nz\r\n\" id=\"DejaVuSans-83\"/>\r\n      <path d=\"M 14.796875 27.296875 \r\nQ 14.796875 17.390625 18.875 11.75 \r\nQ 22.953125 6.109375 30.078125 6.109375 \r\nQ 37.203125 6.109375 41.296875 11.75 \r\nQ 45.40625 17.390625 45.40625 27.296875 \r\nQ 45.40625 37.203125 41.296875 42.84375 \r\nQ 37.203125 48.484375 30.078125 48.484375 \r\nQ 22.953125 48.484375 18.875 42.84375 \r\nQ 14.796875 37.203125 14.796875 27.296875 \r\nz\r\nM 45.40625 8.203125 \r\nQ 42.578125 3.328125 38.25 0.953125 \r\nQ 33.9375 -1.421875 27.875 -1.421875 \r\nQ 17.96875 -1.421875 11.734375 6.484375 \r\nQ 5.515625 14.40625 5.515625 27.296875 \r\nQ 5.515625 40.1875 11.734375 48.09375 \r\nQ 17.96875 56 27.875 56 \r\nQ 33.9375 56 38.25 53.625 \r\nQ 42.578125 51.265625 45.40625 46.390625 \r\nL 45.40625 54.6875 \r\nL 54.390625 54.6875 \r\nL 54.390625 -20.796875 \r\nL 45.40625 -20.796875 \r\nz\r\n\" id=\"DejaVuSans-113\"/>\r\n      <path d=\"M 8.5 21.578125 \r\nL 8.5 54.6875 \r\nL 17.484375 54.6875 \r\nL 17.484375 21.921875 \r\nQ 17.484375 14.15625 20.5 10.265625 \r\nQ 23.53125 6.390625 29.59375 6.390625 \r\nQ 36.859375 6.390625 41.078125 11.03125 \r\nQ 45.3125 15.671875 45.3125 23.6875 \r\nL 45.3125 54.6875 \r\nL 54.296875 54.6875 \r\nL 54.296875 0 \r\nL 45.3125 0 \r\nL 45.3125 8.40625 \r\nQ 42.046875 3.421875 37.71875 1 \r\nQ 33.40625 -1.421875 27.6875 -1.421875 \r\nQ 18.265625 -1.421875 13.375 4.4375 \r\nQ 8.5 10.296875 8.5 21.578125 \r\nz\r\nM 31.109375 56 \r\nz\r\n\" id=\"DejaVuSans-117\"/>\r\n      <path d=\"M 41.109375 46.296875 \r\nQ 39.59375 47.171875 37.8125 47.578125 \r\nQ 36.03125 48 33.890625 48 \r\nQ 26.265625 48 22.1875 43.046875 \r\nQ 18.109375 38.09375 18.109375 28.8125 \r\nL 18.109375 0 \r\nL 9.078125 0 \r\nL 9.078125 54.6875 \r\nL 18.109375 54.6875 \r\nL 18.109375 46.1875 \r\nQ 20.953125 51.171875 25.484375 53.578125 \r\nQ 30.03125 56 36.53125 56 \r\nQ 37.453125 56 38.578125 55.875 \r\nQ 39.703125 55.765625 41.0625 55.515625 \r\nz\r\n\" id=\"DejaVuSans-114\"/>\r\n      <path d=\"M 56.203125 29.59375 \r\nL 56.203125 25.203125 \r\nL 14.890625 25.203125 \r\nQ 15.484375 15.921875 20.484375 11.0625 \r\nQ 25.484375 6.203125 34.421875 6.203125 \r\nQ 39.59375 6.203125 44.453125 7.46875 \r\nQ 49.3125 8.734375 54.109375 11.28125 \r\nL 54.109375 2.78125 \r\nQ 49.265625 0.734375 44.1875 -0.34375 \r\nQ 39.109375 -1.421875 33.890625 -1.421875 \r\nQ 20.796875 -1.421875 13.15625 6.1875 \r\nQ 5.515625 13.8125 5.515625 26.8125 \r\nQ 5.515625 40.234375 12.765625 48.109375 \r\nQ 20.015625 56 32.328125 56 \r\nQ 43.359375 56 49.78125 48.890625 \r\nQ 56.203125 41.796875 56.203125 29.59375 \r\nz\r\nM 47.21875 32.234375 \r\nQ 47.125 39.59375 43.09375 43.984375 \r\nQ 39.0625 48.390625 32.421875 48.390625 \r\nQ 24.90625 48.390625 20.390625 44.140625 \r\nQ 15.875 39.890625 15.1875 32.171875 \r\nz\r\n\" id=\"DejaVuSans-101\"/>\r\n      <path d=\"M 9.8125 72.90625 \r\nL 51.703125 72.90625 \r\nL 51.703125 64.59375 \r\nL 19.671875 64.59375 \r\nL 19.671875 43.109375 \r\nL 48.578125 43.109375 \r\nL 48.578125 34.8125 \r\nL 19.671875 34.8125 \r\nL 19.671875 0 \r\nL 9.8125 0 \r\nz\r\n\" id=\"DejaVuSans-70\"/>\r\n      <path d=\"M 34.1875 63.1875 \r\nL 20.796875 26.90625 \r\nL 47.609375 26.90625 \r\nz\r\nM 28.609375 72.90625 \r\nL 39.796875 72.90625 \r\nL 67.578125 0 \r\nL 57.328125 0 \r\nL 50.6875 18.703125 \r\nL 17.828125 18.703125 \r\nL 11.1875 0 \r\nL 0.78125 0 \r\nz\r\n\" id=\"DejaVuSans-65\"/>\r\n     </defs>\r\n     <g transform=\"translate(407.873438 594.194687)scale(0.1 -0.1)\">\r\n      <use xlink:href=\"#DejaVuSans-84\"/>\r\n      <use x=\"60.818359\" xlink:href=\"#DejaVuSans-111\"/>\r\n      <use x=\"122\" xlink:href=\"#DejaVuSans-116\"/>\r\n      <use x=\"161.208984\" xlink:href=\"#DejaVuSans-97\"/>\r\n      <use x=\"222.488281\" xlink:href=\"#DejaVuSans-108\"/>\r\n      <use x=\"250.271484\" xlink:href=\"#DejaVuSans-32\"/>\r\n      <use x=\"282.058594\" xlink:href=\"#DejaVuSans-83\"/>\r\n      <use x=\"345.535156\" xlink:href=\"#DejaVuSans-113\"/>\r\n      <use x=\"409.011719\" xlink:href=\"#DejaVuSans-117\"/>\r\n      <use x=\"472.390625\" xlink:href=\"#DejaVuSans-97\"/>\r\n      <use x=\"533.669922\" xlink:href=\"#DejaVuSans-114\"/>\r\n      <use x=\"574.751953\" xlink:href=\"#DejaVuSans-101\"/>\r\n      <use x=\"636.275391\" xlink:href=\"#DejaVuSans-32\"/>\r\n      <use x=\"668.0625\" xlink:href=\"#DejaVuSans-70\"/>\r\n      <use x=\"725.503906\" xlink:href=\"#DejaVuSans-101\"/>\r\n      <use x=\"787.027344\" xlink:href=\"#DejaVuSans-101\"/>\r\n      <use x=\"848.550781\" xlink:href=\"#DejaVuSans-116\"/>\r\n      <use x=\"887.759766\" xlink:href=\"#DejaVuSans-32\"/>\r\n      <use x=\"919.546875\" xlink:href=\"#DejaVuSans-65\"/>\r\n      <use x=\"987.955078\" xlink:href=\"#DejaVuSans-114\"/>\r\n      <use x=\"1029.037109\" xlink:href=\"#DejaVuSans-101\"/>\r\n      <use x=\"1090.560547\" xlink:href=\"#DejaVuSans-97\"/>\r\n     </g>\r\n    </g>\r\n   </g>\r\n   <g id=\"matplotlib.axis_2\">\r\n    <g id=\"ytick_1\">\r\n     <g id=\"line2d_9\">\r\n      <defs>\r\n       <path d=\"M 0 0 \r\nL -3.5 0 \r\n\" id=\"m9214132199\" style=\"stroke:#000000;stroke-width:0.8;\"/>\r\n      </defs>\r\n      <g>\r\n       <use style=\"stroke:#000000;stroke-width:0.8;\" x=\"46.965625\" xlink:href=\"#m9214132199\" y=\"503.204437\"/>\r\n      </g>\r\n     </g>\r\n     <g id=\"text_10\">\r\n      <!-- 150 -->\r\n      <defs>\r\n       <path d=\"M 10.796875 72.90625 \r\nL 49.515625 72.90625 \r\nL 49.515625 64.59375 \r\nL 19.828125 64.59375 \r\nL 19.828125 46.734375 \r\nQ 21.96875 47.46875 24.109375 47.828125 \r\nQ 26.265625 48.1875 28.421875 48.1875 \r\nQ 40.625 48.1875 47.75 41.5 \r\nQ 54.890625 34.8125 54.890625 23.390625 \r\nQ 54.890625 11.625 47.5625 5.09375 \r\nQ 40.234375 -1.421875 26.90625 -1.421875 \r\nQ 22.3125 -1.421875 17.546875 -0.640625 \r\nQ 12.796875 0.140625 7.71875 1.703125 \r\nL 7.71875 11.625 \r\nQ 12.109375 9.234375 16.796875 8.0625 \r\nQ 21.484375 6.890625 26.703125 6.890625 \r\nQ 35.15625 6.890625 40.078125 11.328125 \r\nQ 45.015625 15.765625 45.015625 23.390625 \r\nQ 45.015625 31 40.078125 35.4375 \r\nQ 35.15625 39.890625 26.703125 39.890625 \r\nQ 22.75 39.890625 18.8125 39.015625 \r\nQ 14.890625 38.140625 10.796875 36.28125 \r\nz\r\n\" id=\"DejaVuSans-53\"/>\r\n      </defs>\r\n      <g transform=\"translate(20.878125 507.003656)scale(0.1 -0.1)\">\r\n       <use xlink:href=\"#DejaVuSans-49\"/>\r\n       <use x=\"63.623047\" xlink:href=\"#DejaVuSans-53\"/>\r\n       <use x=\"127.246094\" xlink:href=\"#DejaVuSans-48\"/>\r\n      </g>\r\n     </g>\r\n    </g>\r\n    <g id=\"ytick_2\">\r\n     <g id=\"line2d_10\">\r\n      <g>\r\n       <use style=\"stroke:#000000;stroke-width:0.8;\" x=\"46.965625\" xlink:href=\"#m9214132199\" y=\"420.609105\"/>\r\n      </g>\r\n     </g>\r\n     <g id=\"text_11\">\r\n      <!-- 200 -->\r\n      <g transform=\"translate(20.878125 424.408324)scale(0.1 -0.1)\">\r\n       <use xlink:href=\"#DejaVuSans-50\"/>\r\n       <use x=\"63.623047\" xlink:href=\"#DejaVuSans-48\"/>\r\n       <use x=\"127.246094\" xlink:href=\"#DejaVuSans-48\"/>\r\n      </g>\r\n     </g>\r\n    </g>\r\n    <g id=\"ytick_3\">\r\n     <g id=\"line2d_11\">\r\n      <g>\r\n       <use style=\"stroke:#000000;stroke-width:0.8;\" x=\"46.965625\" xlink:href=\"#m9214132199\" y=\"338.013773\"/>\r\n      </g>\r\n     </g>\r\n     <g id=\"text_12\">\r\n      <!-- 250 -->\r\n      <g transform=\"translate(20.878125 341.812992)scale(0.1 -0.1)\">\r\n       <use xlink:href=\"#DejaVuSans-50\"/>\r\n       <use x=\"63.623047\" xlink:href=\"#DejaVuSans-53\"/>\r\n       <use x=\"127.246094\" xlink:href=\"#DejaVuSans-48\"/>\r\n      </g>\r\n     </g>\r\n    </g>\r\n    <g id=\"ytick_4\">\r\n     <g id=\"line2d_12\">\r\n      <g>\r\n       <use style=\"stroke:#000000;stroke-width:0.8;\" x=\"46.965625\" xlink:href=\"#m9214132199\" y=\"255.418441\"/>\r\n      </g>\r\n     </g>\r\n     <g id=\"text_13\">\r\n      <!-- 300 -->\r\n      <defs>\r\n       <path d=\"M 40.578125 39.3125 \r\nQ 47.65625 37.796875 51.625 33 \r\nQ 55.609375 28.21875 55.609375 21.1875 \r\nQ 55.609375 10.40625 48.1875 4.484375 \r\nQ 40.765625 -1.421875 27.09375 -1.421875 \r\nQ 22.515625 -1.421875 17.65625 -0.515625 \r\nQ 12.796875 0.390625 7.625 2.203125 \r\nL 7.625 11.71875 \r\nQ 11.71875 9.328125 16.59375 8.109375 \r\nQ 21.484375 6.890625 26.8125 6.890625 \r\nQ 36.078125 6.890625 40.9375 10.546875 \r\nQ 45.796875 14.203125 45.796875 21.1875 \r\nQ 45.796875 27.640625 41.28125 31.265625 \r\nQ 36.765625 34.90625 28.71875 34.90625 \r\nL 20.21875 34.90625 \r\nL 20.21875 43.015625 \r\nL 29.109375 43.015625 \r\nQ 36.375 43.015625 40.234375 45.921875 \r\nQ 44.09375 48.828125 44.09375 54.296875 \r\nQ 44.09375 59.90625 40.109375 62.90625 \r\nQ 36.140625 65.921875 28.71875 65.921875 \r\nQ 24.65625 65.921875 20.015625 65.03125 \r\nQ 15.375 64.15625 9.8125 62.3125 \r\nL 9.8125 71.09375 \r\nQ 15.4375 72.65625 20.34375 73.4375 \r\nQ 25.25 74.21875 29.59375 74.21875 \r\nQ 40.828125 74.21875 47.359375 69.109375 \r\nQ 53.90625 64.015625 53.90625 55.328125 \r\nQ 53.90625 49.265625 50.4375 45.09375 \r\nQ 46.96875 40.921875 40.578125 39.3125 \r\nz\r\n\" id=\"DejaVuSans-51\"/>\r\n      </defs>\r\n      <g transform=\"translate(20.878125 259.21766)scale(0.1 -0.1)\">\r\n       <use xlink:href=\"#DejaVuSans-51\"/>\r\n       <use x=\"63.623047\" xlink:href=\"#DejaVuSans-48\"/>\r\n       <use x=\"127.246094\" xlink:href=\"#DejaVuSans-48\"/>\r\n      </g>\r\n     </g>\r\n    </g>\r\n    <g id=\"ytick_5\">\r\n     <g id=\"line2d_13\">\r\n      <g>\r\n       <use style=\"stroke:#000000;stroke-width:0.8;\" x=\"46.965625\" xlink:href=\"#m9214132199\" y=\"172.823109\"/>\r\n      </g>\r\n     </g>\r\n     <g id=\"text_14\">\r\n      <!-- 350 -->\r\n      <g transform=\"translate(20.878125 176.622327)scale(0.1 -0.1)\">\r\n       <use xlink:href=\"#DejaVuSans-51\"/>\r\n       <use x=\"63.623047\" xlink:href=\"#DejaVuSans-53\"/>\r\n       <use x=\"127.246094\" xlink:href=\"#DejaVuSans-48\"/>\r\n      </g>\r\n     </g>\r\n    </g>\r\n    <g id=\"ytick_6\">\r\n     <g id=\"line2d_14\">\r\n      <g>\r\n       <use style=\"stroke:#000000;stroke-width:0.8;\" x=\"46.965625\" xlink:href=\"#m9214132199\" y=\"90.227776\"/>\r\n      </g>\r\n     </g>\r\n     <g id=\"text_15\">\r\n      <!-- 400 -->\r\n      <g transform=\"translate(20.878125 94.026995)scale(0.1 -0.1)\">\r\n       <use xlink:href=\"#DejaVuSans-52\"/>\r\n       <use x=\"63.623047\" xlink:href=\"#DejaVuSans-48\"/>\r\n       <use x=\"127.246094\" xlink:href=\"#DejaVuSans-48\"/>\r\n      </g>\r\n     </g>\r\n    </g>\r\n    <g id=\"text_16\">\r\n     <!-- Price (Lakh Indian Rupees) -->\r\n     <defs>\r\n      <path d=\"M 19.671875 64.796875 \r\nL 19.671875 37.40625 \r\nL 32.078125 37.40625 \r\nQ 38.96875 37.40625 42.71875 40.96875 \r\nQ 46.484375 44.53125 46.484375 51.125 \r\nQ 46.484375 57.671875 42.71875 61.234375 \r\nQ 38.96875 64.796875 32.078125 64.796875 \r\nz\r\nM 9.8125 72.90625 \r\nL 32.078125 72.90625 \r\nQ 44.34375 72.90625 50.609375 67.359375 \r\nQ 56.890625 61.8125 56.890625 51.125 \r\nQ 56.890625 40.328125 50.609375 34.8125 \r\nQ 44.34375 29.296875 32.078125 29.296875 \r\nL 19.671875 29.296875 \r\nL 19.671875 0 \r\nL 9.8125 0 \r\nz\r\n\" id=\"DejaVuSans-80\"/>\r\n      <path d=\"M 9.421875 54.6875 \r\nL 18.40625 54.6875 \r\nL 18.40625 0 \r\nL 9.421875 0 \r\nz\r\nM 9.421875 75.984375 \r\nL 18.40625 75.984375 \r\nL 18.40625 64.59375 \r\nL 9.421875 64.59375 \r\nz\r\n\" id=\"DejaVuSans-105\"/>\r\n      <path d=\"M 48.78125 52.59375 \r\nL 48.78125 44.1875 \r\nQ 44.96875 46.296875 41.140625 47.34375 \r\nQ 37.3125 48.390625 33.40625 48.390625 \r\nQ 24.65625 48.390625 19.8125 42.84375 \r\nQ 14.984375 37.3125 14.984375 27.296875 \r\nQ 14.984375 17.28125 19.8125 11.734375 \r\nQ 24.65625 6.203125 33.40625 6.203125 \r\nQ 37.3125 6.203125 41.140625 7.25 \r\nQ 44.96875 8.296875 48.78125 10.40625 \r\nL 48.78125 2.09375 \r\nQ 45.015625 0.34375 40.984375 -0.53125 \r\nQ 36.96875 -1.421875 32.421875 -1.421875 \r\nQ 20.0625 -1.421875 12.78125 6.34375 \r\nQ 5.515625 14.109375 5.515625 27.296875 \r\nQ 5.515625 40.671875 12.859375 48.328125 \r\nQ 20.21875 56 33.015625 56 \r\nQ 37.15625 56 41.109375 55.140625 \r\nQ 45.0625 54.296875 48.78125 52.59375 \r\nz\r\n\" id=\"DejaVuSans-99\"/>\r\n      <path d=\"M 31 75.875 \r\nQ 24.46875 64.65625 21.28125 53.65625 \r\nQ 18.109375 42.671875 18.109375 31.390625 \r\nQ 18.109375 20.125 21.3125 9.0625 \r\nQ 24.515625 -2 31 -13.1875 \r\nL 23.1875 -13.1875 \r\nQ 15.875 -1.703125 12.234375 9.375 \r\nQ 8.59375 20.453125 8.59375 31.390625 \r\nQ 8.59375 42.28125 12.203125 53.3125 \r\nQ 15.828125 64.359375 23.1875 75.875 \r\nz\r\n\" id=\"DejaVuSans-40\"/>\r\n      <path d=\"M 9.8125 72.90625 \r\nL 19.671875 72.90625 \r\nL 19.671875 8.296875 \r\nL 55.171875 8.296875 \r\nL 55.171875 0 \r\nL 9.8125 0 \r\nz\r\n\" id=\"DejaVuSans-76\"/>\r\n      <path d=\"M 9.078125 75.984375 \r\nL 18.109375 75.984375 \r\nL 18.109375 31.109375 \r\nL 44.921875 54.6875 \r\nL 56.390625 54.6875 \r\nL 27.390625 29.109375 \r\nL 57.625 0 \r\nL 45.90625 0 \r\nL 18.109375 26.703125 \r\nL 18.109375 0 \r\nL 9.078125 0 \r\nz\r\n\" id=\"DejaVuSans-107\"/>\r\n      <path d=\"M 54.890625 33.015625 \r\nL 54.890625 0 \r\nL 45.90625 0 \r\nL 45.90625 32.71875 \r\nQ 45.90625 40.484375 42.875 44.328125 \r\nQ 39.84375 48.1875 33.796875 48.1875 \r\nQ 26.515625 48.1875 22.3125 43.546875 \r\nQ 18.109375 38.921875 18.109375 30.90625 \r\nL 18.109375 0 \r\nL 9.078125 0 \r\nL 9.078125 75.984375 \r\nL 18.109375 75.984375 \r\nL 18.109375 46.1875 \r\nQ 21.34375 51.125 25.703125 53.5625 \r\nQ 30.078125 56 35.796875 56 \r\nQ 45.21875 56 50.046875 50.171875 \r\nQ 54.890625 44.34375 54.890625 33.015625 \r\nz\r\n\" id=\"DejaVuSans-104\"/>\r\n      <path d=\"M 9.8125 72.90625 \r\nL 19.671875 72.90625 \r\nL 19.671875 0 \r\nL 9.8125 0 \r\nz\r\n\" id=\"DejaVuSans-73\"/>\r\n      <path d=\"M 54.890625 33.015625 \r\nL 54.890625 0 \r\nL 45.90625 0 \r\nL 45.90625 32.71875 \r\nQ 45.90625 40.484375 42.875 44.328125 \r\nQ 39.84375 48.1875 33.796875 48.1875 \r\nQ 26.515625 48.1875 22.3125 43.546875 \r\nQ 18.109375 38.921875 18.109375 30.90625 \r\nL 18.109375 0 \r\nL 9.078125 0 \r\nL 9.078125 54.6875 \r\nL 18.109375 54.6875 \r\nL 18.109375 46.1875 \r\nQ 21.34375 51.125 25.703125 53.5625 \r\nQ 30.078125 56 35.796875 56 \r\nQ 45.21875 56 50.046875 50.171875 \r\nQ 54.890625 44.34375 54.890625 33.015625 \r\nz\r\n\" id=\"DejaVuSans-110\"/>\r\n      <path d=\"M 45.40625 46.390625 \r\nL 45.40625 75.984375 \r\nL 54.390625 75.984375 \r\nL 54.390625 0 \r\nL 45.40625 0 \r\nL 45.40625 8.203125 \r\nQ 42.578125 3.328125 38.25 0.953125 \r\nQ 33.9375 -1.421875 27.875 -1.421875 \r\nQ 17.96875 -1.421875 11.734375 6.484375 \r\nQ 5.515625 14.40625 5.515625 27.296875 \r\nQ 5.515625 40.1875 11.734375 48.09375 \r\nQ 17.96875 56 27.875 56 \r\nQ 33.9375 56 38.25 53.625 \r\nQ 42.578125 51.265625 45.40625 46.390625 \r\nz\r\nM 14.796875 27.296875 \r\nQ 14.796875 17.390625 18.875 11.75 \r\nQ 22.953125 6.109375 30.078125 6.109375 \r\nQ 37.203125 6.109375 41.296875 11.75 \r\nQ 45.40625 17.390625 45.40625 27.296875 \r\nQ 45.40625 37.203125 41.296875 42.84375 \r\nQ 37.203125 48.484375 30.078125 48.484375 \r\nQ 22.953125 48.484375 18.875 42.84375 \r\nQ 14.796875 37.203125 14.796875 27.296875 \r\nz\r\n\" id=\"DejaVuSans-100\"/>\r\n      <path d=\"M 44.390625 34.1875 \r\nQ 47.5625 33.109375 50.5625 29.59375 \r\nQ 53.5625 26.078125 56.59375 19.921875 \r\nL 66.609375 0 \r\nL 56 0 \r\nL 46.6875 18.703125 \r\nQ 43.0625 26.03125 39.671875 28.421875 \r\nQ 36.28125 30.8125 30.421875 30.8125 \r\nL 19.671875 30.8125 \r\nL 19.671875 0 \r\nL 9.8125 0 \r\nL 9.8125 72.90625 \r\nL 32.078125 72.90625 \r\nQ 44.578125 72.90625 50.734375 67.671875 \r\nQ 56.890625 62.453125 56.890625 51.90625 \r\nQ 56.890625 45.015625 53.6875 40.46875 \r\nQ 50.484375 35.9375 44.390625 34.1875 \r\nz\r\nM 19.671875 64.796875 \r\nL 19.671875 38.921875 \r\nL 32.078125 38.921875 \r\nQ 39.203125 38.921875 42.84375 42.21875 \r\nQ 46.484375 45.515625 46.484375 51.90625 \r\nQ 46.484375 58.296875 42.84375 61.546875 \r\nQ 39.203125 64.796875 32.078125 64.796875 \r\nz\r\n\" id=\"DejaVuSans-82\"/>\r\n      <path d=\"M 18.109375 8.203125 \r\nL 18.109375 -20.796875 \r\nL 9.078125 -20.796875 \r\nL 9.078125 54.6875 \r\nL 18.109375 54.6875 \r\nL 18.109375 46.390625 \r\nQ 20.953125 51.265625 25.265625 53.625 \r\nQ 29.59375 56 35.59375 56 \r\nQ 45.5625 56 51.78125 48.09375 \r\nQ 58.015625 40.1875 58.015625 27.296875 \r\nQ 58.015625 14.40625 51.78125 6.484375 \r\nQ 45.5625 -1.421875 35.59375 -1.421875 \r\nQ 29.59375 -1.421875 25.265625 0.953125 \r\nQ 20.953125 3.328125 18.109375 8.203125 \r\nz\r\nM 48.6875 27.296875 \r\nQ 48.6875 37.203125 44.609375 42.84375 \r\nQ 40.53125 48.484375 33.40625 48.484375 \r\nQ 26.265625 48.484375 22.1875 42.84375 \r\nQ 18.109375 37.203125 18.109375 27.296875 \r\nQ 18.109375 17.390625 22.1875 11.75 \r\nQ 26.265625 6.109375 33.40625 6.109375 \r\nQ 40.53125 6.109375 44.609375 11.75 \r\nQ 48.6875 17.390625 48.6875 27.296875 \r\nz\r\n\" id=\"DejaVuSans-112\"/>\r\n      <path d=\"M 44.28125 53.078125 \r\nL 44.28125 44.578125 \r\nQ 40.484375 46.53125 36.375 47.5 \r\nQ 32.28125 48.484375 27.875 48.484375 \r\nQ 21.1875 48.484375 17.84375 46.4375 \r\nQ 14.5 44.390625 14.5 40.28125 \r\nQ 14.5 37.15625 16.890625 35.375 \r\nQ 19.28125 33.59375 26.515625 31.984375 \r\nL 29.59375 31.296875 \r\nQ 39.15625 29.25 43.1875 25.515625 \r\nQ 47.21875 21.78125 47.21875 15.09375 \r\nQ 47.21875 7.46875 41.1875 3.015625 \r\nQ 35.15625 -1.421875 24.609375 -1.421875 \r\nQ 20.21875 -1.421875 15.453125 -0.5625 \r\nQ 10.6875 0.296875 5.421875 2 \r\nL 5.421875 11.28125 \r\nQ 10.40625 8.6875 15.234375 7.390625 \r\nQ 20.0625 6.109375 24.8125 6.109375 \r\nQ 31.15625 6.109375 34.5625 8.28125 \r\nQ 37.984375 10.453125 37.984375 14.40625 \r\nQ 37.984375 18.0625 35.515625 20.015625 \r\nQ 33.0625 21.96875 24.703125 23.78125 \r\nL 21.578125 24.515625 \r\nQ 13.234375 26.265625 9.515625 29.90625 \r\nQ 5.8125 33.546875 5.8125 39.890625 \r\nQ 5.8125 47.609375 11.28125 51.796875 \r\nQ 16.75 56 26.8125 56 \r\nQ 31.78125 56 36.171875 55.265625 \r\nQ 40.578125 54.546875 44.28125 53.078125 \r\nz\r\n\" id=\"DejaVuSans-115\"/>\r\n      <path d=\"M 8.015625 75.875 \r\nL 15.828125 75.875 \r\nQ 23.140625 64.359375 26.78125 53.3125 \r\nQ 30.421875 42.28125 30.421875 31.390625 \r\nQ 30.421875 20.453125 26.78125 9.375 \r\nQ 23.140625 -1.703125 15.828125 -13.1875 \r\nL 8.015625 -13.1875 \r\nQ 14.5 -2 17.703125 9.0625 \r\nQ 20.90625 20.125 20.90625 31.390625 \r\nQ 20.90625 42.671875 17.703125 53.65625 \r\nQ 14.5 64.65625 8.015625 75.875 \r\nz\r\n\" id=\"DejaVuSans-41\"/>\r\n     </defs>\r\n     <g transform=\"translate(14.798438 360.997031)rotate(-90)scale(0.1 -0.1)\">\r\n      <use xlink:href=\"#DejaVuSans-80\"/>\r\n      <use x=\"60.287109\" xlink:href=\"#DejaVuSans-114\"/>\r\n      <use x=\"101.400391\" xlink:href=\"#DejaVuSans-105\"/>\r\n      <use x=\"129.183594\" xlink:href=\"#DejaVuSans-99\"/>\r\n      <use x=\"184.164062\" xlink:href=\"#DejaVuSans-101\"/>\r\n      <use x=\"245.6875\" xlink:href=\"#DejaVuSans-32\"/>\r\n      <use x=\"277.474609\" xlink:href=\"#DejaVuSans-40\"/>\r\n      <use x=\"316.488281\" xlink:href=\"#DejaVuSans-76\"/>\r\n      <use x=\"372.201172\" xlink:href=\"#DejaVuSans-97\"/>\r\n      <use x=\"433.480469\" xlink:href=\"#DejaVuSans-107\"/>\r\n      <use x=\"491.390625\" xlink:href=\"#DejaVuSans-104\"/>\r\n      <use x=\"554.769531\" xlink:href=\"#DejaVuSans-32\"/>\r\n      <use x=\"586.556641\" xlink:href=\"#DejaVuSans-73\"/>\r\n      <use x=\"616.048828\" xlink:href=\"#DejaVuSans-110\"/>\r\n      <use x=\"679.427734\" xlink:href=\"#DejaVuSans-100\"/>\r\n      <use x=\"742.904297\" xlink:href=\"#DejaVuSans-105\"/>\r\n      <use x=\"770.6875\" xlink:href=\"#DejaVuSans-97\"/>\r\n      <use x=\"831.966797\" xlink:href=\"#DejaVuSans-110\"/>\r\n      <use x=\"895.345703\" xlink:href=\"#DejaVuSans-32\"/>\r\n      <use x=\"927.132812\" xlink:href=\"#DejaVuSans-82\"/>\r\n      <use x=\"996.552734\" xlink:href=\"#DejaVuSans-117\"/>\r\n      <use x=\"1059.931641\" xlink:href=\"#DejaVuSans-112\"/>\r\n      <use x=\"1123.408203\" xlink:href=\"#DejaVuSans-101\"/>\r\n      <use x=\"1184.931641\" xlink:href=\"#DejaVuSans-101\"/>\r\n      <use x=\"1246.455078\" xlink:href=\"#DejaVuSans-115\"/>\r\n      <use x=\"1298.554688\" xlink:href=\"#DejaVuSans-41\"/>\r\n     </g>\r\n    </g>\r\n   </g>\r\n   <g id=\"patch_3\">\r\n    <path d=\"M 46.965625 565.918125 \r\nL 46.965625 22.318125 \r\n\" style=\"fill:none;stroke:#000000;stroke-linecap:square;stroke-linejoin:miter;stroke-width:0.8;\"/>\r\n   </g>\r\n   <g id=\"patch_4\">\r\n    <path d=\"M 883.965625 565.918125 \r\nL 883.965625 22.318125 \r\n\" style=\"fill:none;stroke:#000000;stroke-linecap:square;stroke-linejoin:miter;stroke-width:0.8;\"/>\r\n   </g>\r\n   <g id=\"patch_5\">\r\n    <path d=\"M 46.965625 565.918125 \r\nL 883.965625 565.918125 \r\n\" style=\"fill:none;stroke:#000000;stroke-linecap:square;stroke-linejoin:miter;stroke-width:0.8;\"/>\r\n   </g>\r\n   <g id=\"patch_6\">\r\n    <path d=\"M 46.965625 22.318125 \r\nL 883.965625 22.318125 \r\n\" style=\"fill:none;stroke:#000000;stroke-linecap:square;stroke-linejoin:miter;stroke-width:0.8;\"/>\r\n   </g>\r\n   <g id=\"text_17\">\r\n    <!-- Rajaji Nagar -->\r\n    <defs>\r\n     <path d=\"M 9.421875 54.6875 \r\nL 18.40625 54.6875 \r\nL 18.40625 -0.984375 \r\nQ 18.40625 -11.421875 14.421875 -16.109375 \r\nQ 10.453125 -20.796875 1.609375 -20.796875 \r\nL -1.8125 -20.796875 \r\nL -1.8125 -13.1875 \r\nL 0.59375 -13.1875 \r\nQ 5.71875 -13.1875 7.5625 -10.8125 \r\nQ 9.421875 -8.453125 9.421875 -0.984375 \r\nz\r\nM 9.421875 75.984375 \r\nL 18.40625 75.984375 \r\nL 18.40625 64.59375 \r\nL 9.421875 64.59375 \r\nz\r\n\" id=\"DejaVuSans-106\"/>\r\n     <path d=\"M 9.8125 72.90625 \r\nL 23.09375 72.90625 \r\nL 55.421875 11.921875 \r\nL 55.421875 72.90625 \r\nL 64.984375 72.90625 \r\nL 64.984375 0 \r\nL 51.703125 0 \r\nL 19.390625 60.984375 \r\nL 19.390625 0 \r\nL 9.8125 0 \r\nz\r\n\" id=\"DejaVuSans-78\"/>\r\n     <path d=\"M 45.40625 27.984375 \r\nQ 45.40625 37.75 41.375 43.109375 \r\nQ 37.359375 48.484375 30.078125 48.484375 \r\nQ 22.859375 48.484375 18.828125 43.109375 \r\nQ 14.796875 37.75 14.796875 27.984375 \r\nQ 14.796875 18.265625 18.828125 12.890625 \r\nQ 22.859375 7.515625 30.078125 7.515625 \r\nQ 37.359375 7.515625 41.375 12.890625 \r\nQ 45.40625 18.265625 45.40625 27.984375 \r\nz\r\nM 54.390625 6.78125 \r\nQ 54.390625 -7.171875 48.1875 -13.984375 \r\nQ 42 -20.796875 29.203125 -20.796875 \r\nQ 24.46875 -20.796875 20.265625 -20.09375 \r\nQ 16.0625 -19.390625 12.109375 -17.921875 \r\nL 12.109375 -9.1875 \r\nQ 16.0625 -11.328125 19.921875 -12.34375 \r\nQ 23.78125 -13.375 27.78125 -13.375 \r\nQ 36.625 -13.375 41.015625 -8.765625 \r\nQ 45.40625 -4.15625 45.40625 5.171875 \r\nL 45.40625 9.625 \r\nQ 42.625 4.78125 38.28125 2.390625 \r\nQ 33.9375 0 27.875 0 \r\nQ 17.828125 0 11.671875 7.65625 \r\nQ 5.515625 15.328125 5.515625 27.984375 \r\nQ 5.515625 40.671875 11.671875 48.328125 \r\nQ 17.828125 56 27.875 56 \r\nQ 33.9375 56 38.28125 53.609375 \r\nQ 42.625 51.21875 45.40625 46.390625 \r\nL 45.40625 54.6875 \r\nL 54.390625 54.6875 \r\nz\r\n\" id=\"DejaVuSans-103\"/>\r\n    </defs>\r\n    <g transform=\"translate(428.919063 16.318125)scale(0.12 -0.12)\">\r\n     <use xlink:href=\"#DejaVuSans-82\"/>\r\n     <use x=\"69.451172\" xlink:href=\"#DejaVuSans-97\"/>\r\n     <use x=\"130.730469\" xlink:href=\"#DejaVuSans-106\"/>\r\n     <use x=\"158.513672\" xlink:href=\"#DejaVuSans-97\"/>\r\n     <use x=\"219.792969\" xlink:href=\"#DejaVuSans-106\"/>\r\n     <use x=\"247.576172\" xlink:href=\"#DejaVuSans-105\"/>\r\n     <use x=\"275.359375\" xlink:href=\"#DejaVuSans-32\"/>\r\n     <use x=\"307.146484\" xlink:href=\"#DejaVuSans-78\"/>\r\n     <use x=\"381.951172\" xlink:href=\"#DejaVuSans-97\"/>\r\n     <use x=\"443.230469\" xlink:href=\"#DejaVuSans-103\"/>\r\n     <use x=\"506.707031\" xlink:href=\"#DejaVuSans-97\"/>\r\n     <use x=\"567.986328\" xlink:href=\"#DejaVuSans-114\"/>\r\n    </g>\r\n   </g>\r\n   <g id=\"legend_1\">\r\n    <g id=\"patch_7\">\r\n     <path d=\"M 53.965625 59.674375 \r\nL 116.445313 59.674375 \r\nQ 118.445313 59.674375 118.445313 57.674375 \r\nL 118.445313 29.318125 \r\nQ 118.445313 27.318125 116.445313 27.318125 \r\nL 53.965625 27.318125 \r\nQ 51.965625 27.318125 51.965625 29.318125 \r\nL 51.965625 57.674375 \r\nQ 51.965625 59.674375 53.965625 59.674375 \r\nz\r\n\" style=\"fill:#ffffff;opacity:0.8;stroke:#cccccc;stroke-linejoin:miter;\"/>\r\n    </g>\r\n    <g id=\"PathCollection_3\">\r\n     <g>\r\n      <use style=\"fill:#0000ff;stroke:#0000ff;\" x=\"65.965625\" xlink:href=\"#mbf8e1d7451\" y=\"36.291562\"/>\r\n     </g>\r\n    </g>\r\n    <g id=\"text_18\">\r\n     <!-- 2 BHK -->\r\n     <defs>\r\n      <path d=\"M 19.671875 34.8125 \r\nL 19.671875 8.109375 \r\nL 35.5 8.109375 \r\nQ 43.453125 8.109375 47.28125 11.40625 \r\nQ 51.125 14.703125 51.125 21.484375 \r\nQ 51.125 28.328125 47.28125 31.5625 \r\nQ 43.453125 34.8125 35.5 34.8125 \r\nz\r\nM 19.671875 64.796875 \r\nL 19.671875 42.828125 \r\nL 34.28125 42.828125 \r\nQ 41.5 42.828125 45.03125 45.53125 \r\nQ 48.578125 48.25 48.578125 53.8125 \r\nQ 48.578125 59.328125 45.03125 62.0625 \r\nQ 41.5 64.796875 34.28125 64.796875 \r\nz\r\nM 9.8125 72.90625 \r\nL 35.015625 72.90625 \r\nQ 46.296875 72.90625 52.390625 68.21875 \r\nQ 58.5 63.53125 58.5 54.890625 \r\nQ 58.5 48.1875 55.375 44.234375 \r\nQ 52.25 40.28125 46.1875 39.3125 \r\nQ 53.46875 37.75 57.5 32.78125 \r\nQ 61.53125 27.828125 61.53125 20.40625 \r\nQ 61.53125 10.640625 54.890625 5.3125 \r\nQ 48.25 0 35.984375 0 \r\nL 9.8125 0 \r\nz\r\n\" id=\"DejaVuSans-66\"/>\r\n      <path d=\"M 9.8125 72.90625 \r\nL 19.671875 72.90625 \r\nL 19.671875 43.015625 \r\nL 55.515625 43.015625 \r\nL 55.515625 72.90625 \r\nL 65.375 72.90625 \r\nL 65.375 0 \r\nL 55.515625 0 \r\nL 55.515625 34.71875 \r\nL 19.671875 34.71875 \r\nL 19.671875 0 \r\nL 9.8125 0 \r\nz\r\n\" id=\"DejaVuSans-72\"/>\r\n      <path d=\"M 9.8125 72.90625 \r\nL 19.671875 72.90625 \r\nL 19.671875 42.09375 \r\nL 52.390625 72.90625 \r\nL 65.09375 72.90625 \r\nL 28.90625 38.921875 \r\nL 67.671875 0 \r\nL 54.6875 0 \r\nL 19.671875 35.109375 \r\nL 19.671875 0 \r\nL 9.8125 0 \r\nz\r\n\" id=\"DejaVuSans-75\"/>\r\n     </defs>\r\n     <g transform=\"translate(83.965625 38.916562)scale(0.1 -0.1)\">\r\n      <use xlink:href=\"#DejaVuSans-50\"/>\r\n      <use x=\"63.623047\" xlink:href=\"#DejaVuSans-32\"/>\r\n      <use x=\"95.410156\" xlink:href=\"#DejaVuSans-66\"/>\r\n      <use x=\"164.013672\" xlink:href=\"#DejaVuSans-72\"/>\r\n      <use x=\"239.208984\" xlink:href=\"#DejaVuSans-75\"/>\r\n     </g>\r\n    </g>\r\n    <g id=\"PathCollection_4\">\r\n     <g>\r\n      <use style=\"fill:#008000;stroke:#008000;stroke-width:1.5;\" x=\"65.965625\" xlink:href=\"#m68b77cace3\" y=\"50.969687\"/>\r\n     </g>\r\n    </g>\r\n    <g id=\"text_19\">\r\n     <!-- 3 BHK -->\r\n     <g transform=\"translate(83.965625 53.594687)scale(0.1 -0.1)\">\r\n      <use xlink:href=\"#DejaVuSans-51\"/>\r\n      <use x=\"63.623047\" xlink:href=\"#DejaVuSans-32\"/>\r\n      <use x=\"95.410156\" xlink:href=\"#DejaVuSans-66\"/>\r\n      <use x=\"164.013672\" xlink:href=\"#DejaVuSans-72\"/>\r\n      <use x=\"239.208984\" xlink:href=\"#DejaVuSans-75\"/>\r\n     </g>\r\n    </g>\r\n   </g>\r\n  </g>\r\n </g>\r\n <defs>\r\n  <clipPath id=\"pd3616501b9\">\r\n   <rect height=\"543.6\" width=\"837\" x=\"46.965625\" y=\"22.318125\"/>\r\n  </clipPath>\r\n </defs>\r\n</svg>\r\n",
      "image/png": "[encoded data removed]"
     },
     "metadata": {
      "needs_background": "light"
     }
    }
   ],
   "source": [
    "def plot_scatter_chart(df,location):\n",
    "    bhk2 = df[(df.location==location) & (df.bhk==2)]\n",
    "    bhk3 = df[(df.location==location) & (df.bhk==3)]\n",
    "    matplotlib.rcParams['figure.figsize'] = (15,10)\n",
    "    plt.scatter(bhk2.total_sqft,bhk2.price,color='blue',label='2 BHK', s=50)\n",
    "    plt.scatter(bhk3.total_sqft,bhk3.price,marker='+', color='green',label='3 BHK', s=50)\n",
    "    plt.xlabel(\"Total Square Feet Area\")\n",
    "    plt.ylabel(\"Price (Lakh Indian Rupees)\")\n",
    "    plt.title(location)\n",
    "    plt.legend()\n",
    "    \n",
    "plot_scatter_chart(df,\"Rajaji Nagar\")\n"
   ]
  },
  {
   "cell_type": "code",
   "execution_count": 68,
   "metadata": {},
   "outputs": [
    {
     "output_type": "display_data",
     "data": {
      "text/plain": "<Figure size 1080x720 with 1 Axes>",
      "image/svg+xml": "<?xml version=\"1.0\" encoding=\"utf-8\" standalone=\"no\"?>\r\n<!DOCTYPE svg PUBLIC \"-//W3C//DTD SVG 1.1//EN\"\r\n  \"http://www.w3.org/Graphics/SVG/1.1/DTD/svg11.dtd\">\r\n<!-- Created with matplotlib (https://matplotlib.org/) -->\r\n<svg height=\"603.474375pt\" version=\"1.1\" viewBox=\"0 0 891.165625 603.474375\" width=\"891.165625pt\" xmlns=\"http://www.w3.org/2000/svg\" xmlns:xlink=\"http://www.w3.org/1999/xlink\">\r\n <defs>\r\n  <style type=\"text/css\">\r\n*{stroke-linecap:butt;stroke-linejoin:round;}\r\n  </style>\r\n </defs>\r\n <g id=\"figure_1\">\r\n  <g id=\"patch_1\">\r\n   <path d=\"M 0 603.474375 \r\nL 891.165625 603.474375 \r\nL 891.165625 0 \r\nL 0 0 \r\nz\r\n\" style=\"fill:none;\"/>\r\n  </g>\r\n  <g id=\"axes_1\">\r\n   <g id=\"patch_2\">\r\n    <path d=\"M 46.965625 565.918125 \r\nL 883.965625 565.918125 \r\nL 883.965625 22.318125 \r\nL 46.965625 22.318125 \r\nz\r\n\" style=\"fill:#ffffff;\"/>\r\n   </g>\r\n   <g id=\"PathCollection_1\">\r\n    <defs>\r\n     <path d=\"M 0 3.535534 \r\nC 0.937635 3.535534 1.836992 3.163008 2.5 2.5 \r\nC 3.163008 1.836992 3.535534 0.937635 3.535534 0 \r\nC 3.535534 -0.937635 3.163008 -1.836992 2.5 -2.5 \r\nC 1.836992 -3.163008 0.937635 -3.535534 0 -3.535534 \r\nC -0.937635 -3.535534 -1.836992 -3.163008 -2.5 -2.5 \r\nC -3.163008 -1.836992 -3.535534 -0.937635 -3.535534 0 \r\nC -3.535534 0.937635 -3.163008 1.836992 -2.5 2.5 \r\nC -1.836992 3.163008 -0.937635 3.535534 0 3.535534 \r\nz\r\n\" id=\"m9eab63ddb7\" style=\"stroke:#0000ff;\"/>\r\n    </defs>\r\n    <g clip-path=\"url(#p64259ab7fb)\">\r\n     <use style=\"fill:#0000ff;stroke:#0000ff;\" x=\"262.530966\" xlink:href=\"#m9eab63ddb7\" y=\"442.525063\"/>\r\n     <use style=\"fill:#0000ff;stroke:#0000ff;\" x=\"259.311523\" xlink:href=\"#m9eab63ddb7\" y=\"471.337121\"/>\r\n     <use style=\"fill:#0000ff;stroke:#0000ff;\" x=\"262.530966\" xlink:href=\"#m9eab63ddb7\" y=\"442.880768\"/>\r\n     <use style=\"fill:#0000ff;stroke:#0000ff;\" x=\"85.012213\" xlink:href=\"#m9eab63ddb7\" y=\"541.197467\"/>\r\n     <use style=\"fill:#0000ff;stroke:#0000ff;\" x=\"190.361782\" xlink:href=\"#m9eab63ddb7\" y=\"521.135738\"/>\r\n     <use style=\"fill:#0000ff;stroke:#0000ff;\" x=\"118.460886\" xlink:href=\"#m9eab63ddb7\" y=\"519.357216\"/>\r\n     <use style=\"fill:#0000ff;stroke:#0000ff;\" x=\"189.020348\" xlink:href=\"#m9eab63ddb7\" y=\"524.692782\"/>\r\n     <use style=\"fill:#0000ff;stroke:#0000ff;\" x=\"121.412042\" xlink:href=\"#m9eab63ddb7\" y=\"527.129357\"/>\r\n     <use style=\"fill:#0000ff;stroke:#0000ff;\" x=\"281.579338\" xlink:href=\"#m9eab63ddb7\" y=\"398.417717\"/>\r\n     <use style=\"fill:#0000ff;stroke:#0000ff;\" x=\"281.579338\" xlink:href=\"#m9eab63ddb7\" y=\"440.408622\"/>\r\n     <use style=\"fill:#0000ff;stroke:#0000ff;\" x=\"281.579338\" xlink:href=\"#m9eab63ddb7\" y=\"440.408622\"/>\r\n     <use style=\"fill:#0000ff;stroke:#0000ff;\" x=\"286.945076\" xlink:href=\"#m9eab63ddb7\" y=\"412.645893\"/>\r\n     <use style=\"fill:#0000ff;stroke:#0000ff;\" x=\"195.727521\" xlink:href=\"#m9eab63ddb7\" y=\"521.135738\"/>\r\n     <use style=\"fill:#0000ff;stroke:#0000ff;\" x=\"281.579338\" xlink:href=\"#m9eab63ddb7\" y=\"426.874069\"/>\r\n     <use style=\"fill:#0000ff;stroke:#0000ff;\" x=\"254.750645\" xlink:href=\"#m9eab63ddb7\" y=\"453.5519\"/>\r\n     <use style=\"fill:#0000ff;stroke:#0000ff;\" x=\"147.167587\" xlink:href=\"#m9eab63ddb7\" y=\"530.028348\"/>\r\n     <use style=\"fill:#0000ff;stroke:#0000ff;\" x=\"236.238847\" xlink:href=\"#m9eab63ddb7\" y=\"459.367667\"/>\r\n     <use style=\"fill:#0000ff;stroke:#0000ff;\" x=\"192.508078\" xlink:href=\"#m9eab63ddb7\" y=\"507.885749\"/>\r\n     <use style=\"fill:#0000ff;stroke:#0000ff;\" x=\"262.530966\" xlink:href=\"#m9eab63ddb7\" y=\"443.236472\"/>\r\n     <use style=\"fill:#0000ff;stroke:#0000ff;\" x=\"261.189531\" xlink:href=\"#m9eab63ddb7\" y=\"425.095547\"/>\r\n     <use style=\"fill:#0000ff;stroke:#0000ff;\" x=\"205.922424\" xlink:href=\"#m9eab63ddb7\" y=\"421.538503\"/>\r\n     <use style=\"fill:#0000ff;stroke:#0000ff;\" x=\"192.508078\" xlink:href=\"#m9eab63ddb7\" y=\"506.907562\"/>\r\n     <use style=\"fill:#0000ff;stroke:#0000ff;\" x=\"249.11662\" xlink:href=\"#m9eab63ddb7\" y=\"439.323724\"/>\r\n     <use style=\"fill:#0000ff;stroke:#0000ff;\" x=\"222.556214\" xlink:href=\"#m9eab63ddb7\" y=\"510.464606\"/>\r\n     <use style=\"fill:#0000ff;stroke:#0000ff;\" x=\"273.53073\" xlink:href=\"#m9eab63ddb7\" y=\"448.216334\"/>\r\n     <use style=\"fill:#0000ff;stroke:#0000ff;\" x=\"258.238375\" xlink:href=\"#m9eab63ddb7\" y=\"439.323724\"/>\r\n     <use style=\"fill:#0000ff;stroke:#0000ff;\" x=\"258.238375\" xlink:href=\"#m9eab63ddb7\" y=\"432.209636\"/>\r\n     <use style=\"fill:#0000ff;stroke:#0000ff;\" x=\"261.457818\" xlink:href=\"#m9eab63ddb7\" y=\"444.65929\"/>\r\n     <use style=\"fill:#0000ff;stroke:#0000ff;\" x=\"164.874524\" xlink:href=\"#m9eab63ddb7\" y=\"506.907562\"/>\r\n     <use style=\"fill:#0000ff;stroke:#0000ff;\" x=\"254.750645\" xlink:href=\"#m9eab63ddb7\" y=\"455.330422\"/>\r\n     <use style=\"fill:#0000ff;stroke:#0000ff;\" x=\"179.630305\" xlink:href=\"#m9eab63ddb7\" y=\"519.357216\"/>\r\n     <use style=\"fill:#0000ff;stroke:#0000ff;\" x=\"189.020348\" xlink:href=\"#m9eab63ddb7\" y=\"524.692782\"/>\r\n     <use style=\"fill:#0000ff;stroke:#0000ff;\" x=\"281.579338\" xlink:href=\"#m9eab63ddb7\" y=\"440.408622\"/>\r\n     <use style=\"fill:#0000ff;stroke:#0000ff;\" x=\"212.36131\" xlink:href=\"#m9eab63ddb7\" y=\"494.457907\"/>\r\n     <use style=\"fill:#0000ff;stroke:#0000ff;\" x=\"195.727521\" xlink:href=\"#m9eab63ddb7\" y=\"510.464606\"/>\r\n     <use style=\"fill:#0000ff;stroke:#0000ff;\" x=\"249.11662\" xlink:href=\"#m9eab63ddb7\" y=\"444.65929\"/>\r\n     <use style=\"fill:#0000ff;stroke:#0000ff;\" x=\"281.579338\" xlink:href=\"#m9eab63ddb7\" y=\"440.63983\"/>\r\n     <use style=\"fill:#0000ff;stroke:#0000ff;\" x=\"236.507134\" xlink:href=\"#m9eab63ddb7\" y=\"453.5519\"/>\r\n     <use style=\"fill:#0000ff;stroke:#0000ff;\" x=\"212.36131\" xlink:href=\"#m9eab63ddb7\" y=\"512.243128\"/>\r\n     <use style=\"fill:#0000ff;stroke:#0000ff;\" x=\"247.775185\" xlink:href=\"#m9eab63ddb7\" y=\"412.645893\"/>\r\n     <use style=\"fill:#0000ff;stroke:#0000ff;\" x=\"209.141867\" xlink:href=\"#m9eab63ddb7\" y=\"515.800172\"/>\r\n     <use style=\"fill:#0000ff;stroke:#0000ff;\" x=\"262.530966\" xlink:href=\"#m9eab63ddb7\" y=\"442.880768\"/>\r\n     <use style=\"fill:#0000ff;stroke:#0000ff;\" x=\"262.530966\" xlink:href=\"#m9eab63ddb7\" y=\"445.014994\"/>\r\n    </g>\r\n   </g>\r\n   <g id=\"PathCollection_2\">\r\n    <defs>\r\n     <path d=\"M -3.535534 0 \r\nL 3.535534 0 \r\nM 0 3.535534 \r\nL 0 -3.535534 \r\n\" id=\"mcc40c1fb67\" style=\"stroke:#008000;stroke-width:1.5;\"/>\r\n    </defs>\r\n    <g clip-path=\"url(#p64259ab7fb)\">\r\n     <use style=\"fill:#008000;stroke:#008000;stroke-width:1.5;\" x=\"372.796893\" xlink:href=\"#mcc40c1fb67\" y=\"398.417717\"/>\r\n     <use style=\"fill:#008000;stroke:#008000;stroke-width:1.5;\" x=\"410.357063\" xlink:href=\"#mcc40c1fb67\" y=\"405.531805\"/>\r\n     <use style=\"fill:#008000;stroke:#008000;stroke-width:1.5;\" x=\"372.796893\" xlink:href=\"#mcc40c1fb67\" y=\"385.968062\"/>\r\n     <use style=\"fill:#008000;stroke:#008000;stroke-width:1.5;\" x=\"826.201802\" xlink:href=\"#mcc40c1fb67\" y=\"154.760196\"/>\r\n     <use style=\"fill:#008000;stroke:#008000;stroke-width:1.5;\" x=\"415.722802\" xlink:href=\"#mcc40c1fb67\" y=\"378.853974\"/>\r\n     <use style=\"fill:#008000;stroke:#008000;stroke-width:1.5;\" x=\"237.311995\" xlink:href=\"#mcc40c1fb67\" y=\"479.020336\"/>\r\n     <use style=\"fill:#008000;stroke:#008000;stroke-width:1.5;\" x=\"264.140688\" xlink:href=\"#mcc40c1fb67\" y=\"468.011284\"/>\r\n     <use style=\"fill:#008000;stroke:#008000;stroke-width:1.5;\" x=\"380.845501\" xlink:href=\"#mcc40c1fb67\" y=\"391.303628\"/>\r\n     <use style=\"fill:#008000;stroke:#008000;stroke-width:1.5;\" x=\"433.161452\" xlink:href=\"#mcc40c1fb67\" y=\"281.035261\"/>\r\n     <use style=\"fill:#008000;stroke:#008000;stroke-width:1.5;\" x=\"578.30468\" xlink:href=\"#mcc40c1fb67\" y=\"172.545417\"/>\r\n     <use style=\"fill:#008000;stroke:#008000;stroke-width:1.5;\" x=\"237.311995\" xlink:href=\"#mcc40c1fb67\" y=\"479.020336\"/>\r\n     <use style=\"fill:#008000;stroke:#008000;stroke-width:1.5;\" x=\"187.410626\" xlink:href=\"#mcc40c1fb67\" y=\"500.860587\"/>\r\n     <use style=\"fill:#008000;stroke:#008000;stroke-width:1.5;\" x=\"356.699678\" xlink:href=\"#mcc40c1fb67\" y=\"396.639195\"/>\r\n     <use style=\"fill:#008000;stroke:#008000;stroke-width:1.5;\" x=\"316.456639\" xlink:href=\"#mcc40c1fb67\" y=\"483.786775\"/>\r\n     <use style=\"fill:#008000;stroke:#008000;stroke-width:1.5;\" x=\"264.140688\" xlink:href=\"#mcc40c1fb67\" y=\"468.011284\"/>\r\n     <use style=\"fill:#008000;stroke:#008000;stroke-width:1.5;\" x=\"264.140688\" xlink:href=\"#mcc40c1fb67\" y=\"468.011284\"/>\r\n     <use style=\"fill:#008000;stroke:#008000;stroke-width:1.5;\" x=\"544.500527\" xlink:href=\"#mcc40c1fb67\" y=\"297.04196\"/>\r\n     <use style=\"fill:#008000;stroke:#008000;stroke-width:1.5;\" x=\"237.311995\" xlink:href=\"#mcc40c1fb67\" y=\"479.020336\"/>\r\n     <use style=\"fill:#008000;stroke:#008000;stroke-width:1.5;\" x=\"341.943897\" xlink:href=\"#mcc40c1fb67\" y=\"377.075452\"/>\r\n     <use style=\"fill:#008000;stroke:#008000;stroke-width:1.5;\" x=\"458.64871\" xlink:href=\"#mcc40c1fb67\" y=\"305.93457\"/>\r\n     <use style=\"fill:#008000;stroke:#008000;stroke-width:1.5;\" x=\"264.140688\" xlink:href=\"#mcc40c1fb67\" y=\"468.011284\"/>\r\n     <use style=\"fill:#008000;stroke:#008000;stroke-width:1.5;\" x=\"598.157913\" xlink:href=\"#mcc40c1fb67\" y=\"270.364129\"/>\r\n     <use style=\"fill:#008000;stroke:#008000;stroke-width:1.5;\" x=\"341.943897\" xlink:href=\"#mcc40c1fb67\" y=\"409.088849\"/>\r\n     <use style=\"fill:#008000;stroke:#008000;stroke-width:1.5;\" x=\"341.943897\" xlink:href=\"#mcc40c1fb67\" y=\"401.974761\"/>\r\n     <use style=\"fill:#008000;stroke:#008000;stroke-width:1.5;\" x=\"372.796893\" xlink:href=\"#mcc40c1fb67\" y=\"398.417717\"/>\r\n     <use style=\"fill:#008000;stroke:#008000;stroke-width:1.5;\" x=\"341.943897\" xlink:href=\"#mcc40c1fb67\" y=\"403.753283\"/>\r\n     <use style=\"fill:#008000;stroke:#008000;stroke-width:1.5;\" x=\"237.311995\" xlink:href=\"#mcc40c1fb67\" y=\"457.108944\"/>\r\n     <use style=\"fill:#008000;stroke:#008000;stroke-width:1.5;\" x=\"341.943897\" xlink:href=\"#mcc40c1fb67\" y=\"409.088849\"/>\r\n     <use style=\"fill:#008000;stroke:#008000;stroke-width:1.5;\" x=\"237.311995\" xlink:href=\"#mcc40c1fb67\" y=\"479.020336\"/>\r\n     <use style=\"fill:#008000;stroke:#008000;stroke-width:1.5;\" x=\"326.114968\" xlink:href=\"#mcc40c1fb67\" y=\"457.108944\"/>\r\n     <use style=\"fill:#008000;stroke:#008000;stroke-width:1.5;\" x=\"339.529314\" xlink:href=\"#mcc40c1fb67\" y=\"405.531805\"/>\r\n     <use style=\"fill:#008000;stroke:#008000;stroke-width:1.5;\" x=\"237.311995\" xlink:href=\"#mcc40c1fb67\" y=\"448.216334\"/>\r\n     <use style=\"fill:#008000;stroke:#008000;stroke-width:1.5;\" x=\"241.068012\" xlink:href=\"#mcc40c1fb67\" y=\"487.343819\"/>\r\n     <use style=\"fill:#008000;stroke:#008000;stroke-width:1.5;\" x=\"237.311995\" xlink:href=\"#mcc40c1fb67\" y=\"448.216334\"/>\r\n     <use style=\"fill:#008000;stroke:#008000;stroke-width:1.5;\" x=\"237.311995\" xlink:href=\"#mcc40c1fb67\" y=\"479.020336\"/>\r\n     <use style=\"fill:#008000;stroke:#008000;stroke-width:1.5;\" x=\"237.311995\" xlink:href=\"#mcc40c1fb67\" y=\"457.108944\"/>\r\n     <use style=\"fill:#008000;stroke:#008000;stroke-width:1.5;\" x=\"237.311995\" xlink:href=\"#mcc40c1fb67\" y=\"479.020336\"/>\r\n     <use style=\"fill:#008000;stroke:#008000;stroke-width:1.5;\" x=\"433.698026\" xlink:href=\"#mcc40c1fb67\" y=\"323.719791\"/>\r\n     <use style=\"fill:#008000;stroke:#008000;stroke-width:1.5;\" x=\"341.943897\" xlink:href=\"#mcc40c1fb67\" y=\"409.088849\"/>\r\n     <use style=\"fill:#008000;stroke:#008000;stroke-width:1.5;\" x=\"264.140688\" xlink:href=\"#mcc40c1fb67\" y=\"468.011284\"/>\r\n     <use style=\"fill:#008000;stroke:#008000;stroke-width:1.5;\" x=\"611.572259\" xlink:href=\"#mcc40c1fb67\" y=\"263.250041\"/>\r\n     <use style=\"fill:#008000;stroke:#008000;stroke-width:1.5;\" x=\"383.528371\" xlink:href=\"#mcc40c1fb67\" y=\"368.182842\"/>\r\n     <use style=\"fill:#008000;stroke:#008000;stroke-width:1.5;\" x=\"399.625586\" xlink:href=\"#mcc40c1fb67\" y=\"448.216334\"/>\r\n     <use style=\"fill:#008000;stroke:#008000;stroke-width:1.5;\" x=\"237.311995\" xlink:href=\"#mcc40c1fb67\" y=\"448.216334\"/>\r\n     <use style=\"fill:#008000;stroke:#008000;stroke-width:1.5;\" x=\"341.943897\" xlink:href=\"#mcc40c1fb67\" y=\"409.088849\"/>\r\n     <use style=\"fill:#008000;stroke:#008000;stroke-width:1.5;\" x=\"598.157913\" xlink:href=\"#mcc40c1fb67\" y=\"263.250041\"/>\r\n     <use style=\"fill:#008000;stroke:#008000;stroke-width:1.5;\" x=\"198.41039\" xlink:href=\"#mcc40c1fb67\" y=\"512.243128\"/>\r\n     <use style=\"fill:#008000;stroke:#008000;stroke-width:1.5;\" x=\"541.281084\" xlink:href=\"#mcc40c1fb67\" y=\"270.364129\"/>\r\n     <use style=\"fill:#008000;stroke:#008000;stroke-width:1.5;\" x=\"253.40921\" xlink:href=\"#mcc40c1fb67\" y=\"501.571995\"/>\r\n     <use style=\"fill:#008000;stroke:#008000;stroke-width:1.5;\" x=\"598.157913\" xlink:href=\"#mcc40c1fb67\" y=\"270.364129\"/>\r\n     <use style=\"fill:#008000;stroke:#008000;stroke-width:1.5;\" x=\"341.943897\" xlink:href=\"#mcc40c1fb67\" y=\"416.202937\"/>\r\n     <use style=\"fill:#008000;stroke:#008000;stroke-width:1.5;\" x=\"264.140688\" xlink:href=\"#mcc40c1fb67\" y=\"468.011284\"/>\r\n     <use style=\"fill:#008000;stroke:#008000;stroke-width:1.5;\" x=\"327.188116\" xlink:href=\"#mcc40c1fb67\" y=\"446.437812\"/>\r\n     <use style=\"fill:#008000;stroke:#008000;stroke-width:1.5;\" x=\"844.981887\" xlink:href=\"#mcc40c1fb67\" y=\"48.048873\"/>\r\n     <use style=\"fill:#008000;stroke:#008000;stroke-width:1.5;\" x=\"237.311995\" xlink:href=\"#mcc40c1fb67\" y=\"479.020336\"/>\r\n     <use style=\"fill:#008000;stroke:#008000;stroke-width:1.5;\" x=\"341.943897\" xlink:href=\"#mcc40c1fb67\" y=\"409.088849\"/>\r\n     <use style=\"fill:#008000;stroke:#008000;stroke-width:1.5;\" x=\"415.722802\" xlink:href=\"#mcc40c1fb67\" y=\"378.853974\"/>\r\n     <use style=\"fill:#008000;stroke:#008000;stroke-width:1.5;\" x=\"844.981887\" xlink:href=\"#mcc40c1fb67\" y=\"190.330637\"/>\r\n     <use style=\"fill:#008000;stroke:#008000;stroke-width:1.5;\" x=\"415.722802\" xlink:href=\"#mcc40c1fb67\" y=\"350.397621\"/>\r\n     <use style=\"fill:#008000;stroke:#008000;stroke-width:1.5;\" x=\"367.431155\" xlink:href=\"#mcc40c1fb67\" y=\"373.518408\"/>\r\n     <use style=\"fill:#008000;stroke:#008000;stroke-width:1.5;\" x=\"284.262207\" xlink:href=\"#mcc40c1fb67\" y=\"466.001555\"/>\r\n     <use style=\"fill:#008000;stroke:#008000;stroke-width:1.5;\" x=\"346.504774\" xlink:href=\"#mcc40c1fb67\" y=\"341.505011\"/>\r\n     <use style=\"fill:#008000;stroke:#008000;stroke-width:1.5;\" x=\"504.257488\" xlink:href=\"#mcc40c1fb67\" y=\"227.6796\"/>\r\n    </g>\r\n   </g>\r\n   <g id=\"matplotlib.axis_1\">\r\n    <g id=\"xtick_1\">\r\n     <g id=\"line2d_1\">\r\n      <defs>\r\n       <path d=\"M 0 0 \r\nL 0 3.5 \r\n\" id=\"mc2d9ef01b4\" style=\"stroke:#000000;stroke-width:0.8;\"/>\r\n      </defs>\r\n      <g>\r\n       <use style=\"stroke:#000000;stroke-width:0.8;\" x=\"168.898828\" xlink:href=\"#mc2d9ef01b4\" y=\"565.918125\"/>\r\n      </g>\r\n     </g>\r\n     <g id=\"text_1\">\r\n      <!-- 1000 -->\r\n      <defs>\r\n       <path d=\"M 12.40625 8.296875 \r\nL 28.515625 8.296875 \r\nL 28.515625 63.921875 \r\nL 10.984375 60.40625 \r\nL 10.984375 69.390625 \r\nL 28.421875 72.90625 \r\nL 38.28125 72.90625 \r\nL 38.28125 8.296875 \r\nL 54.390625 8.296875 \r\nL 54.390625 0 \r\nL 12.40625 0 \r\nz\r\n\" id=\"DejaVuSans-49\"/>\r\n       <path d=\"M 31.78125 66.40625 \r\nQ 24.171875 66.40625 20.328125 58.90625 \r\nQ 16.5 51.421875 16.5 36.375 \r\nQ 16.5 21.390625 20.328125 13.890625 \r\nQ 24.171875 6.390625 31.78125 6.390625 \r\nQ 39.453125 6.390625 43.28125 13.890625 \r\nQ 47.125 21.390625 47.125 36.375 \r\nQ 47.125 51.421875 43.28125 58.90625 \r\nQ 39.453125 66.40625 31.78125 66.40625 \r\nz\r\nM 31.78125 74.21875 \r\nQ 44.046875 74.21875 50.515625 64.515625 \r\nQ 56.984375 54.828125 56.984375 36.375 \r\nQ 56.984375 17.96875 50.515625 8.265625 \r\nQ 44.046875 -1.421875 31.78125 -1.421875 \r\nQ 19.53125 -1.421875 13.0625 8.265625 \r\nQ 6.59375 17.96875 6.59375 36.375 \r\nQ 6.59375 54.828125 13.0625 64.515625 \r\nQ 19.53125 74.21875 31.78125 74.21875 \r\nz\r\n\" id=\"DejaVuSans-48\"/>\r\n      </defs>\r\n      <g transform=\"translate(156.173828 580.516562)scale(0.1 -0.1)\">\r\n       <use xlink:href=\"#DejaVuSans-49\"/>\r\n       <use x=\"63.623047\" xlink:href=\"#DejaVuSans-48\"/>\r\n       <use x=\"127.246094\" xlink:href=\"#DejaVuSans-48\"/>\r\n       <use x=\"190.869141\" xlink:href=\"#DejaVuSans-48\"/>\r\n      </g>\r\n     </g>\r\n    </g>\r\n    <g id=\"xtick_2\">\r\n     <g id=\"line2d_2\">\r\n      <g>\r\n       <use style=\"stroke:#000000;stroke-width:0.8;\" x=\"303.042292\" xlink:href=\"#mc2d9ef01b4\" y=\"565.918125\"/>\r\n      </g>\r\n     </g>\r\n     <g id=\"text_2\">\r\n      <!-- 1500 -->\r\n      <defs>\r\n       <path d=\"M 10.796875 72.90625 \r\nL 49.515625 72.90625 \r\nL 49.515625 64.59375 \r\nL 19.828125 64.59375 \r\nL 19.828125 46.734375 \r\nQ 21.96875 47.46875 24.109375 47.828125 \r\nQ 26.265625 48.1875 28.421875 48.1875 \r\nQ 40.625 48.1875 47.75 41.5 \r\nQ 54.890625 34.8125 54.890625 23.390625 \r\nQ 54.890625 11.625 47.5625 5.09375 \r\nQ 40.234375 -1.421875 26.90625 -1.421875 \r\nQ 22.3125 -1.421875 17.546875 -0.640625 \r\nQ 12.796875 0.140625 7.71875 1.703125 \r\nL 7.71875 11.625 \r\nQ 12.109375 9.234375 16.796875 8.0625 \r\nQ 21.484375 6.890625 26.703125 6.890625 \r\nQ 35.15625 6.890625 40.078125 11.328125 \r\nQ 45.015625 15.765625 45.015625 23.390625 \r\nQ 45.015625 31 40.078125 35.4375 \r\nQ 35.15625 39.890625 26.703125 39.890625 \r\nQ 22.75 39.890625 18.8125 39.015625 \r\nQ 14.890625 38.140625 10.796875 36.28125 \r\nz\r\n\" id=\"DejaVuSans-53\"/>\r\n      </defs>\r\n      <g transform=\"translate(290.317292 580.516562)scale(0.1 -0.1)\">\r\n       <use xlink:href=\"#DejaVuSans-49\"/>\r\n       <use x=\"63.623047\" xlink:href=\"#DejaVuSans-53\"/>\r\n       <use x=\"127.246094\" xlink:href=\"#DejaVuSans-48\"/>\r\n       <use x=\"190.869141\" xlink:href=\"#DejaVuSans-48\"/>\r\n      </g>\r\n     </g>\r\n    </g>\r\n    <g id=\"xtick_3\">\r\n     <g id=\"line2d_3\">\r\n      <g>\r\n       <use style=\"stroke:#000000;stroke-width:0.8;\" x=\"437.185756\" xlink:href=\"#mc2d9ef01b4\" y=\"565.918125\"/>\r\n      </g>\r\n     </g>\r\n     <g id=\"text_3\">\r\n      <!-- 2000 -->\r\n      <defs>\r\n       <path d=\"M 19.1875 8.296875 \r\nL 53.609375 8.296875 \r\nL 53.609375 0 \r\nL 7.328125 0 \r\nL 7.328125 8.296875 \r\nQ 12.9375 14.109375 22.625 23.890625 \r\nQ 32.328125 33.6875 34.8125 36.53125 \r\nQ 39.546875 41.84375 41.421875 45.53125 \r\nQ 43.3125 49.21875 43.3125 52.78125 \r\nQ 43.3125 58.59375 39.234375 62.25 \r\nQ 35.15625 65.921875 28.609375 65.921875 \r\nQ 23.96875 65.921875 18.8125 64.3125 \r\nQ 13.671875 62.703125 7.8125 59.421875 \r\nL 7.8125 69.390625 \r\nQ 13.765625 71.78125 18.9375 73 \r\nQ 24.125 74.21875 28.421875 74.21875 \r\nQ 39.75 74.21875 46.484375 68.546875 \r\nQ 53.21875 62.890625 53.21875 53.421875 \r\nQ 53.21875 48.921875 51.53125 44.890625 \r\nQ 49.859375 40.875 45.40625 35.40625 \r\nQ 44.1875 33.984375 37.640625 27.21875 \r\nQ 31.109375 20.453125 19.1875 8.296875 \r\nz\r\n\" id=\"DejaVuSans-50\"/>\r\n      </defs>\r\n      <g transform=\"translate(424.460756 580.516562)scale(0.1 -0.1)\">\r\n       <use xlink:href=\"#DejaVuSans-50\"/>\r\n       <use x=\"63.623047\" xlink:href=\"#DejaVuSans-48\"/>\r\n       <use x=\"127.246094\" xlink:href=\"#DejaVuSans-48\"/>\r\n       <use x=\"190.869141\" xlink:href=\"#DejaVuSans-48\"/>\r\n      </g>\r\n     </g>\r\n    </g>\r\n    <g id=\"xtick_4\">\r\n     <g id=\"line2d_4\">\r\n      <g>\r\n       <use style=\"stroke:#000000;stroke-width:0.8;\" x=\"571.32922\" xlink:href=\"#mc2d9ef01b4\" y=\"565.918125\"/>\r\n      </g>\r\n     </g>\r\n     <g id=\"text_4\">\r\n      <!-- 2500 -->\r\n      <g transform=\"translate(558.60422 580.516562)scale(0.1 -0.1)\">\r\n       <use xlink:href=\"#DejaVuSans-50\"/>\r\n       <use x=\"63.623047\" xlink:href=\"#DejaVuSans-53\"/>\r\n       <use x=\"127.246094\" xlink:href=\"#DejaVuSans-48\"/>\r\n       <use x=\"190.869141\" xlink:href=\"#DejaVuSans-48\"/>\r\n      </g>\r\n     </g>\r\n    </g>\r\n    <g id=\"xtick_5\">\r\n     <g id=\"line2d_5\">\r\n      <g>\r\n       <use style=\"stroke:#000000;stroke-width:0.8;\" x=\"705.472684\" xlink:href=\"#mc2d9ef01b4\" y=\"565.918125\"/>\r\n      </g>\r\n     </g>\r\n     <g id=\"text_5\">\r\n      <!-- 3000 -->\r\n      <defs>\r\n       <path d=\"M 40.578125 39.3125 \r\nQ 47.65625 37.796875 51.625 33 \r\nQ 55.609375 28.21875 55.609375 21.1875 \r\nQ 55.609375 10.40625 48.1875 4.484375 \r\nQ 40.765625 -1.421875 27.09375 -1.421875 \r\nQ 22.515625 -1.421875 17.65625 -0.515625 \r\nQ 12.796875 0.390625 7.625 2.203125 \r\nL 7.625 11.71875 \r\nQ 11.71875 9.328125 16.59375 8.109375 \r\nQ 21.484375 6.890625 26.8125 6.890625 \r\nQ 36.078125 6.890625 40.9375 10.546875 \r\nQ 45.796875 14.203125 45.796875 21.1875 \r\nQ 45.796875 27.640625 41.28125 31.265625 \r\nQ 36.765625 34.90625 28.71875 34.90625 \r\nL 20.21875 34.90625 \r\nL 20.21875 43.015625 \r\nL 29.109375 43.015625 \r\nQ 36.375 43.015625 40.234375 45.921875 \r\nQ 44.09375 48.828125 44.09375 54.296875 \r\nQ 44.09375 59.90625 40.109375 62.90625 \r\nQ 36.140625 65.921875 28.71875 65.921875 \r\nQ 24.65625 65.921875 20.015625 65.03125 \r\nQ 15.375 64.15625 9.8125 62.3125 \r\nL 9.8125 71.09375 \r\nQ 15.4375 72.65625 20.34375 73.4375 \r\nQ 25.25 74.21875 29.59375 74.21875 \r\nQ 40.828125 74.21875 47.359375 69.109375 \r\nQ 53.90625 64.015625 53.90625 55.328125 \r\nQ 53.90625 49.265625 50.4375 45.09375 \r\nQ 46.96875 40.921875 40.578125 39.3125 \r\nz\r\n\" id=\"DejaVuSans-51\"/>\r\n      </defs>\r\n      <g transform=\"translate(692.747684 580.516562)scale(0.1 -0.1)\">\r\n       <use xlink:href=\"#DejaVuSans-51\"/>\r\n       <use x=\"63.623047\" xlink:href=\"#DejaVuSans-48\"/>\r\n       <use x=\"127.246094\" xlink:href=\"#DejaVuSans-48\"/>\r\n       <use x=\"190.869141\" xlink:href=\"#DejaVuSans-48\"/>\r\n      </g>\r\n     </g>\r\n    </g>\r\n    <g id=\"xtick_6\">\r\n     <g id=\"line2d_6\">\r\n      <g>\r\n       <use style=\"stroke:#000000;stroke-width:0.8;\" x=\"839.616148\" xlink:href=\"#mc2d9ef01b4\" y=\"565.918125\"/>\r\n      </g>\r\n     </g>\r\n     <g id=\"text_6\">\r\n      <!-- 3500 -->\r\n      <g transform=\"translate(826.891148 580.516562)scale(0.1 -0.1)\">\r\n       <use xlink:href=\"#DejaVuSans-51\"/>\r\n       <use x=\"63.623047\" xlink:href=\"#DejaVuSans-53\"/>\r\n       <use x=\"127.246094\" xlink:href=\"#DejaVuSans-48\"/>\r\n       <use x=\"190.869141\" xlink:href=\"#DejaVuSans-48\"/>\r\n      </g>\r\n     </g>\r\n    </g>\r\n    <g id=\"text_7\">\r\n     <!-- Total Square Feet Area -->\r\n     <defs>\r\n      <path d=\"M -0.296875 72.90625 \r\nL 61.375 72.90625 \r\nL 61.375 64.59375 \r\nL 35.5 64.59375 \r\nL 35.5 0 \r\nL 25.59375 0 \r\nL 25.59375 64.59375 \r\nL -0.296875 64.59375 \r\nz\r\n\" id=\"DejaVuSans-84\"/>\r\n      <path d=\"M 30.609375 48.390625 \r\nQ 23.390625 48.390625 19.1875 42.75 \r\nQ 14.984375 37.109375 14.984375 27.296875 \r\nQ 14.984375 17.484375 19.15625 11.84375 \r\nQ 23.34375 6.203125 30.609375 6.203125 \r\nQ 37.796875 6.203125 41.984375 11.859375 \r\nQ 46.1875 17.53125 46.1875 27.296875 \r\nQ 46.1875 37.015625 41.984375 42.703125 \r\nQ 37.796875 48.390625 30.609375 48.390625 \r\nz\r\nM 30.609375 56 \r\nQ 42.328125 56 49.015625 48.375 \r\nQ 55.71875 40.765625 55.71875 27.296875 \r\nQ 55.71875 13.875 49.015625 6.21875 \r\nQ 42.328125 -1.421875 30.609375 -1.421875 \r\nQ 18.84375 -1.421875 12.171875 6.21875 \r\nQ 5.515625 13.875 5.515625 27.296875 \r\nQ 5.515625 40.765625 12.171875 48.375 \r\nQ 18.84375 56 30.609375 56 \r\nz\r\n\" id=\"DejaVuSans-111\"/>\r\n      <path d=\"M 18.3125 70.21875 \r\nL 18.3125 54.6875 \r\nL 36.8125 54.6875 \r\nL 36.8125 47.703125 \r\nL 18.3125 47.703125 \r\nL 18.3125 18.015625 \r\nQ 18.3125 11.328125 20.140625 9.421875 \r\nQ 21.96875 7.515625 27.59375 7.515625 \r\nL 36.8125 7.515625 \r\nL 36.8125 0 \r\nL 27.59375 0 \r\nQ 17.1875 0 13.234375 3.875 \r\nQ 9.28125 7.765625 9.28125 18.015625 \r\nL 9.28125 47.703125 \r\nL 2.6875 47.703125 \r\nL 2.6875 54.6875 \r\nL 9.28125 54.6875 \r\nL 9.28125 70.21875 \r\nz\r\n\" id=\"DejaVuSans-116\"/>\r\n      <path d=\"M 34.28125 27.484375 \r\nQ 23.390625 27.484375 19.1875 25 \r\nQ 14.984375 22.515625 14.984375 16.5 \r\nQ 14.984375 11.71875 18.140625 8.90625 \r\nQ 21.296875 6.109375 26.703125 6.109375 \r\nQ 34.1875 6.109375 38.703125 11.40625 \r\nQ 43.21875 16.703125 43.21875 25.484375 \r\nL 43.21875 27.484375 \r\nz\r\nM 52.203125 31.203125 \r\nL 52.203125 0 \r\nL 43.21875 0 \r\nL 43.21875 8.296875 \r\nQ 40.140625 3.328125 35.546875 0.953125 \r\nQ 30.953125 -1.421875 24.3125 -1.421875 \r\nQ 15.921875 -1.421875 10.953125 3.296875 \r\nQ 6 8.015625 6 15.921875 \r\nQ 6 25.140625 12.171875 29.828125 \r\nQ 18.359375 34.515625 30.609375 34.515625 \r\nL 43.21875 34.515625 \r\nL 43.21875 35.40625 \r\nQ 43.21875 41.609375 39.140625 45 \r\nQ 35.0625 48.390625 27.6875 48.390625 \r\nQ 23 48.390625 18.546875 47.265625 \r\nQ 14.109375 46.140625 10.015625 43.890625 \r\nL 10.015625 52.203125 \r\nQ 14.9375 54.109375 19.578125 55.046875 \r\nQ 24.21875 56 28.609375 56 \r\nQ 40.484375 56 46.34375 49.84375 \r\nQ 52.203125 43.703125 52.203125 31.203125 \r\nz\r\n\" id=\"DejaVuSans-97\"/>\r\n      <path d=\"M 9.421875 75.984375 \r\nL 18.40625 75.984375 \r\nL 18.40625 0 \r\nL 9.421875 0 \r\nz\r\n\" id=\"DejaVuSans-108\"/>\r\n      <path id=\"DejaVuSans-32\"/>\r\n      <path d=\"M 53.515625 70.515625 \r\nL 53.515625 60.890625 \r\nQ 47.90625 63.578125 42.921875 64.890625 \r\nQ 37.9375 66.21875 33.296875 66.21875 \r\nQ 25.25 66.21875 20.875 63.09375 \r\nQ 16.5 59.96875 16.5 54.203125 \r\nQ 16.5 49.359375 19.40625 46.890625 \r\nQ 22.3125 44.4375 30.421875 42.921875 \r\nL 36.375 41.703125 \r\nQ 47.40625 39.59375 52.65625 34.296875 \r\nQ 57.90625 29 57.90625 20.125 \r\nQ 57.90625 9.515625 50.796875 4.046875 \r\nQ 43.703125 -1.421875 29.984375 -1.421875 \r\nQ 24.8125 -1.421875 18.96875 -0.25 \r\nQ 13.140625 0.921875 6.890625 3.21875 \r\nL 6.890625 13.375 \r\nQ 12.890625 10.015625 18.65625 8.296875 \r\nQ 24.421875 6.59375 29.984375 6.59375 \r\nQ 38.421875 6.59375 43.015625 9.90625 \r\nQ 47.609375 13.234375 47.609375 19.390625 \r\nQ 47.609375 24.75 44.3125 27.78125 \r\nQ 41.015625 30.8125 33.5 32.328125 \r\nL 27.484375 33.5 \r\nQ 16.453125 35.6875 11.515625 40.375 \r\nQ 6.59375 45.0625 6.59375 53.421875 \r\nQ 6.59375 63.09375 13.40625 68.65625 \r\nQ 20.21875 74.21875 32.171875 74.21875 \r\nQ 37.3125 74.21875 42.625 73.28125 \r\nQ 47.953125 72.359375 53.515625 70.515625 \r\nz\r\n\" id=\"DejaVuSans-83\"/>\r\n      <path d=\"M 14.796875 27.296875 \r\nQ 14.796875 17.390625 18.875 11.75 \r\nQ 22.953125 6.109375 30.078125 6.109375 \r\nQ 37.203125 6.109375 41.296875 11.75 \r\nQ 45.40625 17.390625 45.40625 27.296875 \r\nQ 45.40625 37.203125 41.296875 42.84375 \r\nQ 37.203125 48.484375 30.078125 48.484375 \r\nQ 22.953125 48.484375 18.875 42.84375 \r\nQ 14.796875 37.203125 14.796875 27.296875 \r\nz\r\nM 45.40625 8.203125 \r\nQ 42.578125 3.328125 38.25 0.953125 \r\nQ 33.9375 -1.421875 27.875 -1.421875 \r\nQ 17.96875 -1.421875 11.734375 6.484375 \r\nQ 5.515625 14.40625 5.515625 27.296875 \r\nQ 5.515625 40.1875 11.734375 48.09375 \r\nQ 17.96875 56 27.875 56 \r\nQ 33.9375 56 38.25 53.625 \r\nQ 42.578125 51.265625 45.40625 46.390625 \r\nL 45.40625 54.6875 \r\nL 54.390625 54.6875 \r\nL 54.390625 -20.796875 \r\nL 45.40625 -20.796875 \r\nz\r\n\" id=\"DejaVuSans-113\"/>\r\n      <path d=\"M 8.5 21.578125 \r\nL 8.5 54.6875 \r\nL 17.484375 54.6875 \r\nL 17.484375 21.921875 \r\nQ 17.484375 14.15625 20.5 10.265625 \r\nQ 23.53125 6.390625 29.59375 6.390625 \r\nQ 36.859375 6.390625 41.078125 11.03125 \r\nQ 45.3125 15.671875 45.3125 23.6875 \r\nL 45.3125 54.6875 \r\nL 54.296875 54.6875 \r\nL 54.296875 0 \r\nL 45.3125 0 \r\nL 45.3125 8.40625 \r\nQ 42.046875 3.421875 37.71875 1 \r\nQ 33.40625 -1.421875 27.6875 -1.421875 \r\nQ 18.265625 -1.421875 13.375 4.4375 \r\nQ 8.5 10.296875 8.5 21.578125 \r\nz\r\nM 31.109375 56 \r\nz\r\n\" id=\"DejaVuSans-117\"/>\r\n      <path d=\"M 41.109375 46.296875 \r\nQ 39.59375 47.171875 37.8125 47.578125 \r\nQ 36.03125 48 33.890625 48 \r\nQ 26.265625 48 22.1875 43.046875 \r\nQ 18.109375 38.09375 18.109375 28.8125 \r\nL 18.109375 0 \r\nL 9.078125 0 \r\nL 9.078125 54.6875 \r\nL 18.109375 54.6875 \r\nL 18.109375 46.1875 \r\nQ 20.953125 51.171875 25.484375 53.578125 \r\nQ 30.03125 56 36.53125 56 \r\nQ 37.453125 56 38.578125 55.875 \r\nQ 39.703125 55.765625 41.0625 55.515625 \r\nz\r\n\" id=\"DejaVuSans-114\"/>\r\n      <path d=\"M 56.203125 29.59375 \r\nL 56.203125 25.203125 \r\nL 14.890625 25.203125 \r\nQ 15.484375 15.921875 20.484375 11.0625 \r\nQ 25.484375 6.203125 34.421875 6.203125 \r\nQ 39.59375 6.203125 44.453125 7.46875 \r\nQ 49.3125 8.734375 54.109375 11.28125 \r\nL 54.109375 2.78125 \r\nQ 49.265625 0.734375 44.1875 -0.34375 \r\nQ 39.109375 -1.421875 33.890625 -1.421875 \r\nQ 20.796875 -1.421875 13.15625 6.1875 \r\nQ 5.515625 13.8125 5.515625 26.8125 \r\nQ 5.515625 40.234375 12.765625 48.109375 \r\nQ 20.015625 56 32.328125 56 \r\nQ 43.359375 56 49.78125 48.890625 \r\nQ 56.203125 41.796875 56.203125 29.59375 \r\nz\r\nM 47.21875 32.234375 \r\nQ 47.125 39.59375 43.09375 43.984375 \r\nQ 39.0625 48.390625 32.421875 48.390625 \r\nQ 24.90625 48.390625 20.390625 44.140625 \r\nQ 15.875 39.890625 15.1875 32.171875 \r\nz\r\n\" id=\"DejaVuSans-101\"/>\r\n      <path d=\"M 9.8125 72.90625 \r\nL 51.703125 72.90625 \r\nL 51.703125 64.59375 \r\nL 19.671875 64.59375 \r\nL 19.671875 43.109375 \r\nL 48.578125 43.109375 \r\nL 48.578125 34.8125 \r\nL 19.671875 34.8125 \r\nL 19.671875 0 \r\nL 9.8125 0 \r\nz\r\n\" id=\"DejaVuSans-70\"/>\r\n      <path d=\"M 34.1875 63.1875 \r\nL 20.796875 26.90625 \r\nL 47.609375 26.90625 \r\nz\r\nM 28.609375 72.90625 \r\nL 39.796875 72.90625 \r\nL 67.578125 0 \r\nL 57.328125 0 \r\nL 50.6875 18.703125 \r\nL 17.828125 18.703125 \r\nL 11.1875 0 \r\nL 0.78125 0 \r\nz\r\n\" id=\"DejaVuSans-65\"/>\r\n     </defs>\r\n     <g transform=\"translate(407.873438 594.194687)scale(0.1 -0.1)\">\r\n      <use xlink:href=\"#DejaVuSans-84\"/>\r\n      <use x=\"60.818359\" xlink:href=\"#DejaVuSans-111\"/>\r\n      <use x=\"122\" xlink:href=\"#DejaVuSans-116\"/>\r\n      <use x=\"161.208984\" xlink:href=\"#DejaVuSans-97\"/>\r\n      <use x=\"222.488281\" xlink:href=\"#DejaVuSans-108\"/>\r\n      <use x=\"250.271484\" xlink:href=\"#DejaVuSans-32\"/>\r\n      <use x=\"282.058594\" xlink:href=\"#DejaVuSans-83\"/>\r\n      <use x=\"345.535156\" xlink:href=\"#DejaVuSans-113\"/>\r\n      <use x=\"409.011719\" xlink:href=\"#DejaVuSans-117\"/>\r\n      <use x=\"472.390625\" xlink:href=\"#DejaVuSans-97\"/>\r\n      <use x=\"533.669922\" xlink:href=\"#DejaVuSans-114\"/>\r\n      <use x=\"574.751953\" xlink:href=\"#DejaVuSans-101\"/>\r\n      <use x=\"636.275391\" xlink:href=\"#DejaVuSans-32\"/>\r\n      <use x=\"668.0625\" xlink:href=\"#DejaVuSans-70\"/>\r\n      <use x=\"725.503906\" xlink:href=\"#DejaVuSans-101\"/>\r\n      <use x=\"787.027344\" xlink:href=\"#DejaVuSans-101\"/>\r\n      <use x=\"848.550781\" xlink:href=\"#DejaVuSans-116\"/>\r\n      <use x=\"887.759766\" xlink:href=\"#DejaVuSans-32\"/>\r\n      <use x=\"919.546875\" xlink:href=\"#DejaVuSans-65\"/>\r\n      <use x=\"987.955078\" xlink:href=\"#DejaVuSans-114\"/>\r\n      <use x=\"1029.037109\" xlink:href=\"#DejaVuSans-101\"/>\r\n      <use x=\"1090.560547\" xlink:href=\"#DejaVuSans-97\"/>\r\n     </g>\r\n    </g>\r\n   </g>\r\n   <g id=\"matplotlib.axis_2\">\r\n    <g id=\"ytick_1\">\r\n     <g id=\"line2d_7\">\r\n      <defs>\r\n       <path d=\"M 0 0 \r\nL -3.5 0 \r\n\" id=\"me2fffe2b5e\" style=\"stroke:#000000;stroke-width:0.8;\"/>\r\n      </defs>\r\n      <g>\r\n       <use style=\"stroke:#000000;stroke-width:0.8;\" x=\"46.965625\" xlink:href=\"#me2fffe2b5e\" y=\"528.249826\"/>\r\n      </g>\r\n     </g>\r\n     <g id=\"text_8\">\r\n      <!-- 50 -->\r\n      <g transform=\"translate(27.240625 532.049045)scale(0.1 -0.1)\">\r\n       <use xlink:href=\"#DejaVuSans-53\"/>\r\n       <use x=\"63.623047\" xlink:href=\"#DejaVuSans-48\"/>\r\n      </g>\r\n     </g>\r\n    </g>\r\n    <g id=\"ytick_2\">\r\n     <g id=\"line2d_8\">\r\n      <g>\r\n       <use style=\"stroke:#000000;stroke-width:0.8;\" x=\"46.965625\" xlink:href=\"#me2fffe2b5e\" y=\"439.323724\"/>\r\n      </g>\r\n     </g>\r\n     <g id=\"text_9\">\r\n      <!-- 100 -->\r\n      <g transform=\"translate(20.878125 443.122943)scale(0.1 -0.1)\">\r\n       <use xlink:href=\"#DejaVuSans-49\"/>\r\n       <use x=\"63.623047\" xlink:href=\"#DejaVuSans-48\"/>\r\n       <use x=\"127.246094\" xlink:href=\"#DejaVuSans-48\"/>\r\n      </g>\r\n     </g>\r\n    </g>\r\n    <g id=\"ytick_3\">\r\n     <g id=\"line2d_9\">\r\n      <g>\r\n       <use style=\"stroke:#000000;stroke-width:0.8;\" x=\"46.965625\" xlink:href=\"#me2fffe2b5e\" y=\"350.397621\"/>\r\n      </g>\r\n     </g>\r\n     <g id=\"text_10\">\r\n      <!-- 150 -->\r\n      <g transform=\"translate(20.878125 354.19684)scale(0.1 -0.1)\">\r\n       <use xlink:href=\"#DejaVuSans-49\"/>\r\n       <use x=\"63.623047\" xlink:href=\"#DejaVuSans-53\"/>\r\n       <use x=\"127.246094\" xlink:href=\"#DejaVuSans-48\"/>\r\n      </g>\r\n     </g>\r\n    </g>\r\n    <g id=\"ytick_4\">\r\n     <g id=\"line2d_10\">\r\n      <g>\r\n       <use style=\"stroke:#000000;stroke-width:0.8;\" x=\"46.965625\" xlink:href=\"#me2fffe2b5e\" y=\"261.471519\"/>\r\n      </g>\r\n     </g>\r\n     <g id=\"text_11\">\r\n      <!-- 200 -->\r\n      <g transform=\"translate(20.878125 265.270738)scale(0.1 -0.1)\">\r\n       <use xlink:href=\"#DejaVuSans-50\"/>\r\n       <use x=\"63.623047\" xlink:href=\"#DejaVuSans-48\"/>\r\n       <use x=\"127.246094\" xlink:href=\"#DejaVuSans-48\"/>\r\n      </g>\r\n     </g>\r\n    </g>\r\n    <g id=\"ytick_5\">\r\n     <g id=\"line2d_11\">\r\n      <g>\r\n       <use style=\"stroke:#000000;stroke-width:0.8;\" x=\"46.965625\" xlink:href=\"#me2fffe2b5e\" y=\"172.545417\"/>\r\n      </g>\r\n     </g>\r\n     <g id=\"text_12\">\r\n      <!-- 250 -->\r\n      <g transform=\"translate(20.878125 176.344635)scale(0.1 -0.1)\">\r\n       <use xlink:href=\"#DejaVuSans-50\"/>\r\n       <use x=\"63.623047\" xlink:href=\"#DejaVuSans-53\"/>\r\n       <use x=\"127.246094\" xlink:href=\"#DejaVuSans-48\"/>\r\n      </g>\r\n     </g>\r\n    </g>\r\n    <g id=\"ytick_6\">\r\n     <g id=\"line2d_12\">\r\n      <g>\r\n       <use style=\"stroke:#000000;stroke-width:0.8;\" x=\"46.965625\" xlink:href=\"#me2fffe2b5e\" y=\"83.619314\"/>\r\n      </g>\r\n     </g>\r\n     <g id=\"text_13\">\r\n      <!-- 300 -->\r\n      <g transform=\"translate(20.878125 87.418533)scale(0.1 -0.1)\">\r\n       <use xlink:href=\"#DejaVuSans-51\"/>\r\n       <use x=\"63.623047\" xlink:href=\"#DejaVuSans-48\"/>\r\n       <use x=\"127.246094\" xlink:href=\"#DejaVuSans-48\"/>\r\n      </g>\r\n     </g>\r\n    </g>\r\n    <g id=\"text_14\">\r\n     <!-- Price (Lakh Indian Rupees) -->\r\n     <defs>\r\n      <path d=\"M 19.671875 64.796875 \r\nL 19.671875 37.40625 \r\nL 32.078125 37.40625 \r\nQ 38.96875 37.40625 42.71875 40.96875 \r\nQ 46.484375 44.53125 46.484375 51.125 \r\nQ 46.484375 57.671875 42.71875 61.234375 \r\nQ 38.96875 64.796875 32.078125 64.796875 \r\nz\r\nM 9.8125 72.90625 \r\nL 32.078125 72.90625 \r\nQ 44.34375 72.90625 50.609375 67.359375 \r\nQ 56.890625 61.8125 56.890625 51.125 \r\nQ 56.890625 40.328125 50.609375 34.8125 \r\nQ 44.34375 29.296875 32.078125 29.296875 \r\nL 19.671875 29.296875 \r\nL 19.671875 0 \r\nL 9.8125 0 \r\nz\r\n\" id=\"DejaVuSans-80\"/>\r\n      <path d=\"M 9.421875 54.6875 \r\nL 18.40625 54.6875 \r\nL 18.40625 0 \r\nL 9.421875 0 \r\nz\r\nM 9.421875 75.984375 \r\nL 18.40625 75.984375 \r\nL 18.40625 64.59375 \r\nL 9.421875 64.59375 \r\nz\r\n\" id=\"DejaVuSans-105\"/>\r\n      <path d=\"M 48.78125 52.59375 \r\nL 48.78125 44.1875 \r\nQ 44.96875 46.296875 41.140625 47.34375 \r\nQ 37.3125 48.390625 33.40625 48.390625 \r\nQ 24.65625 48.390625 19.8125 42.84375 \r\nQ 14.984375 37.3125 14.984375 27.296875 \r\nQ 14.984375 17.28125 19.8125 11.734375 \r\nQ 24.65625 6.203125 33.40625 6.203125 \r\nQ 37.3125 6.203125 41.140625 7.25 \r\nQ 44.96875 8.296875 48.78125 10.40625 \r\nL 48.78125 2.09375 \r\nQ 45.015625 0.34375 40.984375 -0.53125 \r\nQ 36.96875 -1.421875 32.421875 -1.421875 \r\nQ 20.0625 -1.421875 12.78125 6.34375 \r\nQ 5.515625 14.109375 5.515625 27.296875 \r\nQ 5.515625 40.671875 12.859375 48.328125 \r\nQ 20.21875 56 33.015625 56 \r\nQ 37.15625 56 41.109375 55.140625 \r\nQ 45.0625 54.296875 48.78125 52.59375 \r\nz\r\n\" id=\"DejaVuSans-99\"/>\r\n      <path d=\"M 31 75.875 \r\nQ 24.46875 64.65625 21.28125 53.65625 \r\nQ 18.109375 42.671875 18.109375 31.390625 \r\nQ 18.109375 20.125 21.3125 9.0625 \r\nQ 24.515625 -2 31 -13.1875 \r\nL 23.1875 -13.1875 \r\nQ 15.875 -1.703125 12.234375 9.375 \r\nQ 8.59375 20.453125 8.59375 31.390625 \r\nQ 8.59375 42.28125 12.203125 53.3125 \r\nQ 15.828125 64.359375 23.1875 75.875 \r\nz\r\n\" id=\"DejaVuSans-40\"/>\r\n      <path d=\"M 9.8125 72.90625 \r\nL 19.671875 72.90625 \r\nL 19.671875 8.296875 \r\nL 55.171875 8.296875 \r\nL 55.171875 0 \r\nL 9.8125 0 \r\nz\r\n\" id=\"DejaVuSans-76\"/>\r\n      <path d=\"M 9.078125 75.984375 \r\nL 18.109375 75.984375 \r\nL 18.109375 31.109375 \r\nL 44.921875 54.6875 \r\nL 56.390625 54.6875 \r\nL 27.390625 29.109375 \r\nL 57.625 0 \r\nL 45.90625 0 \r\nL 18.109375 26.703125 \r\nL 18.109375 0 \r\nL 9.078125 0 \r\nz\r\n\" id=\"DejaVuSans-107\"/>\r\n      <path d=\"M 54.890625 33.015625 \r\nL 54.890625 0 \r\nL 45.90625 0 \r\nL 45.90625 32.71875 \r\nQ 45.90625 40.484375 42.875 44.328125 \r\nQ 39.84375 48.1875 33.796875 48.1875 \r\nQ 26.515625 48.1875 22.3125 43.546875 \r\nQ 18.109375 38.921875 18.109375 30.90625 \r\nL 18.109375 0 \r\nL 9.078125 0 \r\nL 9.078125 75.984375 \r\nL 18.109375 75.984375 \r\nL 18.109375 46.1875 \r\nQ 21.34375 51.125 25.703125 53.5625 \r\nQ 30.078125 56 35.796875 56 \r\nQ 45.21875 56 50.046875 50.171875 \r\nQ 54.890625 44.34375 54.890625 33.015625 \r\nz\r\n\" id=\"DejaVuSans-104\"/>\r\n      <path d=\"M 9.8125 72.90625 \r\nL 19.671875 72.90625 \r\nL 19.671875 0 \r\nL 9.8125 0 \r\nz\r\n\" id=\"DejaVuSans-73\"/>\r\n      <path d=\"M 54.890625 33.015625 \r\nL 54.890625 0 \r\nL 45.90625 0 \r\nL 45.90625 32.71875 \r\nQ 45.90625 40.484375 42.875 44.328125 \r\nQ 39.84375 48.1875 33.796875 48.1875 \r\nQ 26.515625 48.1875 22.3125 43.546875 \r\nQ 18.109375 38.921875 18.109375 30.90625 \r\nL 18.109375 0 \r\nL 9.078125 0 \r\nL 9.078125 54.6875 \r\nL 18.109375 54.6875 \r\nL 18.109375 46.1875 \r\nQ 21.34375 51.125 25.703125 53.5625 \r\nQ 30.078125 56 35.796875 56 \r\nQ 45.21875 56 50.046875 50.171875 \r\nQ 54.890625 44.34375 54.890625 33.015625 \r\nz\r\n\" id=\"DejaVuSans-110\"/>\r\n      <path d=\"M 45.40625 46.390625 \r\nL 45.40625 75.984375 \r\nL 54.390625 75.984375 \r\nL 54.390625 0 \r\nL 45.40625 0 \r\nL 45.40625 8.203125 \r\nQ 42.578125 3.328125 38.25 0.953125 \r\nQ 33.9375 -1.421875 27.875 -1.421875 \r\nQ 17.96875 -1.421875 11.734375 6.484375 \r\nQ 5.515625 14.40625 5.515625 27.296875 \r\nQ 5.515625 40.1875 11.734375 48.09375 \r\nQ 17.96875 56 27.875 56 \r\nQ 33.9375 56 38.25 53.625 \r\nQ 42.578125 51.265625 45.40625 46.390625 \r\nz\r\nM 14.796875 27.296875 \r\nQ 14.796875 17.390625 18.875 11.75 \r\nQ 22.953125 6.109375 30.078125 6.109375 \r\nQ 37.203125 6.109375 41.296875 11.75 \r\nQ 45.40625 17.390625 45.40625 27.296875 \r\nQ 45.40625 37.203125 41.296875 42.84375 \r\nQ 37.203125 48.484375 30.078125 48.484375 \r\nQ 22.953125 48.484375 18.875 42.84375 \r\nQ 14.796875 37.203125 14.796875 27.296875 \r\nz\r\n\" id=\"DejaVuSans-100\"/>\r\n      <path d=\"M 44.390625 34.1875 \r\nQ 47.5625 33.109375 50.5625 29.59375 \r\nQ 53.5625 26.078125 56.59375 19.921875 \r\nL 66.609375 0 \r\nL 56 0 \r\nL 46.6875 18.703125 \r\nQ 43.0625 26.03125 39.671875 28.421875 \r\nQ 36.28125 30.8125 30.421875 30.8125 \r\nL 19.671875 30.8125 \r\nL 19.671875 0 \r\nL 9.8125 0 \r\nL 9.8125 72.90625 \r\nL 32.078125 72.90625 \r\nQ 44.578125 72.90625 50.734375 67.671875 \r\nQ 56.890625 62.453125 56.890625 51.90625 \r\nQ 56.890625 45.015625 53.6875 40.46875 \r\nQ 50.484375 35.9375 44.390625 34.1875 \r\nz\r\nM 19.671875 64.796875 \r\nL 19.671875 38.921875 \r\nL 32.078125 38.921875 \r\nQ 39.203125 38.921875 42.84375 42.21875 \r\nQ 46.484375 45.515625 46.484375 51.90625 \r\nQ 46.484375 58.296875 42.84375 61.546875 \r\nQ 39.203125 64.796875 32.078125 64.796875 \r\nz\r\n\" id=\"DejaVuSans-82\"/>\r\n      <path d=\"M 18.109375 8.203125 \r\nL 18.109375 -20.796875 \r\nL 9.078125 -20.796875 \r\nL 9.078125 54.6875 \r\nL 18.109375 54.6875 \r\nL 18.109375 46.390625 \r\nQ 20.953125 51.265625 25.265625 53.625 \r\nQ 29.59375 56 35.59375 56 \r\nQ 45.5625 56 51.78125 48.09375 \r\nQ 58.015625 40.1875 58.015625 27.296875 \r\nQ 58.015625 14.40625 51.78125 6.484375 \r\nQ 45.5625 -1.421875 35.59375 -1.421875 \r\nQ 29.59375 -1.421875 25.265625 0.953125 \r\nQ 20.953125 3.328125 18.109375 8.203125 \r\nz\r\nM 48.6875 27.296875 \r\nQ 48.6875 37.203125 44.609375 42.84375 \r\nQ 40.53125 48.484375 33.40625 48.484375 \r\nQ 26.265625 48.484375 22.1875 42.84375 \r\nQ 18.109375 37.203125 18.109375 27.296875 \r\nQ 18.109375 17.390625 22.1875 11.75 \r\nQ 26.265625 6.109375 33.40625 6.109375 \r\nQ 40.53125 6.109375 44.609375 11.75 \r\nQ 48.6875 17.390625 48.6875 27.296875 \r\nz\r\n\" id=\"DejaVuSans-112\"/>\r\n      <path d=\"M 44.28125 53.078125 \r\nL 44.28125 44.578125 \r\nQ 40.484375 46.53125 36.375 47.5 \r\nQ 32.28125 48.484375 27.875 48.484375 \r\nQ 21.1875 48.484375 17.84375 46.4375 \r\nQ 14.5 44.390625 14.5 40.28125 \r\nQ 14.5 37.15625 16.890625 35.375 \r\nQ 19.28125 33.59375 26.515625 31.984375 \r\nL 29.59375 31.296875 \r\nQ 39.15625 29.25 43.1875 25.515625 \r\nQ 47.21875 21.78125 47.21875 15.09375 \r\nQ 47.21875 7.46875 41.1875 3.015625 \r\nQ 35.15625 -1.421875 24.609375 -1.421875 \r\nQ 20.21875 -1.421875 15.453125 -0.5625 \r\nQ 10.6875 0.296875 5.421875 2 \r\nL 5.421875 11.28125 \r\nQ 10.40625 8.6875 15.234375 7.390625 \r\nQ 20.0625 6.109375 24.8125 6.109375 \r\nQ 31.15625 6.109375 34.5625 8.28125 \r\nQ 37.984375 10.453125 37.984375 14.40625 \r\nQ 37.984375 18.0625 35.515625 20.015625 \r\nQ 33.0625 21.96875 24.703125 23.78125 \r\nL 21.578125 24.515625 \r\nQ 13.234375 26.265625 9.515625 29.90625 \r\nQ 5.8125 33.546875 5.8125 39.890625 \r\nQ 5.8125 47.609375 11.28125 51.796875 \r\nQ 16.75 56 26.8125 56 \r\nQ 31.78125 56 36.171875 55.265625 \r\nQ 40.578125 54.546875 44.28125 53.078125 \r\nz\r\n\" id=\"DejaVuSans-115\"/>\r\n      <path d=\"M 8.015625 75.875 \r\nL 15.828125 75.875 \r\nQ 23.140625 64.359375 26.78125 53.3125 \r\nQ 30.421875 42.28125 30.421875 31.390625 \r\nQ 30.421875 20.453125 26.78125 9.375 \r\nQ 23.140625 -1.703125 15.828125 -13.1875 \r\nL 8.015625 -13.1875 \r\nQ 14.5 -2 17.703125 9.0625 \r\nQ 20.90625 20.125 20.90625 31.390625 \r\nQ 20.90625 42.671875 17.703125 53.65625 \r\nQ 14.5 64.65625 8.015625 75.875 \r\nz\r\n\" id=\"DejaVuSans-41\"/>\r\n     </defs>\r\n     <g transform=\"translate(14.798438 360.997031)rotate(-90)scale(0.1 -0.1)\">\r\n      <use xlink:href=\"#DejaVuSans-80\"/>\r\n      <use x=\"60.287109\" xlink:href=\"#DejaVuSans-114\"/>\r\n      <use x=\"101.400391\" xlink:href=\"#DejaVuSans-105\"/>\r\n      <use x=\"129.183594\" xlink:href=\"#DejaVuSans-99\"/>\r\n      <use x=\"184.164062\" xlink:href=\"#DejaVuSans-101\"/>\r\n      <use x=\"245.6875\" xlink:href=\"#DejaVuSans-32\"/>\r\n      <use x=\"277.474609\" xlink:href=\"#DejaVuSans-40\"/>\r\n      <use x=\"316.488281\" xlink:href=\"#DejaVuSans-76\"/>\r\n      <use x=\"372.201172\" xlink:href=\"#DejaVuSans-97\"/>\r\n      <use x=\"433.480469\" xlink:href=\"#DejaVuSans-107\"/>\r\n      <use x=\"491.390625\" xlink:href=\"#DejaVuSans-104\"/>\r\n      <use x=\"554.769531\" xlink:href=\"#DejaVuSans-32\"/>\r\n      <use x=\"586.556641\" xlink:href=\"#DejaVuSans-73\"/>\r\n      <use x=\"616.048828\" xlink:href=\"#DejaVuSans-110\"/>\r\n      <use x=\"679.427734\" xlink:href=\"#DejaVuSans-100\"/>\r\n      <use x=\"742.904297\" xlink:href=\"#DejaVuSans-105\"/>\r\n      <use x=\"770.6875\" xlink:href=\"#DejaVuSans-97\"/>\r\n      <use x=\"831.966797\" xlink:href=\"#DejaVuSans-110\"/>\r\n      <use x=\"895.345703\" xlink:href=\"#DejaVuSans-32\"/>\r\n      <use x=\"927.132812\" xlink:href=\"#DejaVuSans-82\"/>\r\n      <use x=\"996.552734\" xlink:href=\"#DejaVuSans-117\"/>\r\n      <use x=\"1059.931641\" xlink:href=\"#DejaVuSans-112\"/>\r\n      <use x=\"1123.408203\" xlink:href=\"#DejaVuSans-101\"/>\r\n      <use x=\"1184.931641\" xlink:href=\"#DejaVuSans-101\"/>\r\n      <use x=\"1246.455078\" xlink:href=\"#DejaVuSans-115\"/>\r\n      <use x=\"1298.554688\" xlink:href=\"#DejaVuSans-41\"/>\r\n     </g>\r\n    </g>\r\n   </g>\r\n   <g id=\"patch_3\">\r\n    <path d=\"M 46.965625 565.918125 \r\nL 46.965625 22.318125 \r\n\" style=\"fill:none;stroke:#000000;stroke-linecap:square;stroke-linejoin:miter;stroke-width:0.8;\"/>\r\n   </g>\r\n   <g id=\"patch_4\">\r\n    <path d=\"M 883.965625 565.918125 \r\nL 883.965625 22.318125 \r\n\" style=\"fill:none;stroke:#000000;stroke-linecap:square;stroke-linejoin:miter;stroke-width:0.8;\"/>\r\n   </g>\r\n   <g id=\"patch_5\">\r\n    <path d=\"M 46.965625 565.918125 \r\nL 883.965625 565.918125 \r\n\" style=\"fill:none;stroke:#000000;stroke-linecap:square;stroke-linejoin:miter;stroke-width:0.8;\"/>\r\n   </g>\r\n   <g id=\"patch_6\">\r\n    <path d=\"M 46.965625 22.318125 \r\nL 883.965625 22.318125 \r\n\" style=\"fill:none;stroke:#000000;stroke-linecap:square;stroke-linejoin:miter;stroke-width:0.8;\"/>\r\n   </g>\r\n   <g id=\"text_15\">\r\n    <!-- Hebbal -->\r\n    <defs>\r\n     <path d=\"M 9.8125 72.90625 \r\nL 19.671875 72.90625 \r\nL 19.671875 43.015625 \r\nL 55.515625 43.015625 \r\nL 55.515625 72.90625 \r\nL 65.375 72.90625 \r\nL 65.375 0 \r\nL 55.515625 0 \r\nL 55.515625 34.71875 \r\nL 19.671875 34.71875 \r\nL 19.671875 0 \r\nL 9.8125 0 \r\nz\r\n\" id=\"DejaVuSans-72\"/>\r\n     <path d=\"M 48.6875 27.296875 \r\nQ 48.6875 37.203125 44.609375 42.84375 \r\nQ 40.53125 48.484375 33.40625 48.484375 \r\nQ 26.265625 48.484375 22.1875 42.84375 \r\nQ 18.109375 37.203125 18.109375 27.296875 \r\nQ 18.109375 17.390625 22.1875 11.75 \r\nQ 26.265625 6.109375 33.40625 6.109375 \r\nQ 40.53125 6.109375 44.609375 11.75 \r\nQ 48.6875 17.390625 48.6875 27.296875 \r\nz\r\nM 18.109375 46.390625 \r\nQ 20.953125 51.265625 25.265625 53.625 \r\nQ 29.59375 56 35.59375 56 \r\nQ 45.5625 56 51.78125 48.09375 \r\nQ 58.015625 40.1875 58.015625 27.296875 \r\nQ 58.015625 14.40625 51.78125 6.484375 \r\nQ 45.5625 -1.421875 35.59375 -1.421875 \r\nQ 29.59375 -1.421875 25.265625 0.953125 \r\nQ 20.953125 3.328125 18.109375 8.203125 \r\nL 18.109375 0 \r\nL 9.078125 0 \r\nL 9.078125 75.984375 \r\nL 18.109375 75.984375 \r\nz\r\n\" id=\"DejaVuSans-98\"/>\r\n    </defs>\r\n    <g transform=\"translate(444.299688 16.318125)scale(0.12 -0.12)\">\r\n     <use xlink:href=\"#DejaVuSans-72\"/>\r\n     <use x=\"75.195312\" xlink:href=\"#DejaVuSans-101\"/>\r\n     <use x=\"136.71875\" xlink:href=\"#DejaVuSans-98\"/>\r\n     <use x=\"200.195312\" xlink:href=\"#DejaVuSans-98\"/>\r\n     <use x=\"263.671875\" xlink:href=\"#DejaVuSans-97\"/>\r\n     <use x=\"324.951172\" xlink:href=\"#DejaVuSans-108\"/>\r\n    </g>\r\n   </g>\r\n   <g id=\"legend_1\">\r\n    <g id=\"patch_7\">\r\n     <path d=\"M 53.965625 59.674375 \r\nL 116.445313 59.674375 \r\nQ 118.445313 59.674375 118.445313 57.674375 \r\nL 118.445313 29.318125 \r\nQ 118.445313 27.318125 116.445313 27.318125 \r\nL 53.965625 27.318125 \r\nQ 51.965625 27.318125 51.965625 29.318125 \r\nL 51.965625 57.674375 \r\nQ 51.965625 59.674375 53.965625 59.674375 \r\nz\r\n\" style=\"fill:#ffffff;opacity:0.8;stroke:#cccccc;stroke-linejoin:miter;\"/>\r\n    </g>\r\n    <g id=\"PathCollection_3\">\r\n     <g>\r\n      <use style=\"fill:#0000ff;stroke:#0000ff;\" x=\"65.965625\" xlink:href=\"#m9eab63ddb7\" y=\"36.291562\"/>\r\n     </g>\r\n    </g>\r\n    <g id=\"text_16\">\r\n     <!-- 2 BHK -->\r\n     <defs>\r\n      <path d=\"M 19.671875 34.8125 \r\nL 19.671875 8.109375 \r\nL 35.5 8.109375 \r\nQ 43.453125 8.109375 47.28125 11.40625 \r\nQ 51.125 14.703125 51.125 21.484375 \r\nQ 51.125 28.328125 47.28125 31.5625 \r\nQ 43.453125 34.8125 35.5 34.8125 \r\nz\r\nM 19.671875 64.796875 \r\nL 19.671875 42.828125 \r\nL 34.28125 42.828125 \r\nQ 41.5 42.828125 45.03125 45.53125 \r\nQ 48.578125 48.25 48.578125 53.8125 \r\nQ 48.578125 59.328125 45.03125 62.0625 \r\nQ 41.5 64.796875 34.28125 64.796875 \r\nz\r\nM 9.8125 72.90625 \r\nL 35.015625 72.90625 \r\nQ 46.296875 72.90625 52.390625 68.21875 \r\nQ 58.5 63.53125 58.5 54.890625 \r\nQ 58.5 48.1875 55.375 44.234375 \r\nQ 52.25 40.28125 46.1875 39.3125 \r\nQ 53.46875 37.75 57.5 32.78125 \r\nQ 61.53125 27.828125 61.53125 20.40625 \r\nQ 61.53125 10.640625 54.890625 5.3125 \r\nQ 48.25 0 35.984375 0 \r\nL 9.8125 0 \r\nz\r\n\" id=\"DejaVuSans-66\"/>\r\n      <path d=\"M 9.8125 72.90625 \r\nL 19.671875 72.90625 \r\nL 19.671875 42.09375 \r\nL 52.390625 72.90625 \r\nL 65.09375 72.90625 \r\nL 28.90625 38.921875 \r\nL 67.671875 0 \r\nL 54.6875 0 \r\nL 19.671875 35.109375 \r\nL 19.671875 0 \r\nL 9.8125 0 \r\nz\r\n\" id=\"DejaVuSans-75\"/>\r\n     </defs>\r\n     <g transform=\"translate(83.965625 38.916562)scale(0.1 -0.1)\">\r\n      <use xlink:href=\"#DejaVuSans-50\"/>\r\n      <use x=\"63.623047\" xlink:href=\"#DejaVuSans-32\"/>\r\n      <use x=\"95.410156\" xlink:href=\"#DejaVuSans-66\"/>\r\n      <use x=\"164.013672\" xlink:href=\"#DejaVuSans-72\"/>\r\n      <use x=\"239.208984\" xlink:href=\"#DejaVuSans-75\"/>\r\n     </g>\r\n    </g>\r\n    <g id=\"PathCollection_4\">\r\n     <g>\r\n      <use style=\"fill:#008000;stroke:#008000;stroke-width:1.5;\" x=\"65.965625\" xlink:href=\"#mcc40c1fb67\" y=\"50.969687\"/>\r\n     </g>\r\n    </g>\r\n    <g id=\"text_17\">\r\n     <!-- 3 BHK -->\r\n     <g transform=\"translate(83.965625 53.594687)scale(0.1 -0.1)\">\r\n      <use xlink:href=\"#DejaVuSans-51\"/>\r\n      <use x=\"63.623047\" xlink:href=\"#DejaVuSans-32\"/>\r\n      <use x=\"95.410156\" xlink:href=\"#DejaVuSans-66\"/>\r\n      <use x=\"164.013672\" xlink:href=\"#DejaVuSans-72\"/>\r\n      <use x=\"239.208984\" xlink:href=\"#DejaVuSans-75\"/>\r\n     </g>\r\n    </g>\r\n   </g>\r\n  </g>\r\n </g>\r\n <defs>\r\n  <clipPath id=\"p64259ab7fb\">\r\n   <rect height=\"543.6\" width=\"837\" x=\"46.965625\" y=\"22.318125\"/>\r\n  </clipPath>\r\n </defs>\r\n</svg>\r\n",
      "image/png": "[encoded data removed]"
     },
     "metadata": {
      "needs_background": "light"
     }
    }
   ],
   "source": [
    "plot_scatter_chart(df,\"Hebbal\")"
   ]
  },
  {
   "cell_type": "code",
   "execution_count": 69,
   "metadata": {},
   "outputs": [
    {
     "output_type": "execute_result",
     "data": {
      "text/plain": [
       "(7317, 7)"
      ]
     },
     "metadata": {},
     "execution_count": 69
    }
   ],
   "source": [
    "def remove_bhk_outliers(df):\n",
    "    exclude_indices = np.array([])\n",
    "    for location, location_df in df.groupby('location'):\n",
    "        bhk_stats = {}\n",
    "        for bhk, bhk_df in location_df.groupby('bhk'):\n",
    "            bhk_stats[bhk] = {\n",
    "                'mean': np.mean(bhk_df.price_per_sqft),\n",
    "                'std': np.std(bhk_df.price_per_sqft),\n",
    "                'count': bhk_df.shape[0]\n",
    "            }\n",
    "        for bhk, bhk_df in location_df.groupby('bhk'):\n",
    "            stats = bhk_stats.get(bhk-1)\n",
    "            if stats and stats['count']>5:\n",
    "                exclude_indices = np.append(exclude_indices, bhk_df[bhk_df.price_per_sqft<(stats['mean'])].index.values)\n",
    "    return df.drop(exclude_indices,axis='index')\n",
    "df = remove_bhk_outliers(df)\n",
    "# df = df.copy()\n",
    "df.shape\n"
   ]
  },
  {
   "cell_type": "code",
   "execution_count": 70,
   "metadata": {},
   "outputs": [
    {
     "output_type": "execute_result",
     "data": {
      "text/plain": [
       "2.0     4188\n",
       "3.0     1763\n",
       "1.0      568\n",
       "4.0      501\n",
       "5.0      175\n",
       "6.0       81\n",
       "7.0       16\n",
       "8.0       13\n",
       "9.0        7\n",
       "12.0       3\n",
       "13.0       1\n",
       "16.0       1\n",
       "Name: bath, dtype: int64"
      ]
     },
     "metadata": {},
     "execution_count": 70
    }
   ],
   "source": [
    "df['bath'].value_counts()"
   ]
  },
  {
   "cell_type": "code",
   "execution_count": 71,
   "metadata": {},
   "outputs": [
    {
     "output_type": "execute_result",
     "data": {
      "text/plain": [
       "            location    size  total_sqft  bath  price  bhk  price_per_sqft\n",
       "5277  Neeladri Nagar  10 BHK      4000.0  12.0  160.0   10     4000.000000\n",
       "8483           other  10 BHK     12000.0  12.0  525.0   10     4375.000000\n",
       "8572           other  16 BHK     10000.0  16.0  550.0   16     5500.000000\n",
       "9306           other  11 BHK      6000.0  12.0  150.0   11     2500.000000\n",
       "9637           other  13 BHK      5425.0  13.0  275.0   13     5069.124424"
      ],
      "text/html": "<div>\n<style scoped>\n    .dataframe tbody tr th:only-of-type {\n        vertical-align: middle;\n    }\n\n    .dataframe tbody tr th {\n        vertical-align: top;\n    }\n\n    .dataframe thead th {\n        text-align: right;\n    }\n</style>\n<table border=\"1\" class=\"dataframe\">\n  <thead>\n    <tr style=\"text-align: right;\">\n      <th></th>\n      <th>location</th>\n      <th>size</th>\n      <th>total_sqft</th>\n      <th>bath</th>\n      <th>price</th>\n      <th>bhk</th>\n      <th>price_per_sqft</th>\n    </tr>\n  </thead>\n  <tbody>\n    <tr>\n      <td>5277</td>\n      <td>Neeladri Nagar</td>\n      <td>10 BHK</td>\n      <td>4000.0</td>\n      <td>12.0</td>\n      <td>160.0</td>\n      <td>10</td>\n      <td>4000.000000</td>\n    </tr>\n    <tr>\n      <td>8483</td>\n      <td>other</td>\n      <td>10 BHK</td>\n      <td>12000.0</td>\n      <td>12.0</td>\n      <td>525.0</td>\n      <td>10</td>\n      <td>4375.000000</td>\n    </tr>\n    <tr>\n      <td>8572</td>\n      <td>other</td>\n      <td>16 BHK</td>\n      <td>10000.0</td>\n      <td>16.0</td>\n      <td>550.0</td>\n      <td>16</td>\n      <td>5500.000000</td>\n    </tr>\n    <tr>\n      <td>9306</td>\n      <td>other</td>\n      <td>11 BHK</td>\n      <td>6000.0</td>\n      <td>12.0</td>\n      <td>150.0</td>\n      <td>11</td>\n      <td>2500.000000</td>\n    </tr>\n    <tr>\n      <td>9637</td>\n      <td>other</td>\n      <td>13 BHK</td>\n      <td>5425.0</td>\n      <td>13.0</td>\n      <td>275.0</td>\n      <td>13</td>\n      <td>5069.124424</td>\n    </tr>\n  </tbody>\n</table>\n</div>"
     },
     "metadata": {},
     "execution_count": 71
    }
   ],
   "source": [
    "df[df.bath>10]"
   ]
  },
  {
   "cell_type": "code",
   "execution_count": 72,
   "metadata": {},
   "outputs": [
    {
     "output_type": "execute_result",
     "data": {
      "text/plain": [
       "           location       size  total_sqft  bath   price  bhk  price_per_sqft\n",
       "1626  Chikkabanavar  4 Bedroom      2460.0   7.0    80.0    4     3252.032520\n",
       "5238     Nagasandra  4 Bedroom      7000.0   8.0   450.0    4     6428.571429\n",
       "6711    Thanisandra      3 BHK      1806.0   6.0   116.0    3     6423.034330\n",
       "8408          other      6 BHK     11338.0   9.0  1000.0    6     8819.897689"
      ],
      "text/html": "<div>\n<style scoped>\n    .dataframe tbody tr th:only-of-type {\n        vertical-align: middle;\n    }\n\n    .dataframe tbody tr th {\n        vertical-align: top;\n    }\n\n    .dataframe thead th {\n        text-align: right;\n    }\n</style>\n<table border=\"1\" class=\"dataframe\">\n  <thead>\n    <tr style=\"text-align: right;\">\n      <th></th>\n      <th>location</th>\n      <th>size</th>\n      <th>total_sqft</th>\n      <th>bath</th>\n      <th>price</th>\n      <th>bhk</th>\n      <th>price_per_sqft</th>\n    </tr>\n  </thead>\n  <tbody>\n    <tr>\n      <td>1626</td>\n      <td>Chikkabanavar</td>\n      <td>4 Bedroom</td>\n      <td>2460.0</td>\n      <td>7.0</td>\n      <td>80.0</td>\n      <td>4</td>\n      <td>3252.032520</td>\n    </tr>\n    <tr>\n      <td>5238</td>\n      <td>Nagasandra</td>\n      <td>4 Bedroom</td>\n      <td>7000.0</td>\n      <td>8.0</td>\n      <td>450.0</td>\n      <td>4</td>\n      <td>6428.571429</td>\n    </tr>\n    <tr>\n      <td>6711</td>\n      <td>Thanisandra</td>\n      <td>3 BHK</td>\n      <td>1806.0</td>\n      <td>6.0</td>\n      <td>116.0</td>\n      <td>3</td>\n      <td>6423.034330</td>\n    </tr>\n    <tr>\n      <td>8408</td>\n      <td>other</td>\n      <td>6 BHK</td>\n      <td>11338.0</td>\n      <td>9.0</td>\n      <td>1000.0</td>\n      <td>6</td>\n      <td>8819.897689</td>\n    </tr>\n  </tbody>\n</table>\n</div>"
     },
     "metadata": {},
     "execution_count": 72
    }
   ],
   "source": [
    "df[df.bath>df.bhk+2]"
   ]
  },
  {
   "cell_type": "code",
   "execution_count": 73,
   "metadata": {},
   "outputs": [
    {
     "output_type": "execute_result",
     "data": {
      "text/plain": [
       "(7239, 7)"
      ]
     },
     "metadata": {},
     "execution_count": 73
    }
   ],
   "source": [
    "df = df[df.bath<df.bhk+2]\n",
    "df.shape"
   ]
  },
  {
   "cell_type": "code",
   "execution_count": 74,
   "metadata": {},
   "outputs": [
    {
     "output_type": "execute_result",
     "data": {
      "text/plain": [
       "              location  total_sqft  bath  price  bhk\n",
       "0  1st Block Jayanagar      2850.0   4.0  428.0    4\n",
       "1  1st Block Jayanagar      1630.0   3.0  194.0    3\n",
       "2  1st Block Jayanagar      1875.0   2.0  235.0    3"
      ],
      "text/html": "<div>\n<style scoped>\n    .dataframe tbody tr th:only-of-type {\n        vertical-align: middle;\n    }\n\n    .dataframe tbody tr th {\n        vertical-align: top;\n    }\n\n    .dataframe thead th {\n        text-align: right;\n    }\n</style>\n<table border=\"1\" class=\"dataframe\">\n  <thead>\n    <tr style=\"text-align: right;\">\n      <th></th>\n      <th>location</th>\n      <th>total_sqft</th>\n      <th>bath</th>\n      <th>price</th>\n      <th>bhk</th>\n    </tr>\n  </thead>\n  <tbody>\n    <tr>\n      <td>0</td>\n      <td>1st Block Jayanagar</td>\n      <td>2850.0</td>\n      <td>4.0</td>\n      <td>428.0</td>\n      <td>4</td>\n    </tr>\n    <tr>\n      <td>1</td>\n      <td>1st Block Jayanagar</td>\n      <td>1630.0</td>\n      <td>3.0</td>\n      <td>194.0</td>\n      <td>3</td>\n    </tr>\n    <tr>\n      <td>2</td>\n      <td>1st Block Jayanagar</td>\n      <td>1875.0</td>\n      <td>2.0</td>\n      <td>235.0</td>\n      <td>3</td>\n    </tr>\n  </tbody>\n</table>\n</div>"
     },
     "metadata": {},
     "execution_count": 74
    }
   ],
   "source": [
    "df = df.drop(['size','price_per_sqft'],axis='columns')\n",
    "df.head(3)"
   ]
  },
  {
   "cell_type": "code",
   "execution_count": 75,
   "metadata": {},
   "outputs": [
    {
     "output_type": "execute_result",
     "data": {
      "text/plain": [
       "2.0     4188\n",
       "3.0     1763\n",
       "1.0      568\n",
       "4.0      499\n",
       "5.0      155\n",
       "6.0       38\n",
       "7.0       10\n",
       "8.0        9\n",
       "9.0        6\n",
       "13.0       1\n",
       "12.0       1\n",
       "16.0       1\n",
       "Name: bath, dtype: int64"
      ]
     },
     "metadata": {},
     "execution_count": 75
    }
   ],
   "source": [
    "df.bath.value_counts()"
   ]
  },
  {
   "cell_type": "code",
   "execution_count": 76,
   "metadata": {},
   "outputs": [
    {
     "output_type": "execute_result",
     "data": {
      "text/plain": [
       "       1st Phase JP Nagar  2nd Phase Judicial Layout  2nd Stage Nagarbhavi  \\\n",
       "0                       0                          0                     0   \n",
       "1                       0                          0                     0   \n",
       "2                       0                          0                     0   \n",
       "3                       0                          0                     0   \n",
       "4                       0                          0                     0   \n",
       "...                   ...                        ...                   ...   \n",
       "10233                   0                          0                     0   \n",
       "10234                   0                          0                     0   \n",
       "10237                   0                          0                     0   \n",
       "10238                   0                          0                     0   \n",
       "10241                   0                          0                     0   \n",
       "\n",
       "       5th Block Hbr Layout  5th Phase JP Nagar  6th Phase JP Nagar  \\\n",
       "0                         0                   0                   0   \n",
       "1                         0                   0                   0   \n",
       "2                         0                   0                   0   \n",
       "3                         0                   0                   0   \n",
       "4                         0                   0                   0   \n",
       "...                     ...                 ...                 ...   \n",
       "10233                     0                   0                   0   \n",
       "10234                     0                   0                   0   \n",
       "10237                     0                   0                   0   \n",
       "10238                     0                   0                   0   \n",
       "10241                     0                   0                   0   \n",
       "\n",
       "       7th Phase JP Nagar  8th Phase JP Nagar  9th Phase JP Nagar  \\\n",
       "0                       0                   0                   0   \n",
       "1                       0                   0                   0   \n",
       "2                       0                   0                   0   \n",
       "3                       0                   0                   0   \n",
       "4                       0                   0                   0   \n",
       "...                   ...                 ...                 ...   \n",
       "10233                   0                   0                   0   \n",
       "10234                   0                   0                   0   \n",
       "10237                   0                   0                   0   \n",
       "10238                   0                   0                   0   \n",
       "10241                   0                   0                   0   \n",
       "\n",
       "       AECS Layout  ...  Vishveshwarya Layout  Vishwapriya Layout  \\\n",
       "0                0  ...                     0                   0   \n",
       "1                0  ...                     0                   0   \n",
       "2                0  ...                     0                   0   \n",
       "3                0  ...                     0                   0   \n",
       "4                0  ...                     0                   0   \n",
       "...            ...  ...                   ...                 ...   \n",
       "10233            0  ...                     0                   0   \n",
       "10234            0  ...                     0                   0   \n",
       "10237            0  ...                     0                   0   \n",
       "10238            0  ...                     0                   0   \n",
       "10241            0  ...                     0                   0   \n",
       "\n",
       "       Vittasandra  Whitefield  Yelachenahalli  Yelahanka  Yelahanka New Town  \\\n",
       "0                0           0               0          0                   0   \n",
       "1                0           0               0          0                   0   \n",
       "2                0           0               0          0                   0   \n",
       "3                0           0               0          0                   0   \n",
       "4                0           0               0          0                   0   \n",
       "...            ...         ...             ...        ...                 ...   \n",
       "10233            0           0               0          0                   0   \n",
       "10234            0           0               0          0                   0   \n",
       "10237            0           0               0          0                   0   \n",
       "10238            0           0               0          0                   0   \n",
       "10241            0           0               0          0                   0   \n",
       "\n",
       "       Yelenahalli  Yeshwanthpur  other  \n",
       "0                0             0      0  \n",
       "1                0             0      0  \n",
       "2                0             0      0  \n",
       "3                0             0      0  \n",
       "4                0             0      0  \n",
       "...            ...           ...    ...  \n",
       "10233            0             0      1  \n",
       "10234            0             0      1  \n",
       "10237            0             0      1  \n",
       "10238            0             0      1  \n",
       "10241            0             0      1  \n",
       "\n",
       "[7239 rows x 240 columns]"
      ],
      "text/html": "<div>\n<style scoped>\n    .dataframe tbody tr th:only-of-type {\n        vertical-align: middle;\n    }\n\n    .dataframe tbody tr th {\n        vertical-align: top;\n    }\n\n    .dataframe thead th {\n        text-align: right;\n    }\n</style>\n<table border=\"1\" class=\"dataframe\">\n  <thead>\n    <tr style=\"text-align: right;\">\n      <th></th>\n      <th>1st Phase JP Nagar</th>\n      <th>2nd Phase Judicial Layout</th>\n      <th>2nd Stage Nagarbhavi</th>\n      <th>5th Block Hbr Layout</th>\n      <th>5th Phase JP Nagar</th>\n      <th>6th Phase JP Nagar</th>\n      <th>7th Phase JP Nagar</th>\n      <th>8th Phase JP Nagar</th>\n      <th>9th Phase JP Nagar</th>\n      <th>AECS Layout</th>\n      <th>...</th>\n      <th>Vishveshwarya Layout</th>\n      <th>Vishwapriya Layout</th>\n      <th>Vittasandra</th>\n      <th>Whitefield</th>\n      <th>Yelachenahalli</th>\n      <th>Yelahanka</th>\n      <th>Yelahanka New Town</th>\n      <th>Yelenahalli</th>\n      <th>Yeshwanthpur</th>\n      <th>other</th>\n    </tr>\n  </thead>\n  <tbody>\n    <tr>\n      <td>0</td>\n      <td>0</td>\n      <td>0</td>\n      <td>0</td>\n      <td>0</td>\n      <td>0</td>\n      <td>0</td>\n      <td>0</td>\n      <td>0</td>\n      <td>0</td>\n      <td>0</td>\n      <td>...</td>\n      <td>0</td>\n      <td>0</td>\n      <td>0</td>\n      <td>0</td>\n      <td>0</td>\n      <td>0</td>\n      <td>0</td>\n      <td>0</td>\n      <td>0</td>\n      <td>0</td>\n    </tr>\n    <tr>\n      <td>1</td>\n      <td>0</td>\n      <td>0</td>\n      <td>0</td>\n      <td>0</td>\n      <td>0</td>\n      <td>0</td>\n      <td>0</td>\n      <td>0</td>\n      <td>0</td>\n      <td>0</td>\n      <td>...</td>\n      <td>0</td>\n      <td>0</td>\n      <td>0</td>\n      <td>0</td>\n      <td>0</td>\n      <td>0</td>\n      <td>0</td>\n      <td>0</td>\n      <td>0</td>\n      <td>0</td>\n    </tr>\n    <tr>\n      <td>2</td>\n      <td>0</td>\n      <td>0</td>\n      <td>0</td>\n      <td>0</td>\n      <td>0</td>\n      <td>0</td>\n      <td>0</td>\n      <td>0</td>\n      <td>0</td>\n      <td>0</td>\n      <td>...</td>\n      <td>0</td>\n      <td>0</td>\n      <td>0</td>\n      <td>0</td>\n      <td>0</td>\n      <td>0</td>\n      <td>0</td>\n      <td>0</td>\n      <td>0</td>\n      <td>0</td>\n    </tr>\n    <tr>\n      <td>3</td>\n      <td>0</td>\n      <td>0</td>\n      <td>0</td>\n      <td>0</td>\n      <td>0</td>\n      <td>0</td>\n      <td>0</td>\n      <td>0</td>\n      <td>0</td>\n      <td>0</td>\n      <td>...</td>\n      <td>0</td>\n      <td>0</td>\n      <td>0</td>\n      <td>0</td>\n      <td>0</td>\n      <td>0</td>\n      <td>0</td>\n      <td>0</td>\n      <td>0</td>\n      <td>0</td>\n    </tr>\n    <tr>\n      <td>4</td>\n      <td>0</td>\n      <td>0</td>\n      <td>0</td>\n      <td>0</td>\n      <td>0</td>\n      <td>0</td>\n      <td>0</td>\n      <td>0</td>\n      <td>0</td>\n      <td>0</td>\n      <td>...</td>\n      <td>0</td>\n      <td>0</td>\n      <td>0</td>\n      <td>0</td>\n      <td>0</td>\n      <td>0</td>\n      <td>0</td>\n      <td>0</td>\n      <td>0</td>\n      <td>0</td>\n    </tr>\n    <tr>\n      <td>...</td>\n      <td>...</td>\n      <td>...</td>\n      <td>...</td>\n      <td>...</td>\n      <td>...</td>\n      <td>...</td>\n      <td>...</td>\n      <td>...</td>\n      <td>...</td>\n      <td>...</td>\n      <td>...</td>\n      <td>...</td>\n      <td>...</td>\n      <td>...</td>\n      <td>...</td>\n      <td>...</td>\n      <td>...</td>\n      <td>...</td>\n      <td>...</td>\n      <td>...</td>\n      <td>...</td>\n    </tr>\n    <tr>\n      <td>10233</td>\n      <td>0</td>\n      <td>0</td>\n      <td>0</td>\n      <td>0</td>\n      <td>0</td>\n      <td>0</td>\n      <td>0</td>\n      <td>0</td>\n      <td>0</td>\n      <td>0</td>\n      <td>...</td>\n      <td>0</td>\n      <td>0</td>\n      <td>0</td>\n      <td>0</td>\n      <td>0</td>\n      <td>0</td>\n      <td>0</td>\n      <td>0</td>\n      <td>0</td>\n      <td>1</td>\n    </tr>\n    <tr>\n      <td>10234</td>\n      <td>0</td>\n      <td>0</td>\n      <td>0</td>\n      <td>0</td>\n      <td>0</td>\n      <td>0</td>\n      <td>0</td>\n      <td>0</td>\n      <td>0</td>\n      <td>0</td>\n      <td>...</td>\n      <td>0</td>\n      <td>0</td>\n      <td>0</td>\n      <td>0</td>\n      <td>0</td>\n      <td>0</td>\n      <td>0</td>\n      <td>0</td>\n      <td>0</td>\n      <td>1</td>\n    </tr>\n    <tr>\n      <td>10237</td>\n      <td>0</td>\n      <td>0</td>\n      <td>0</td>\n      <td>0</td>\n      <td>0</td>\n      <td>0</td>\n      <td>0</td>\n      <td>0</td>\n      <td>0</td>\n      <td>0</td>\n      <td>...</td>\n      <td>0</td>\n      <td>0</td>\n      <td>0</td>\n      <td>0</td>\n      <td>0</td>\n      <td>0</td>\n      <td>0</td>\n      <td>0</td>\n      <td>0</td>\n      <td>1</td>\n    </tr>\n    <tr>\n      <td>10238</td>\n      <td>0</td>\n      <td>0</td>\n      <td>0</td>\n      <td>0</td>\n      <td>0</td>\n      <td>0</td>\n      <td>0</td>\n      <td>0</td>\n      <td>0</td>\n      <td>0</td>\n      <td>...</td>\n      <td>0</td>\n      <td>0</td>\n      <td>0</td>\n      <td>0</td>\n      <td>0</td>\n      <td>0</td>\n      <td>0</td>\n      <td>0</td>\n      <td>0</td>\n      <td>1</td>\n    </tr>\n    <tr>\n      <td>10241</td>\n      <td>0</td>\n      <td>0</td>\n      <td>0</td>\n      <td>0</td>\n      <td>0</td>\n      <td>0</td>\n      <td>0</td>\n      <td>0</td>\n      <td>0</td>\n      <td>0</td>\n      <td>...</td>\n      <td>0</td>\n      <td>0</td>\n      <td>0</td>\n      <td>0</td>\n      <td>0</td>\n      <td>0</td>\n      <td>0</td>\n      <td>0</td>\n      <td>0</td>\n      <td>1</td>\n    </tr>\n  </tbody>\n</table>\n<p>7239 rows × 240 columns</p>\n</div>"
     },
     "metadata": {},
     "execution_count": 76
    }
   ],
   "source": [
    "loc = pd.get_dummies(df['location'],drop_first=True)\n",
    "loc"
   ]
  },
  {
   "cell_type": "code",
   "execution_count": 77,
   "metadata": {},
   "outputs": [],
   "source": [
    "df = pd.concat([df,loc],axis=1)"
   ]
  },
  {
   "cell_type": "code",
   "execution_count": 78,
   "metadata": {},
   "outputs": [
    {
     "output_type": "execute_result",
     "data": {
      "text/plain": [
       "              location  total_sqft  bath  price  bhk  1st Phase JP Nagar  \\\n",
       "0  1st Block Jayanagar      2850.0   4.0  428.0    4                   0   \n",
       "1  1st Block Jayanagar      1630.0   3.0  194.0    3                   0   \n",
       "2  1st Block Jayanagar      1875.0   2.0  235.0    3                   0   \n",
       "3  1st Block Jayanagar      1200.0   2.0  130.0    3                   0   \n",
       "4  1st Block Jayanagar      1235.0   2.0  148.0    2                   0   \n",
       "\n",
       "   2nd Phase Judicial Layout  2nd Stage Nagarbhavi  5th Block Hbr Layout  \\\n",
       "0                          0                     0                     0   \n",
       "1                          0                     0                     0   \n",
       "2                          0                     0                     0   \n",
       "3                          0                     0                     0   \n",
       "4                          0                     0                     0   \n",
       "\n",
       "   5th Phase JP Nagar  ...  Vishveshwarya Layout  Vishwapriya Layout  \\\n",
       "0                   0  ...                     0                   0   \n",
       "1                   0  ...                     0                   0   \n",
       "2                   0  ...                     0                   0   \n",
       "3                   0  ...                     0                   0   \n",
       "4                   0  ...                     0                   0   \n",
       "\n",
       "   Vittasandra  Whitefield  Yelachenahalli  Yelahanka  Yelahanka New Town  \\\n",
       "0            0           0               0          0                   0   \n",
       "1            0           0               0          0                   0   \n",
       "2            0           0               0          0                   0   \n",
       "3            0           0               0          0                   0   \n",
       "4            0           0               0          0                   0   \n",
       "\n",
       "   Yelenahalli  Yeshwanthpur  other  \n",
       "0            0             0      0  \n",
       "1            0             0      0  \n",
       "2            0             0      0  \n",
       "3            0             0      0  \n",
       "4            0             0      0  \n",
       "\n",
       "[5 rows x 245 columns]"
      ],
      "text/html": "<div>\n<style scoped>\n    .dataframe tbody tr th:only-of-type {\n        vertical-align: middle;\n    }\n\n    .dataframe tbody tr th {\n        vertical-align: top;\n    }\n\n    .dataframe thead th {\n        text-align: right;\n    }\n</style>\n<table border=\"1\" class=\"dataframe\">\n  <thead>\n    <tr style=\"text-align: right;\">\n      <th></th>\n      <th>location</th>\n      <th>total_sqft</th>\n      <th>bath</th>\n      <th>price</th>\n      <th>bhk</th>\n      <th>1st Phase JP Nagar</th>\n      <th>2nd Phase Judicial Layout</th>\n      <th>2nd Stage Nagarbhavi</th>\n      <th>5th Block Hbr Layout</th>\n      <th>5th Phase JP Nagar</th>\n      <th>...</th>\n      <th>Vishveshwarya Layout</th>\n      <th>Vishwapriya Layout</th>\n      <th>Vittasandra</th>\n      <th>Whitefield</th>\n      <th>Yelachenahalli</th>\n      <th>Yelahanka</th>\n      <th>Yelahanka New Town</th>\n      <th>Yelenahalli</th>\n      <th>Yeshwanthpur</th>\n      <th>other</th>\n    </tr>\n  </thead>\n  <tbody>\n    <tr>\n      <td>0</td>\n      <td>1st Block Jayanagar</td>\n      <td>2850.0</td>\n      <td>4.0</td>\n      <td>428.0</td>\n      <td>4</td>\n      <td>0</td>\n      <td>0</td>\n      <td>0</td>\n      <td>0</td>\n      <td>0</td>\n      <td>...</td>\n      <td>0</td>\n      <td>0</td>\n      <td>0</td>\n      <td>0</td>\n      <td>0</td>\n      <td>0</td>\n      <td>0</td>\n      <td>0</td>\n      <td>0</td>\n      <td>0</td>\n    </tr>\n    <tr>\n      <td>1</td>\n      <td>1st Block Jayanagar</td>\n      <td>1630.0</td>\n      <td>3.0</td>\n      <td>194.0</td>\n      <td>3</td>\n      <td>0</td>\n      <td>0</td>\n      <td>0</td>\n      <td>0</td>\n      <td>0</td>\n      <td>...</td>\n      <td>0</td>\n      <td>0</td>\n      <td>0</td>\n      <td>0</td>\n      <td>0</td>\n      <td>0</td>\n      <td>0</td>\n      <td>0</td>\n      <td>0</td>\n      <td>0</td>\n    </tr>\n    <tr>\n      <td>2</td>\n      <td>1st Block Jayanagar</td>\n      <td>1875.0</td>\n      <td>2.0</td>\n      <td>235.0</td>\n      <td>3</td>\n      <td>0</td>\n      <td>0</td>\n      <td>0</td>\n      <td>0</td>\n      <td>0</td>\n      <td>...</td>\n      <td>0</td>\n      <td>0</td>\n      <td>0</td>\n      <td>0</td>\n      <td>0</td>\n      <td>0</td>\n      <td>0</td>\n      <td>0</td>\n      <td>0</td>\n      <td>0</td>\n    </tr>\n    <tr>\n      <td>3</td>\n      <td>1st Block Jayanagar</td>\n      <td>1200.0</td>\n      <td>2.0</td>\n      <td>130.0</td>\n      <td>3</td>\n      <td>0</td>\n      <td>0</td>\n      <td>0</td>\n      <td>0</td>\n      <td>0</td>\n      <td>...</td>\n      <td>0</td>\n      <td>0</td>\n      <td>0</td>\n      <td>0</td>\n      <td>0</td>\n      <td>0</td>\n      <td>0</td>\n      <td>0</td>\n      <td>0</td>\n      <td>0</td>\n    </tr>\n    <tr>\n      <td>4</td>\n      <td>1st Block Jayanagar</td>\n      <td>1235.0</td>\n      <td>2.0</td>\n      <td>148.0</td>\n      <td>2</td>\n      <td>0</td>\n      <td>0</td>\n      <td>0</td>\n      <td>0</td>\n      <td>0</td>\n      <td>...</td>\n      <td>0</td>\n      <td>0</td>\n      <td>0</td>\n      <td>0</td>\n      <td>0</td>\n      <td>0</td>\n      <td>0</td>\n      <td>0</td>\n      <td>0</td>\n      <td>0</td>\n    </tr>\n  </tbody>\n</table>\n<p>5 rows × 245 columns</p>\n</div>"
     },
     "metadata": {},
     "execution_count": 78
    }
   ],
   "source": [
    "df.head()"
   ]
  },
  {
   "cell_type": "code",
   "execution_count": 79,
   "metadata": {},
   "outputs": [
    {
     "output_type": "execute_result",
     "data": {
      "text/plain": [
       "(7239, 244)"
      ]
     },
     "metadata": {},
     "execution_count": 79
    }
   ],
   "source": [
    "df = df.drop('location', axis=1)\n",
    "df.shape"
   ]
  },
  {
   "cell_type": "code",
   "execution_count": 45,
   "metadata": {},
   "outputs": [
    {
     "output_type": "execute_result",
     "data": {
      "text/plain": [
       "(7239, 243)"
      ]
     },
     "metadata": {},
     "execution_count": 45
    }
   ],
   "source": [
    "df = df.drop('other', axis=1)\n",
    "df.shape"
   ]
  },
  {
   "cell_type": "code",
   "execution_count": 80,
   "metadata": {},
   "outputs": [
    {
     "output_type": "execute_result",
     "data": {
      "text/plain": [
       "Index(['total_sqft', 'bath', 'price', 'bhk', '1st Phase JP Nagar',\n",
       "       '2nd Phase Judicial Layout', '2nd Stage Nagarbhavi',\n",
       "       '5th Block Hbr Layout', '5th Phase JP Nagar', '6th Phase JP Nagar',\n",
       "       ...\n",
       "       'Vishveshwarya Layout', 'Vishwapriya Layout', 'Vittasandra',\n",
       "       'Whitefield', 'Yelachenahalli', 'Yelahanka', 'Yelahanka New Town',\n",
       "       'Yelenahalli', 'Yeshwanthpur', 'other'],\n",
       "      dtype='object', length=244)"
      ]
     },
     "metadata": {},
     "execution_count": 80
    }
   ],
   "source": [
    "df.columns"
   ]
  },
  {
   "cell_type": "code",
   "execution_count": 81,
   "metadata": {},
   "outputs": [],
   "source": [
    "X = df.drop('price',axis=1)\n",
    "\n",
    "y = df['price']"
   ]
  },
  {
   "cell_type": "code",
   "execution_count": 82,
   "metadata": {},
   "outputs": [],
   "source": [
    "from sklearn.model_selection import train_test_split\n",
    "\n",
    "X_train, X_test, y_train, y_test = train_test_split(X, y, test_size=0.2, random_state=10)"
   ]
  },
  {
   "cell_type": "code",
   "execution_count": 83,
   "metadata": {},
   "outputs": [],
   "source": [
    "import warnings\n",
    "warnings.filterwarnings(\"ignore\")"
   ]
  },
  {
   "cell_type": "code",
   "execution_count": 84,
   "metadata": {},
   "outputs": [
    {
     "output_type": "execute_result",
     "data": {
      "text/plain": [
       "LinearRegression()"
      ]
     },
     "metadata": {},
     "execution_count": 84
    }
   ],
   "source": [
    "#Linear Regression\n",
    "from sklearn.linear_model import LinearRegression\n",
    "linear = LinearRegression()\n",
    "linear.fit(X_train,y_train) "
   ]
  },
  {
   "cell_type": "code",
   "execution_count": 85,
   "metadata": {},
   "outputs": [
    {
     "output_type": "execute_result",
     "data": {
      "text/plain": [
       "array([123.68919775,  79.12643295,  76.7573612 , ...,  58.55465139,\n",
       "        99.4418541 , 135.74127115])"
      ]
     },
     "metadata": {},
     "execution_count": 85
    }
   ],
   "source": [
    "linear_pred = linear.predict(X_test)\n",
    "linear_pred"
   ]
  },
  {
   "cell_type": "code",
   "execution_count": 86,
   "metadata": {},
   "outputs": [
    {
     "output_type": "stream",
     "name": "stdout",
     "text": [
      "16.155431156699656\n711.0563858518601\n26.665640548313483\n0.862913224522934\n"
     ]
    }
   ],
   "source": [
    "from sklearn import metrics\n",
    "from sklearn.metrics import r2_score\n",
    "print(metrics.mean_absolute_error(y_test, linear_pred))\n",
    "print(metrics.mean_squared_error(y_test, linear_pred))\n",
    "print(np.sqrt(metrics.mean_squared_error(y_test, linear_pred)))\n",
    "print(r2_score(y_test, linear_pred))"
   ]
  },
  {
   "cell_type": "code",
   "execution_count": 88,
   "metadata": {},
   "outputs": [
    {
     "output_type": "execute_result",
     "data": {
      "text/plain": [
       "Ridge()"
      ]
     },
     "metadata": {},
     "execution_count": 88
    }
   ],
   "source": [
    "#Ridge Regression\n",
    "from sklearn.linear_model import Ridge\n",
    "ridge = Ridge()\n",
    "ridge.fit(X_train, y_train)"
   ]
  },
  {
   "cell_type": "code",
   "execution_count": 89,
   "metadata": {},
   "outputs": [
    {
     "output_type": "execute_result",
     "data": {
      "text/plain": [
       "array([123.63638888,  78.37002511,  76.03459785, ...,  58.49396785,\n",
       "        99.02825609, 136.2172509 ])"
      ]
     },
     "metadata": {},
     "execution_count": 89
    }
   ],
   "source": [
    "ridge_pred = ridge.predict(X_test)\n",
    "ridge_pred"
   ]
  },
  {
   "cell_type": "code",
   "execution_count": 90,
   "metadata": {},
   "outputs": [
    {
     "output_type": "stream",
     "name": "stdout",
     "text": [
      "16.159084961787137\n730.7518193666626\n27.03242163341388\n0.8591160805468868\n"
     ]
    }
   ],
   "source": [
    "print(metrics.mean_absolute_error(y_test, ridge_pred))\n",
    "print(metrics.mean_squared_error(y_test, ridge_pred))\n",
    "print(np.sqrt(metrics.mean_squared_error(y_test, ridge_pred)))\n",
    "print(r2_score(y_test, ridge_pred))"
   ]
  },
  {
   "cell_type": "code",
   "execution_count": 56,
   "metadata": {},
   "outputs": [
    {
     "output_type": "execute_result",
     "data": {
      "text/plain": [
       "Lasso()"
      ]
     },
     "metadata": {},
     "execution_count": 56
    }
   ],
   "source": [
    "#Lasso\n",
    "from sklearn.linear_model import Lasso\n",
    "lasso = Lasso()\n",
    "lasso.fit(X_train, y_train)"
   ]
  },
  {
   "cell_type": "code",
   "execution_count": 57,
   "metadata": {},
   "outputs": [
    {
     "output_type": "execute_result",
     "data": {
      "text/plain": [
       "array([100.06642662,  67.31707261,  61.06777512, ...,  64.19242387,\n",
       "        74.0127485 , 144.88281723])"
      ]
     },
     "metadata": {},
     "execution_count": 57
    }
   ],
   "source": [
    "lasso_pred = lasso.predict(X_test)\n",
    "lasso_pred"
   ]
  },
  {
   "cell_type": "code",
   "execution_count": 58,
   "metadata": {},
   "outputs": [
    {
     "output_type": "stream",
     "name": "stdout",
     "text": [
      "23.157751000677237\n1460.2194454865455\n38.21281781662464\n0.7184797447099163\n"
     ]
    }
   ],
   "source": [
    "print(metrics.mean_absolute_error(y_test, lasso_pred))\n",
    "print(metrics.mean_squared_error(y_test, lasso_pred))\n",
    "print(np.sqrt(metrics.mean_squared_error(y_test, lasso_pred)))\n",
    "print(r2_score(y_test, lasso_pred))"
   ]
  },
  {
   "cell_type": "code",
   "execution_count": 59,
   "metadata": {},
   "outputs": [
    {
     "output_type": "execute_result",
     "data": {
      "text/plain": [
       "DecisionTreeRegressor()"
      ]
     },
     "metadata": {},
     "execution_count": 59
    }
   ],
   "source": [
    "#Decision Tree Regressor\n",
    "from sklearn.tree import DecisionTreeRegressor\n",
    "dtree_reg = DecisionTreeRegressor()\n",
    "dtree_reg.fit(X_train, y_train)"
   ]
  },
  {
   "cell_type": "code",
   "execution_count": 60,
   "metadata": {},
   "outputs": [],
   "source": [
    "dtree_pred = dtree_reg.predict(X_test)"
   ]
  },
  {
   "cell_type": "code",
   "execution_count": 61,
   "metadata": {},
   "outputs": [
    {
     "output_type": "stream",
     "name": "stdout",
     "text": [
      "1544.9176768102968\n39.30544080417235\n0.7021505088689731\n"
     ]
    }
   ],
   "source": [
    "print(metrics.mean_squared_error(y_test, dtree_pred))\n",
    "print(np.sqrt(metrics.mean_squared_error(y_test, dtree_pred)))\n",
    "print(r2_score(y_test, dtree_pred))"
   ]
  },
  {
   "cell_type": "code",
   "execution_count": 62,
   "metadata": {},
   "outputs": [
    {
     "output_type": "execute_result",
     "data": {
      "text/plain": [
       "RandomForestRegressor()"
      ]
     },
     "metadata": {},
     "execution_count": 62
    }
   ],
   "source": [
    "#Rnadom Forest Regressor\n",
    "from sklearn.ensemble import RandomForestRegressor\n",
    "rf_reg = RandomForestRegressor()\n",
    "rf_reg.fit(X_train, y_train)"
   ]
  },
  {
   "cell_type": "code",
   "execution_count": 63,
   "metadata": {},
   "outputs": [],
   "source": [
    "rf_pred = rf_reg.predict(X_test)"
   ]
  },
  {
   "cell_type": "code",
   "execution_count": 64,
   "metadata": {},
   "outputs": [
    {
     "output_type": "stream",
     "name": "stdout",
     "text": [
      "1147.3475621284654\n33.872519276376025\n0.7787992896579756\n"
     ]
    }
   ],
   "source": [
    "print(metrics.mean_squared_error(y_test, rf_pred))\n",
    "print(np.sqrt(metrics.mean_squared_error(y_test, rf_pred)))\n",
    "print(r2_score(y_test, rf_pred))"
   ]
  },
  {
   "cell_type": "code",
   "execution_count": 65,
   "metadata": {},
   "outputs": [
    {
     "output_type": "execute_result",
     "data": {
      "text/plain": [
       "array([0.8248176 , 0.85755733, 0.85341653, 0.8424941 , 0.85170927])"
      ]
     },
     "metadata": {},
     "execution_count": 65
    }
   ],
   "source": [
    "#cross validation to check generalized model among all \n",
    "from sklearn.model_selection import ShuffleSplit\n",
    "from sklearn.model_selection import cross_val_score\n",
    "\n",
    "cv = ShuffleSplit(n_splits=5, test_size=0.2, random_state=0)\n",
    "\n",
    "cross_val_score(LinearRegression(), X, y, cv=cv)"
   ]
  },
  {
   "cell_type": "code",
   "execution_count": 66,
   "metadata": {},
   "outputs": [],
   "source": [
    "def predict_price(location,sqft,bath,bhk):    \n",
    "    loc_index = np.where(X.columns==location)[0][0]\n",
    "\n",
    "    x = np.zeros(len(X.columns))\n",
    "    x[0] = sqft\n",
    "    x[1] = bath\n",
    "    x[2] = bhk\n",
    "    if loc_index >= 0:\n",
    "        x[loc_index] = 1\n",
    "\n",
    "    return linear.predict([x])[0]"
   ]
  },
  {
   "cell_type": "code",
   "execution_count": 208,
   "metadata": {},
   "outputs": [
    {
     "output_type": "execute_result",
     "data": {
      "text/plain": [
       "67.00324183859345"
      ]
     },
     "metadata": {},
     "execution_count": 208
    }
   ],
   "source": [
    "predict_price('Electronic City',1200, 3, 3)"
   ]
  },
  {
   "cell_type": "code",
   "execution_count": 204,
   "metadata": {},
   "outputs": [],
   "source": [
    "#Saving the model\n",
    "import joblib\n",
    "joblib.dump(linear, open('model.pkl', 'wb'))"
   ]
  },
  {
   "cell_type": "code",
   "execution_count": null,
   "metadata": {},
   "outputs": [],
   "source": []
  }
 ]
}